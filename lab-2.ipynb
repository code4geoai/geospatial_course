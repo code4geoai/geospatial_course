{
 "cells": [
  {
   "cell_type": "markdown",
   "id": "4e518014-2c61-46a4-b5bc-12154b6deeae",
   "metadata": {},
   "source": [
    "### Exercise 1: Manipulating Geographic Location Strings\n",
    "\n",
    "Create a string that represents the name of a geographic feature (e.g., \"Amazon River\").\n",
    "\n",
    "Convert the string to lowercase and then to uppercase.\n",
    "\n",
    "Concatenate the string with the name of the country (e.g., \"Brazil\") to create a full location name.\n",
    "\n",
    "Repeat the string three times, separating each repetition with a dash (-)."
   ]
  },
  {
   "cell_type": "code",
   "execution_count": 8,
   "id": "bfb7bff9-818e-49b7-aaa2-36229abc9d84",
   "metadata": {},
   "outputs": [
    {
     "name": "stdout",
     "output_type": "stream",
     "text": [
      "Full Location Name: Brazil, Amazon River\n",
      "Full Location Name: Brazil - Amazon River\n",
      "Full Location Name: Brazil - Amazon River\n",
      "Full Location Name: Brazil - Amazon River\n",
      "\n"
     ]
    }
   ],
   "source": [
    "rivername = \"Amazon River\"\n",
    "rivername.lower()\n",
    "rivername.upper()\n",
    "country = \"Brazil\"\n",
    "print(f\"Full Location Name: {country}, {rivername}\")\n",
    "print(f\"Full Location Name: {country} - {rivername}\\n\"*3)"
   ]
  },
  {
   "cell_type": "markdown",
   "id": "37f7ede5-eb8c-42b0-a679-47670ce980ee",
   "metadata": {},
   "source": [
    "### Exercise 2: Extracting and Formatting Coordinates\n",
    "\n",
    "Given a string with the format \"latitude, longitude\" (e.g., \"40.7128N, 74.0060W\"), extract the numeric values of latitude and longitude.\n",
    "\n",
    "Convert these values to floats and remove the directional indicators (N, S, E, W).\n",
    "\n",
    "Format the coordinates into a POINT WKT string (e.g., \"POINT(-74.0060 40.7128)\")."
   ]
  },
  {
   "cell_type": "code",
   "execution_count": 35,
   "id": "161f3b1e-2f6d-4008-9d8f-64a9c040991a",
   "metadata": {},
   "outputs": [
    {
     "data": {
      "text/plain": [
       "'Point (40.7128 74.006)'"
      ]
     },
     "execution_count": 35,
     "metadata": {},
     "output_type": "execute_result"
    }
   ],
   "source": [
    "lat_lon = \"40.7128N, 74.0060W\"\n",
    "splitlatlon = lat_lon.split(\",\")\n",
    "#splitlatlon\n",
    "latitude = splitlatlon[0]\n",
    "longitude = splitlatlon[1]\n",
    "lat = float(latitude[:-1])\n",
    "lon = float(longitude[:-1])\n",
    "wkt_point = f\"Point ({lat} {lon})\"\n",
    "wkt_point"
   ]
  },
  {
   "cell_type": "markdown",
   "id": "378daa3f-0c4e-4390-9d77-578c55913997",
   "metadata": {},
   "source": [
    "### Exercise 3: Building Dynamic SQL Queries\n",
    "Given a table name and a condition, dynamically build an SQL query string.\n",
    "\n",
    "Example: If table_name = \"cities\" and condition = \"population > 1000000\", the query should be \"SELECT * FROM cities WHERE population > 1000000;\".\n",
    "\n",
    "Add additional conditions dynamically, like AND clauses."
   ]
  },
  {
   "cell_type": "code",
   "execution_count": 46,
   "id": "78e9d258-5761-4f17-ba7c-359ea643acbd",
   "metadata": {},
   "outputs": [
    {
     "name": "stdout",
     "output_type": "stream",
     "text": [
      "Select * from  cities where population > 1000000 AND annualincome < 8000\n"
     ]
    }
   ],
   "source": [
    "table_name = \"cities\"\n",
    "condition = \"population > 1000000\"\n",
    "condition_2= \"annualincome < 8000\"\n",
    " \n",
    "print (f\"Select * from  {table_name} where {condition} AND {condition_2}\")"
   ]
  },
  {
   "cell_type": "markdown",
   "id": "6b467ef1-2c23-47e5-aa02-1046684e9b92",
   "metadata": {},
   "source": [
    "### Exercise 4: String Normalization and Cleaning\n",
    "Given a list of city names with inconsistent formatting (e.g., [\" new york \", \"Los ANGELES\", \"   CHICAGO\"]), normalize the names by:\n",
    "\n",
    "Stripping any leading or trailing whitespace.\n",
    "\n",
    "Converting them to title case (e.g., \"New York\", \"Los Angeles\", \"Chicago\").\n",
    "\n",
    "Ensure that the output is a clean list of city names."
   ]
  },
  {
   "cell_type": "code",
   "execution_count": 54,
   "id": "21de0183-6b80-4085-adf0-76797906b4d6",
   "metadata": {},
   "outputs": [
    {
     "name": "stdout",
     "output_type": "stream",
     "text": [
      "Clean List of City Names: ['New York', 'Los Angeles', 'Chicago']\n"
     ]
    }
   ],
   "source": [
    "city_names =  [\" new york \", \"Los ANGELES\", \"   CHICAGO\"]\n",
    "clean_names = []\n",
    "\n",
    "for x in city_names:\n",
    "    clean_names.append(x.strip().title())\n",
    "\n",
    "print(f\"Clean List of City Names: {clean_names}\")\n",
    "    \n"
   ]
  },
  {
   "cell_type": "markdown",
   "id": "56dc8f53-83b1-45d5-8cb6-b630db29bfb0",
   "metadata": {},
   "source": [
    "### Exercise 5: Parsing and Extracting Address Information\n",
    "Given a string in the format \"Street, City, Country\" (e.g., \"123 Main St, Springfield, USA\"), write a function that parses the string into a dictionary with keys street, city, and country.\n",
    "\n",
    "The function should return a dictionary like {\"street\": \"123 Main St\", \"city\": \"Springfield\", \"country\": \"USA\"}.\n"
   ]
  },
  {
   "cell_type": "code",
   "execution_count": 62,
   "id": "8965407c-9dd8-4772-b378-96d1f8cf2552",
   "metadata": {},
   "outputs": [
    {
     "name": "stdout",
     "output_type": "stream",
     "text": [
      "The dictionary returned: {'street': '123 Main St', 'city': 'Springfield', 'country': 'USA'}\n"
     ]
    }
   ],
   "source": [
    "def address_parser(street,city,country):\n",
    "    address ={\n",
    "        \"street\": street,\n",
    "        \"city\" : city,\n",
    "        \"country\" : country\n",
    "    }\n",
    "    return (address)\n",
    "\n",
    "address=address_parser(\"123 Main St\",\"Springfield\",\"USA\")\n",
    "print(f\"The dictionary returned: {address}\")    "
   ]
  },
  {
   "cell_type": "markdown",
   "id": "05e0bbbb-fe99-4f52-9d56-8851c8eaad07",
   "metadata": {},
   "source": [
    "### Exercise 6: Using For Loops to Process Coordinate Lists\n",
    "\n",
    "Create a list of tuples representing coordinates (latitude, longitude).\n",
    "Write a for loop that prints each coordinate and indicates whether it is in the Northern or Southern Hemisphere based on the latitude."
   ]
  },
  {
   "cell_type": "code",
   "execution_count": 80,
   "id": "2baed9dd-2d9a-480a-bf4b-ed45c8dbeebf",
   "metadata": {},
   "outputs": [
    {
     "name": "stdout",
     "output_type": "stream",
     "text": [
      "Latitude: 40.7128 Longitude: 74.006 represents --> North Hemisphere\n",
      "Latitude: -74.006 Longitude: 40.7128 represents --> South Hemisphere\n"
     ]
    }
   ],
   "source": [
    "coordinates = [(40.7128, 74.0060), (-74.0060, 40.7128)]\n",
    "for x in coordinates:\n",
    "    if x[0] > 0:\n",
    "        print(f\"Latitude: {x[0]} Longitude: {x[1]} represents --> North Hemisphere\")\n",
    "    elif x[0] < 0 :\n",
    "        print(f\"Latitude: {x[0]} Longitude: {x[1]} represents --> South Hemisphere\")\n",
    "    else:\n",
    "        print(f\"Coordinates are on Equater\")"
   ]
  },
  {
   "cell_type": "markdown",
   "id": "d7b009f3-9cd2-4e2e-a910-90183a0f4c86",
   "metadata": {},
   "source": [
    "### Exercise 7: While Loops for Iterative Processing\n",
    "\n",
    "Create a list of coordinates (latitude, longitude).\n",
    "Write a while loop that continues to print each coordinate until it encounters a coordinate with a negative latitude.\n",
    "Stop the loop once this condition is met."
   ]
  },
  {
   "cell_type": "code",
   "execution_count": 88,
   "id": "fd1920f6-ce95-4809-8e9c-7ac3007f1948",
   "metadata": {},
   "outputs": [
    {
     "name": "stdout",
     "output_type": "stream",
     "text": [
      "Latitute: 34.05 Longitude: -118.25\n",
      "Latitute: 33.87 Longitude: 151.21\n"
     ]
    }
   ],
   "source": [
    "coordinates = [(34.05, -118.25), (33.87, 151.21), (-40.71, -74.01), (-12.05, -77.05)]\n",
    "\n",
    "counter = 0\n",
    "while counter < len(coordinates):\n",
    "    lat,lon = coordinates[counter]\n",
    "    if lat < 0:\n",
    "        break\n",
    "    print(f\"Latitute: {lat} Longitude: {lon}\")\n",
    "    counter +=1"
   ]
  },
  {
   "cell_type": "markdown",
   "id": "d53a46ff-0bcf-4e64-ab5b-31a0b9cf0d48",
   "metadata": {},
   "source": [
    "### Exercise 8: Conditional Logic in Loops\n",
    "Create a list of coordinates and use a for loop to iterate over them.\n",
    "\n",
    "Use an if-elif-else statement inside the loop to classify each coordinate based on its longitude:\n",
    "\n",
    "Print \"Eastern Hemisphere\" if the longitude is greater than 0.\n",
    "\n",
    "Print \"Western Hemisphere\" if the longitude is less than 0."
   ]
  },
  {
   "cell_type": "code",
   "execution_count": 103,
   "id": "ef6c4fc8-e3a1-4ff4-a51f-7cba6ac8f7b9",
   "metadata": {},
   "outputs": [
    {
     "name": "stdout",
     "output_type": "stream",
     "text": [
      "Longitude:-118.25 is less than 0 --> Western Hemisphere\n",
      "Longitude:151.21 is greater than 0 --> Eastern Hemisphere\n",
      "Longitude:-74.01 is less than 0 --> Western Hemisphere\n",
      "Longitude:-77.05 is less than 0 --> Western Hemisphere\n"
     ]
    }
   ],
   "source": [
    "coordinates = [(34.05, -118.25), (33.87, 151.21), (-40.71, -74.01), (-12.05, -77.05)]\n",
    "for coordinate in coordinates:\n",
    "    lat,lon = coordinate\n",
    "    if lon > 0:\n",
    "        print(f\"Longitude:{lon} is greater than 0 --> Eastern Hemisphere\")\n",
    "    elif lon < 0:\n",
    "        print(f\"Longitude:{lon} is less than 0 --> Western Hemisphere\")\n",
    "    else:\n",
    "        print(f\"Coordinates are on Equater\")"
   ]
  },
  {
   "cell_type": "markdown",
   "id": "4521fad6-4afe-4010-bbee-20457367b831",
   "metadata": {},
   "source": [
    "### Exercise 9: Filtering Data with Combined Loops and Conditionals\n",
    "\n",
    "Given a list of coordinates, filter out and store only those located in the Southern Hemisphere (latitude < 0).\n",
    "\n",
    "Count the number of coordinates that meet this condition and print the result."
   ]
  },
  {
   "cell_type": "code",
   "execution_count": 111,
   "id": "7ff2aecf-f32c-4b24-9943-1da155e57f8b",
   "metadata": {},
   "outputs": [
    {
     "name": "stdout",
     "output_type": "stream",
     "text": [
      "The number of coordinates located in Southern Hemisphere: 2\n",
      "The filtered and stored coordinates in Southern Hemisphere [(-40.71, -74.01), (-12.05, -77.05)]\n"
     ]
    }
   ],
   "source": [
    "coordinates = [(34.05, -118.25), (33.87, 151.21), (-40.71, -74.01), (-12.05, -77.05)]\n",
    "counter = 0\n",
    "selectedlist = []\n",
    "for coordinate in coordinates:\n",
    "    lat = coordinate[0]\n",
    "    if lat < 0:\n",
    "        selectedlist.append(coordinate)\n",
    "        counter+=1\n",
    "        \n",
    "print(f\"The number of coordinates located in Southern Hemisphere: {counter}\")\n",
    "print(f\"The filtered and stored coordinates in Southern Hemisphere {selectedlist}\")\n",
    "    \n",
    "        "
   ]
  },
  {
   "cell_type": "markdown",
   "id": "ca1d4b58-8858-47dd-a8fc-9106c03e5d1b",
   "metadata": {},
   "source": [
    "### Exercise 10: Generating and Analyzing Random Coordinates\n",
    "\n",
    "Write a program that generates random coordinates (latitude between [-90, 90] degrees and longitude between [-180, 180] degrees).\n",
    "Use a while loop to keep generating coordinates until a pair with both latitude and longitude greater than 50 is generated.\n",
    "Print each generated coordinate and the final coordinate that meets the condition.\n",
    "\n"
   ]
  },
  {
   "cell_type": "code",
   "execution_count": 186,
   "id": "176ef80c-c54b-4563-beaa-67f83671234e",
   "metadata": {},
   "outputs": [
    {
     "name": "stdout",
     "output_type": "stream",
     "text": [
      "(-15.2864,57.6884)\n",
      "(72.4070,24.0570)\n",
      "(-71.6299,114.0376)\n",
      "(-28.7478,91.5355)\n",
      "(-49.8651,-40.7842)\n",
      "(-73.8304,46.8713)\n",
      "(-41.2404,-25.1584)\n",
      "(4.1627,107.4299)\n",
      "(12.9301,21.1661)\n",
      "(66.1382,-80.9822)\n",
      "Finally got latitude and longitude greate than 50 after 10 attempts:\n",
      "(67.5259,83.9856)\n"
     ]
    }
   ],
   "source": [
    "import random\n",
    "\n",
    "def generatecoordinates():\n",
    "    lat = random.uniform(-90,90)\n",
    "    lon = random.uniform(-180,180)\n",
    "    return (lat,lon)\n",
    "lat,lon = generatecoordinates()\n",
    "\n",
    "counter = 0\n",
    "while (lat<=50 or lon<=50):\n",
    "    print(f\"({lat:.4f},{lon:.4f})\")\n",
    "    lat,lon = generatecoordinates()\n",
    "    counter+=1\n",
    "    \n",
    "print(f\"Finally got latitude and longitude greate than 50 after {counter} attempts:\\n({lat:.4f},{lon:.4f})\")"
   ]
  }
 ],
 "metadata": {
  "kernelspec": {
   "display_name": "Python 3 (ipykernel)",
   "language": "python",
   "name": "python3"
  },
  "language_info": {
   "codemirror_mode": {
    "name": "ipython",
    "version": 3
   },
   "file_extension": ".py",
   "mimetype": "text/x-python",
   "name": "python",
   "nbconvert_exporter": "python",
   "pygments_lexer": "ipython3",
   "version": "3.13.1"
  }
 },
 "nbformat": 4,
 "nbformat_minor": 5
}
