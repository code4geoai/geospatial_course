{
 "cells": [
  {
   "cell_type": "markdown",
   "id": "4eddf6e0-5723-49ab-baf2-704b814e6d51",
   "metadata": {},
   "source": [
    "# Exercise 1: Setting up MapLibre and Basic Map Creation\n",
    "\n",
    "Initialize a map centered on a country of your choice with an appropriate zoom level and display it with the dark-matter basemap.\n",
    "Change the basemap style to liberty and display it again."
   ]
  },
  {
   "cell_type": "code",
   "execution_count": 1,
   "id": "d6b37474-f76f-4c08-90a2-3f4895c0ed0a",
   "metadata": {},
   "outputs": [],
   "source": [
    "import leafmap.maplibregl as leafmap"
   ]
  },
  {
   "cell_type": "code",
   "execution_count": 57,
   "id": "954c8d1f-7277-48da-973d-b5f180e5769c",
   "metadata": {
    "scrolled": true
   },
   "outputs": [
    {
     "data": {
      "application/vnd.jupyter.widget-view+json": {
       "model_id": "d8b3afaec07d4811aa004c227f5025f0",
       "version_major": 2,
       "version_minor": 1
      },
      "text/plain": [
       "Map(height='600px', map_options={'bearing': 0, 'center': (71.57332122029995, 30), 'pitch': 0, 'style': 'https:…"
      ]
     },
     "execution_count": 57,
     "metadata": {},
     "output_type": "execute_result"
    }
   ],
   "source": [
    "m = leafmap.Map(center= (71.57332122029995,30), zoom = 4.4,style='dark-matter')\n",
    "m"
   ]
  },
  {
   "cell_type": "code",
   "execution_count": 58,
   "id": "52404592-f5b0-4da8-967b-d40e8642da3b",
   "metadata": {},
   "outputs": [
    {
     "data": {
      "application/vnd.jupyter.widget-view+json": {
       "model_id": "d8b3afaec07d4811aa004c227f5025f0",
       "version_major": 2,
       "version_minor": 1
      },
      "text/plain": [
       "Map(height='600px', map_options={'bearing': 0, 'center': (71.57332122029995, 30), 'pitch': 0, 'style': 'https:…"
      ]
     },
     "execution_count": 58,
     "metadata": {},
     "output_type": "execute_result"
    }
   ],
   "source": [
    "m.add_basemap(style= 'liberty')\n",
    "m"
   ]
  },
  {
   "cell_type": "markdown",
   "id": "cccb1c13-6c58-4099-ae0a-d5f60ef2c8e3",
   "metadata": {},
   "source": [
    "# Exercise 2: Customizing the Map View\n",
    "Create a 3D map of a city of your choice with an appropriate zoom level, pitch and bearing using the liberty basemap.\n",
    "\n",
    "Experiment with MapTiler 3D basemap styles, such as 3d-satellite, 3d-hybrid, and 3d-topo, to visualize a location of your choice in different ways. Please set your MapTiler API key as Colab secret and do NOT expose the API key in the notebook."
   ]
  },
  {
   "cell_type": "code",
   "execution_count": 89,
   "id": "50bd1cd1-f10d-43f8-bacc-3a1a41bda5b2",
   "metadata": {},
   "outputs": [
    {
     "data": {
      "application/vnd.jupyter.widget-view+json": {
       "model_id": "372ece16651145ba9388094cddb0f12a",
       "version_major": 2,
       "version_minor": 1
      },
      "text/plain": [
       "Map(height='600px', map_options={'bearing': 220, 'center': (55.27428, 25.19724), 'pitch': 45, 'style': 'https:…"
      ]
     },
     "execution_count": 89,
     "metadata": {},
     "output_type": "execute_result"
    }
   ],
   "source": [
    "m = leafmap.Map(center=[55.27428,25.19724 ], zoom=15, style=\"liberty\", pitch=45, bearing=220)  # Burj Khalifa Dubai\n",
    "\n",
    "m"
   ]
  }
 ],
 "metadata": {
  "kernelspec": {
   "display_name": "Python 3 (ipykernel)",
   "language": "python",
   "name": "python3"
  },
  "language_info": {
   "codemirror_mode": {
    "name": "ipython",
    "version": 3
   },
   "file_extension": ".py",
   "mimetype": "text/x-python",
   "name": "python",
   "nbconvert_exporter": "python",
   "pygments_lexer": "ipython3",
   "version": "3.13.2"
  },
  "widgets": {
   "application/vnd.jupyter.widget-state+json": {
    "state": {},
    "version_major": 2,
    "version_minor": 0
   }
  }
 },
 "nbformat": 4,
 "nbformat_minor": 5
}
