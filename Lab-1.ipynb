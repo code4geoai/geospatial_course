{
 "cells": [
  {
   "cell_type": "markdown",
   "id": "6545734d-3664-4f77-a414-3ee2e1ea7392",
   "metadata": {},
   "source": [
    "### Exercise 1: Variable Assignment and Basic Operations\n",
    "Create variables to store the following geospatial data:\n",
    "The latitude and longitude of New York City: 40.7128, -74.0060.\n",
    "The population of New York City: 8,336,817.\n",
    "The area of New York City in square kilometers: 783.8.\n",
    "Perform the following tasks:\n",
    "Calculate and print the population density of New York City (population per square kilometer).\n",
    "Print the coordinates in the format “Latitude: [latitude], Longitude: [longitude]”."
   ]
  },
  {
   "cell_type": "code",
   "execution_count": 30,
   "id": "0ccdf75e-9a1a-4201-991c-6103199ef3cc",
   "metadata": {},
   "outputs": [
    {
     "name": "stdout",
     "output_type": "stream",
     "text": [
      "population_densit: 10636\n",
      "Latitude:40.7128, Longitude: -74.006\n"
     ]
    }
   ],
   "source": [
    "###Excise 1\n",
    "latitude = 40.7128\n",
    "longitude=-74.0060\n",
    "population_density = 8336817 / 783.8\n",
    "print (f\"population_densit:\",round(population_density))\n",
    "print(f\"Latitude:{latitude}, Longitude: {longitude}\")"
   ]
  },
  {
   "cell_type": "markdown",
   "id": "61c9d294-f57a-429f-89ae-9d9f4dd48c1c",
   "metadata": {},
   "source": [
    "### Exercise 2: Working with Strings\n",
    "Create a string variable to store the name of a city, such as “San Francisco”. Perform the following operations:\n",
    "Convert the string to lowercase and print the result.\n",
    "Convert the string to uppercase and print the result.\n",
    "Replace “San” with “Los” in the city name and print the new string."
   ]
  },
  {
   "cell_type": "code",
   "execution_count": 27,
   "id": "c6389f5a-2fab-4ff5-ba80-044f98c37215",
   "metadata": {},
   "outputs": [
    {
     "name": "stdout",
     "output_type": "stream",
     "text": [
      "san franciso\n",
      "SAN FRANCISO\n",
      "Los Franciso\n"
     ]
    }
   ],
   "source": [
    "###Excise 2\n",
    "city = \"San Franciso\"\n",
    "print(city.lower())\n",
    "print(city.upper())\n",
    "new_city = city.replace(\"San\",\"Los\")\n",
    "print(new_city)"
   ]
  },
  {
   "cell_type": "markdown",
   "id": "8c5fb837-9ad3-41be-8a9c-8ace248e050d",
   "metadata": {},
   "source": [
    "### Exercise 3: Using Lists\n",
    "Create a list of tuples, where each tuple contains the name of a city and its corresponding latitude and longitude:\n",
    "New York City: (40.7128, -74.0060)\n",
    "Los Angeles: (34.0522, -118.2437)\n",
    "Chicago: (41.8781, -87.6298)\n",
    "Perform the following tasks:\n",
    "Add a new city (e.g., Miami: (25.7617, -80.1918)) to the list.\n",
    "Print the entire list of cities.\n",
    "Slice the list to print only the first two cities."
   ]
  },
  {
   "cell_type": "code",
   "execution_count": 141,
   "id": "94d6b01a-40e0-401e-bc10-f69905e0e8fd",
   "metadata": {},
   "outputs": [
    {
     "name": "stdout",
     "output_type": "stream",
     "text": [
      "Printing Entire list of citites\n",
      " [['New York City:', (40.7128, -74.006)], ['Los Angeles:', (34.0522, -118.2437)], ['Chicago:', (41.8781, -87.6298)], ['Miami:', (25.7617, -80.1918)]]\n",
      "Printing only first two cities, [['New York City:', (40.7128, -74.006)], ['Los Angeles:', (34.0522, -118.2437)]]\n"
     ]
    }
   ],
   "source": [
    "### Excise 3\n",
    "citylist = [\n",
    "            [\"New York City:\", (40.7128, -74.0060)], [\"Los Angeles:\", (34.0522, -118.2437)],[\"Chicago:\", (41.8781, -87.6298)]\n",
    "            ]\n",
    "citylist.append([\"Miami:\",(25.7617, -80.1918)])\n",
    "print(f\"Printing Entire list of citites\\n {citylist}\")\n",
    "#Slice the list to print only the first two cities.\n",
    "print(f\"Printing only first two cities, {citylist[:2]}\")"
   ]
  },
  {
   "cell_type": "markdown",
   "id": "c02c72a0-79eb-458b-a827-bae9270ddca3",
   "metadata": {},
   "source": [
    "# Exercise 4: Using Tuples\n",
    "Create a tuple to store the coordinates (latitude, longitude) of the Eiffel Tower: (48.8584, 2.2945). Perform the following tasks:\n",
    "Access and print the latitude and longitude values from the tuple.\n",
    "Try to change the latitude value to 48.8585. What happens? Explain why."
   ]
  },
  {
   "cell_type": "code",
   "execution_count": 47,
   "id": "15ad3714-328d-40e8-8571-92d6aeab1e60",
   "metadata": {},
   "outputs": [
    {
     "name": "stdout",
     "output_type": "stream",
     "text": [
      "Latitude: 48.8584 Longitude: 2.2945\n"
     ]
    }
   ],
   "source": [
    "# Exercise 4: Using Tuples\n",
    "et_coordinates = (48.8584, 2.2945,)\n",
    "latitude = et_coordinates[0]\n",
    "longitude = et_coordinates[1]\n",
    "print(f\"Latitude: {latitude} Longitude: {longitude}\")\n",
    "\n",
    "#Try to change the latitude value to 48.8585. What happens? Explain why.\n",
    "#et_coordinates[0]= 50.4567 \n",
    "#Generates TypeError : 'tuple' object does not support item assignment because tuples are immutable"
   ]
  },
  {
   "cell_type": "markdown",
   "id": "b62dd067-7847-49b3-ae0e-39b031e222be",
   "metadata": {},
   "source": [
    "### Exercise 5: Working with Sets\n",
    "Create a set of countries you have visited, such as {“USA”, “France”, “Germany”}. Perform the following tasks:\n",
    "Add a new country to the set.\n",
    "Try to add the same country again. What happens?\n",
    "Print the updated set."
   ]
  },
  {
   "cell_type": "code",
   "execution_count": 51,
   "id": "2952f51a-5942-4ff1-8a6d-9841e8193b4c",
   "metadata": {},
   "outputs": [
    {
     "name": "stdout",
     "output_type": "stream",
     "text": [
      "Updated Countries: {'Saudi Arabia', 'USA', 'Korea'}\n"
     ]
    }
   ],
   "source": [
    "### Exercise 5: Working with Sets\n",
    "countries_visited = [\"Korea\",\"USA\",\"Saudi Arabia\"]\n",
    "countries_visited = set(countries_visited)\n",
    "countries_visited.add(\"USA\") #adding the same country again\n",
    "print (f\"Updated Countries: {countries_visited}\")\n",
    "#set donot allow duplicate items"
   ]
  },
  {
   "cell_type": "markdown",
   "id": "2e1104d1-9e3d-42a0-8173-da37a210ef8e",
   "metadata": {},
   "source": [
    "### Exercise 6: Working with Dictionaries\n",
    "Create a dictionary to store information about a specific geospatial feature, such as a river:\n",
    "Name: “Amazon River”\n",
    "Length: 6400 km\n",
    "Countries: [“Brazil”, “Peru”, “Colombia”]\n",
    "Perform the following tasks:\n",
    "Add a new key-value pair to the dictionary to store the river’s average discharge (e.g., 209,000 m³/s).\n",
    "Update the length of the river to 6992 km.\n",
    "Print the dictionary."
   ]
  },
  {
   "cell_type": "code",
   "execution_count": 55,
   "id": "a9f27578-9df2-4b49-a3eb-dcdc288e263e",
   "metadata": {},
   "outputs": [
    {
     "data": {
      "text/plain": [
       "{'Name': 'Amazon River',\n",
       " 'Length': '6992 km',\n",
       " 'Countries': ['Brazil', 'Peru', 'Colombia'],\n",
       " 'discharge': '209,000 m³/s'}"
      ]
     },
     "execution_count": 55,
     "metadata": {},
     "output_type": "execute_result"
    }
   ],
   "source": [
    "rivers = {\n",
    "    \"Name\": \"Amazon River\",\n",
    "    \"Length\": \"6400 km\",\n",
    "    \"Countries\": [\"Brazil\", \"Peru\", \"Colombia\"]\n",
    "         }\n",
    "rivers[\"discharge\"]= \"209,000 m³/s\"\n",
    "rivers[\"Length\"]= \"6992 km\"\n",
    "rivers"
   ]
  },
  {
   "cell_type": "markdown",
   "id": "f0e86fb5-50ca-4776-ab9b-c91cd8c373a4",
   "metadata": {},
   "source": [
    "### Exercise 7: Nested Data Structures\n",
    "Create a dictionary to represent a city that contains the city’s name, population, and coordinates (latitude, longitude):\n",
    "Name: “Tokyo”\n",
    "Population: 13,515,271\n",
    "Coordinates: (35.6895, 139.6917)\n",
    "Perform the following tasks:\n",
    "Access and print the population of the city.\n",
    "Access and print the city’s latitude.\n",
    "Update the population to 14,000,000 and print the updated dictionary."
   ]
  },
  {
   "cell_type": "code",
   "execution_count": 62,
   "id": "f8d87ac9-f24e-4da8-936b-a81b5fa8db89",
   "metadata": {},
   "outputs": [
    {
     "name": "stdout",
     "output_type": "stream",
     "text": [
      "Population of the city: 13515271\n",
      "Population of the city: 35.6895\n",
      "Updated dictionary : {'Name': 'Tokyo', 'Population': 14000000, 'Coordinates': (35.6895, 139.6917)}\n"
     ]
    }
   ],
   "source": [
    "### Exercise 7: Nested Data Structures\n",
    "cities = {\n",
    "    \"Name\": \"Tokyo\",\n",
    "    \"Population\": 13515271,\n",
    "    \"Coordinates\": (35.6895, 139.6917,)\n",
    "}\n",
    "print (f\"Population of the city: {cities[\"Population\"]}\")\n",
    "print (f\"Population of the city: {cities[\"Coordinates\"][0]}\")\n",
    "cities[\"Population\"]= 14000000\n",
    "print(f\"Updated dictionary : {cities}\")\n"
   ]
  },
  {
   "cell_type": "markdown",
   "id": "ead07142-374d-42f7-bfdb-8e66a275dcd6",
   "metadata": {},
   "source": [
    "### Exercise 8: List Operations\n",
    "Given the list of cities from Exercise 3, perform the following operations:\n",
    "Sort the list of cities alphabetically by name.\n",
    "Create a new list that contains only the city names.\n",
    "Remove the last city from the original list and print the updated list."
   ]
  },
  {
   "cell_type": "code",
   "execution_count": 147,
   "id": "69c36db8-7a2f-486c-a06c-c242206de481",
   "metadata": {},
   "outputs": [
    {
     "name": "stdout",
     "output_type": "stream",
     "text": [
      "Original list of Exercise 3:\n",
      "[['New York City:', (40.7128, -74.006)], ['Los Angeles:', (34.0522, -118.2437)], ['Chicago:', (41.8781, -87.6298)], ['Miami:', (25.7617, -80.1918)]]\n",
      "Alphabetically sorted list of cities:\n",
      " [['Chicago:', (41.8781, -87.6298)], ['Los Angeles:', (34.0522, -118.2437)], ['Miami:', (25.7617, -80.1918)], ['New York City:', (40.7128, -74.006)]]\n",
      "New List that has only city names:\n",
      "['New York City', 'Los Angeles', 'Chicago', 'Miami']\n",
      "Original List after removal of last city:\n",
      " [['New York City:', (40.7128, -74.006)], ['Los Angeles:', (34.0522, -118.2437)], ['Chicago:', (41.8781, -87.6298)]]\n"
     ]
    }
   ],
   "source": [
    "### Exercise 8: List Operations\n",
    "print(f\"Original list of Exercise 3:\\n{citylist}\")\n",
    "sorted_citylist = sorted(citylist,key = lambda x:x[0])\n",
    "print(f\"Alphabetically sorted list of cities:\\n {sorted_citylist}\")\n",
    "newcitylist = []\n",
    "for x in citylist:\n",
    "    newcitylist.append(x[0].replace(\":\",\"\"))\n",
    "print(f\"New List that has only city names:\\n{newcitylist}\")\n",
    "\n",
    "#Remove the last city from the original list and print the updated list.\n",
    "print(f\"Original List after removal of last city:\\n {citylist[:-1]}\")\n"
   ]
  },
  {
   "cell_type": "markdown",
   "id": "5adcff88-d904-4739-b4c2-562a889a1b56",
   "metadata": {},
   "source": [
    "### Exercise 9: Dictionary Operations\n",
    "\n",
    "Using the dictionary from Exercise 6, perform the following tasks:\n",
    "\n",
    "Check if the key “Length” exists in the dictionary.\n",
    "\n",
    "Print all the keys in the dictionary.\n",
    "\n",
    "Print all the values in the dictionary."
   ]
  },
  {
   "cell_type": "code",
   "execution_count": 158,
   "id": "8fd72dac-c467-437a-9ba3-722a50aa4d68",
   "metadata": {},
   "outputs": [
    {
     "name": "stdout",
     "output_type": "stream",
     "text": [
      "Printing the dictionary from Exercise 6:\n",
      " {'Name': 'Amazon River', 'Length': '6992 km', 'Countries': ['Brazil', 'Peru', 'Colombia'], 'discharge': '209,000 m³/s'}\n",
      "Length Exists as a Key in dictionar\n",
      "Keys:Name\n",
      "Keys:Length\n",
      "Keys:Countries\n",
      "Keys:discharge\n",
      "Values: Amazon River\n",
      "Values: 6992 km\n",
      "Values: ['Brazil', 'Peru', 'Colombia']\n",
      "Values: 209,000 m³/s\n"
     ]
    }
   ],
   "source": [
    "print(f\"Printing the dictionary from Exercise 6:\\n {rivers}\") # printed just for reference\n",
    "for key,value in rivers.items():\n",
    "    if key ==\"Length\":\n",
    "        print(f\"Length Exists as a Key in dictionar\")\n",
    "for key in rivers.keys():\n",
    "    print(f\"Keys:{key}\")\n",
    "for value in rivers.values():\n",
    "    print(f\"Values: {value}\")"
   ]
  },
  {
   "cell_type": "raw",
   "id": "dc1d7a62-bbec-49d0-b2b9-b8eaf0acc2c4",
   "metadata": {},
   "source": [
    "### Exercise 10: Practical Application\n",
    "Imagine you have a list of tuples, each representing a location with its name, latitude, and longitude:\n",
    "locations = [\n",
    "    (\"Mount Everest\", 27.9881, 86.9250),\n",
    "    (\"K2\", 35.8808, 76.5155),\n",
    "    (\"Kangchenjunga\", 27.7025, 88.1475),\n",
    "]\n",
    "Perform the following tasks:\n",
    "\n",
    "Create a new list that contains only the names of the locations.\n",
    "\n",
    "Create a dictionary where the keys are location names and the values are tuples of their coordinates.\n",
    "\n",
    "Print the latitude of “K2” using the dictionary."
   ]
  },
  {
   "cell_type": "code",
   "execution_count": 187,
   "id": "6bc198b5-81ef-45c6-819d-73efde9c2133",
   "metadata": {},
   "outputs": [
    {
     "name": "stdout",
     "output_type": "stream",
     "text": [
      "New List with only names of City Locaitons: ['Mount Everest', 'K2', 'Kangchenjunga']\n",
      "Latitude of K2 : 35.8808\n"
     ]
    }
   ],
   "source": [
    "locations = [\n",
    "    (\"Mount Everest\", 27.9881, 86.9250),\n",
    "    (\"K2\", 35.8808, 76.5155),\n",
    "    (\"Kangchenjunga\", 27.7025, 88.1475),\n",
    "]\n",
    "newlocations = []\n",
    "locations_dic = {}\n",
    "\n",
    "for x in locations:\n",
    "    newlocations.append(x[0])\n",
    "    locations_dic[x[0]]= x[1:]\n",
    "\n",
    "#Create a new list that contains only the names of the locations.\n",
    "print(f\"New List with only names of City Locaitons: {newlocations}\")\n",
    "\n",
    "#Print the latitude of “K2” using the dictionary.\n",
    "print(f\"Latitude of K2 : {locations_dic[\"K2\"][0]}\")\n",
    "    \n"
   ]
  }
 ],
 "metadata": {
  "kernelspec": {
   "display_name": "Python 3 (ipykernel)",
   "language": "python",
   "name": "python3"
  },
  "language_info": {
   "codemirror_mode": {
    "name": "ipython",
    "version": 3
   },
   "file_extension": ".py",
   "mimetype": "text/x-python",
   "name": "python",
   "nbconvert_exporter": "python",
   "pygments_lexer": "ipython3",
   "version": "3.13.1"
  }
 },
 "nbformat": 4,
 "nbformat_minor": 5
}
