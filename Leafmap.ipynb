{
 "cells": [
  {
   "cell_type": "markdown",
   "metadata": {},
   "source": [
    "# Leafmap\n",
    "is built on the top of seveal well know libraries like folium, ipyleaflet etc. Leafmap extends their functionalities with a unified API.\n",
    "The default plotting backend for leafmap is ipyleaflet."
   ]
  },
  {
   "cell_type": "code",
   "execution_count": 1,
   "metadata": {},
   "outputs": [],
   "source": [
    "import leafmap"
   ]
  },
  {
   "cell_type": "code",
   "execution_count": 2,
   "metadata": {},
   "outputs": [
    {
     "data": {
      "application/vnd.jupyter.widget-view+json": {
       "model_id": "71e886a66d3844ceab72b22b679e3861",
       "version_major": 2,
       "version_minor": 0
      },
      "text/plain": [
       "Map(center=[20, 0], controls=(ZoomControl(options=['position', 'zoom_in_text', 'zoom_in_title', 'zoom_out_text…"
      ]
     },
     "execution_count": 2,
     "metadata": {},
     "output_type": "execute_result"
    }
   ],
   "source": [
    "m = leafmap.Map()\n",
    "m"
   ]
  },
  {
   "cell_type": "code",
   "execution_count": 4,
   "metadata": {},
   "outputs": [
    {
     "data": {
      "text/plain": [
       "[34.015512668149285, 71.57332122029995]"
      ]
     },
     "execution_count": 4,
     "metadata": {},
     "output_type": "execute_result"
    }
   ],
   "source": [
    "m.center"
   ]
  },
  {
   "cell_type": "code",
   "execution_count": 26,
   "metadata": {},
   "outputs": [
    {
     "data": {
      "application/vnd.jupyter.widget-view+json": {
       "model_id": "9b11a35755a34809bbecda8e4dc0a1eb",
       "version_major": 2,
       "version_minor": 0
      },
      "text/plain": [
       "Map(center=[28, 68], controls=(ZoomControl(options=['position', 'zoom_in_text', 'zoom_in_title', 'zoom_out_tex…"
      ]
     },
     "execution_count": 26,
     "metadata": {},
     "output_type": "execute_result"
    }
   ],
   "source": [
    "# Customizing the Map\n",
    "m=leafmap.Map(center = (28,68), zoom = 5, height = \"600px\")\n",
    "m"
   ]
  },
  {
   "cell_type": "code",
   "execution_count": 27,
   "metadata": {},
   "outputs": [
    {
     "data": {
      "application/vnd.jupyter.widget-view+json": {
       "model_id": "c9fa46671a5641c689f46523f20c3ad1",
       "version_major": 2,
       "version_minor": 0
      },
      "text/plain": [
       "Map(center=[20, 0], controls=(AttributionControl(options=['position', 'prefix'], position='bottomright'), Full…"
      ]
     },
     "execution_count": 27,
     "metadata": {},
     "output_type": "execute_result"
    }
   ],
   "source": [
    "# Adding or Removing Controls\n",
    "# By default the map contains controls like zoom, fullscreen etc and can be toggled\n",
    "\n",
    "m = leafmap.Map(\n",
    "zoom_control=False,\n",
    "#draw_control = False,\n",
    ")\n",
    "m\n"
   ]
  },
  {
   "cell_type": "markdown",
   "metadata": {},
   "source": [
    "# Working with Layers\n",
    "m.layers\n",
    "# m.add(item) where item is layer or control instance\n",
    "# m.remove((item))\n",
    "# m.remove(m.layers[-1]) to remove the last layer\n",
    "# m.clear_controls()\n",
    "# m.clear_layers ()\n",
    "\n",
    "# more details are on https://ipyleaflet.readthedocs.io/en/latest/map_and_basemaps/map.html#map\n"
   ]
  },
  {
   "cell_type": "markdown",
   "metadata": {},
   "source": [
    "# Changing Basemaps"
   ]
  },
  {
   "cell_type": "code",
   "execution_count": 28,
   "metadata": {},
   "outputs": [
    {
     "data": {
      "application/vnd.jupyter.widget-view+json": {
       "model_id": "5254f61b7c634849a32b0fd2062837a7",
       "version_major": 2,
       "version_minor": 0
      },
      "text/plain": [
       "Map(center=[20, 0], controls=(ZoomControl(options=['position', 'zoom_in_text', 'zoom_in_title', 'zoom_out_text…"
      ]
     },
     "execution_count": 28,
     "metadata": {},
     "output_type": "execute_result"
    }
   ],
   "source": [
    "m = leafmap.Map()\n",
    "m.add_basemap_gui()\n",
    "m"
   ]
  },
  {
   "cell_type": "code",
   "execution_count": 29,
   "metadata": {},
   "outputs": [
    {
     "data": {
      "application/vnd.jupyter.widget-view+json": {
       "model_id": "2e4ef0cf5713436fac3b24691b1321ae",
       "version_major": 2,
       "version_minor": 0
      },
      "text/plain": [
       "Map(center=[20, 0], controls=(ZoomControl(options=['position', 'zoom_in_text', 'zoom_in_title', 'zoom_out_text…"
      ]
     },
     "execution_count": 29,
     "metadata": {},
     "output_type": "execute_result"
    }
   ],
   "source": [
    "# Adding an XYZ tile Layer\n",
    "m = leafmap.Map()\n",
    "m.add_tile_layer(\n",
    "    url=\"https://mt1.google.com/vt/lyrs=y&x={x}&y={y}&z={z}\",\n",
    "    name=\"Google Satellite\",\n",
    "    attribution=\"Google\",\n",
    "\n",
    ")\n",
    "m"
   ]
  },
  {
   "cell_type": "code",
   "execution_count": 31,
   "metadata": {},
   "outputs": [
    {
     "data": {
      "application/vnd.jupyter.widget-view+json": {
       "model_id": "62415d581f234fcbab41256157903504",
       "version_major": 2,
       "version_minor": 0
      },
      "text/plain": [
       "Map(center=[40, -100], controls=(ZoomControl(options=['position', 'zoom_in_text', 'zoom_in_title', 'zoom_out_t…"
      ]
     },
     "execution_count": 31,
     "metadata": {},
     "output_type": "execute_result"
    }
   ],
   "source": [
    "m = leafmap.Map(center = (40,-100),zoom =4)\n",
    "url = \"https://imagery.nationalmap.gov/arcgis/services/USGSNAIPImagery/ImageServer/WMSServer?\"\n",
    "m.add_wms_layer(\n",
    "    url=url,\n",
    "    layers=\"USGSNAIPImagery:FalseColorComposite\",\n",
    "    name=\"NAIP\",\n",
    "    attribution=\"USGS\",\n",
    "    format=\"image/png\",\n",
    "    shown=True,\n",
    ")\n",
    "m"
   ]
  },
  {
   "cell_type": "code",
   "execution_count": 45,
   "metadata": {},
   "outputs": [
    {
     "data": {
      "application/vnd.jupyter.widget-view+json": {
       "model_id": "90d5e359a1fe4dd086579af53c21dc2c",
       "version_major": 2,
       "version_minor": 0
      },
      "text/plain": [
       "Map(center=[20, 0], controls=(ZoomControl(options=['position', 'zoom_in_text', 'zoom_in_title', 'zoom_out_text…"
      ]
     },
     "execution_count": 45,
     "metadata": {},
     "output_type": "execute_result"
    }
   ],
   "source": [
    "# Adding a Marker\n",
    "\n",
    "m = leafmap.Map()\n",
    "location = [[40,-100],[40,0],[34,71.5],[40,100]]\n",
    "m.add_markers(location)\n",
    "m"
   ]
  },
  {
   "cell_type": "code",
   "execution_count": 59,
   "metadata": {},
   "outputs": [
    {
     "data": {
      "application/vnd.jupyter.widget-view+json": {
       "model_id": "cd7aefd54cf44a8fb1543e47b8b2bf0e",
       "version_major": 2,
       "version_minor": 0
      },
      "text/plain": [
       "Map(center=[34, 71], controls=(ZoomControl(options=['position', 'zoom_in_text', 'zoom_in_title', 'zoom_out_tex…"
      ]
     },
     "execution_count": 59,
     "metadata": {},
     "output_type": "execute_result"
    }
   ],
   "source": [
    "m = leafmap.Map(center = (34,71),zoom = 3)\n",
    "url = 'c:\\SDC_Points.csv'\n",
    "m.add_marker_cluster(url,x='X',y='Y',layer_name='SDC')\n",
    "\n",
    "m"
   ]
  },
  {
   "cell_type": "markdown",
   "metadata": {},
   "source": [
    "# Customizing Markers\n",
    "\n"
   ]
  },
  {
   "cell_type": "code",
   "execution_count": 77,
   "metadata": {},
   "outputs": [
    {
     "name": "stdout",
     "output_type": "stream",
     "text": [
      "The provided color (lightred) is invalid. Using the default black color.\n",
      "'#lightred' is not in web format. Need 3 or 6 hex digit.\n"
     ]
    },
    {
     "data": {
      "application/vnd.jupyter.widget-view+json": {
       "model_id": "7bfe015d4d5e4d88a015eeadac5ce6ae",
       "version_major": 2,
       "version_minor": 0
      },
      "text/plain": [
       "Map(center=[34, 71], controls=(ZoomControl(options=['position', 'zoom_in_text', 'zoom_in_title', 'zoom_out_tex…"
      ]
     },
     "execution_count": 77,
     "metadata": {},
     "output_type": "execute_result"
    }
   ],
   "source": [
    "import pandas as pd\n",
    "m = leafmap.Map(center = (34,71), zoom = 4)\n",
    "sdc = 'c:\\SDC_Points.csv'\n",
    "districts = 'C:\\kpdistricts.geojson'\n",
    "\n",
    "m.add_geojson(districts,layer_name=\"KP Districts\")\n",
    "\n",
    "m.add_points_from_xy(\n",
    "    sdc,\n",
    "    x='X',\n",
    "    y='Y',\n",
    "    color_column='Division',\n",
    "    icon_names=['building', 'map', 'leaf', 'globe', 'star', 'heart', 'flag'],  # Ensure the number of icons matches unique values\n",
    "    spin=True,\n",
    "    add_legend=True,\n",
    ")\n",
    "\n",
    "m"
   ]
  }
 ],
 "metadata": {
  "kernelspec": {
   "display_name": "Python 3 (ipykernel)",
   "language": "python",
   "name": "python3"
  },
  "language_info": {
   "codemirror_mode": {
    "name": "ipython",
    "version": 3
   },
   "file_extension": ".py",
   "mimetype": "text/x-python",
   "name": "python",
   "nbconvert_exporter": "python",
   "pygments_lexer": "ipython3",
   "version": "3.13.2"
  },
  "widgets": {
   "application/vnd.jupyter.widget-state+json": {
    "state": {
     "019d1350549a40aaa1fb75066d3408c6": {
      "model_module": "@jupyter-widgets/controls",
      "model_module_version": "2.0.0",
      "model_name": "ToggleButtonModel",
      "state": {
       "button_style": "primary",
       "icon": "adjust",
       "layout": "IPY_MODEL_1ffc378872844373a0e82216ff7f8290",
       "style": "IPY_MODEL_40a19fd866dc42948a0dec99c8da1733",
       "tooltip": "Planet imagery"
      }
     },
     "0212a81219f246e6a71229e88090ce54": {
      "model_module": "@jupyter-widgets/controls",
      "model_module_version": "2.0.0",
      "model_name": "CheckboxModel",
      "state": {
       "description": "OpenStreetMap.Mapnik",
       "disabled": false,
       "indent": false,
       "layout": "IPY_MODEL_5f63bcbbb7f2445e8cb640275f715ac7",
       "style": "IPY_MODEL_58de77d96b754e5ea75bc460a687f2fb",
       "value": true
      }
     },
     "02ab2a9c2019464a8e570558b068ede9": {
      "model_module": "@jupyter-widgets/controls",
      "model_module_version": "2.0.0",
      "model_name": "ToggleButtonStyleModel",
      "state": {
       "description_width": "",
       "font_family": null,
       "font_size": null,
       "font_style": null,
       "font_variant": null,
       "font_weight": null,
       "text_color": null,
       "text_decoration": null
      }
     },
     "02c3b8b9a3fc4889b36fe22805afce7f": {
      "model_module": "@jupyter-widgets/base",
      "model_module_version": "2.0.0",
      "model_name": "LayoutModel",
      "state": {}
     },
     "056a0b694d334a2c8aec3783c0dd9700": {
      "model_module": "@jupyter-widgets/base",
      "model_module_version": "2.0.0",
      "model_name": "LayoutModel",
      "state": {}
     },
     "082366ae4ac14fdb8afaa49c7bbf9c23": {
      "model_module": "@jupyter-widgets/controls",
      "model_module_version": "2.0.0",
      "model_name": "ToggleButtonModel",
      "state": {
       "icon": "server",
       "layout": "IPY_MODEL_e0c92c5de7fa49ccbc5bcd75ef25e627",
       "style": "IPY_MODEL_2575a1ad26804309933cf73743bcb631",
       "tooltip": "Layers"
      }
     },
     "0beeac16dc2b4c16b896746965607cfb": {
      "model_module": "@jupyter-widgets/controls",
      "model_module_version": "2.0.0",
      "model_name": "HBoxModel",
      "state": {
       "children": [
        "IPY_MODEL_082366ae4ac14fdb8afaa49c7bbf9c23",
        "IPY_MODEL_2acf623033684be78393e137758a8ff4"
       ],
       "layout": "IPY_MODEL_a39a521f327545d892bfe4f944a22391"
      }
     },
     "0ca421d8ef6142e49ead6e158b96f06f": {
      "model_module": "@jupyter-widgets/controls",
      "model_module_version": "2.0.0",
      "model_name": "HBoxModel",
      "state": {
       "children": [
        "IPY_MODEL_8942a117edf142748c760d3241051ed0",
        "IPY_MODEL_1caa514c985441dda57985869e95ec5e"
       ],
       "layout": "IPY_MODEL_535c9772796d4ff5b6cea31f7e91327c"
      }
     },
     "0cd587c65c844e06b6021808cb98d438": {
      "model_module": "@jupyter-widgets/controls",
      "model_module_version": "2.0.0",
      "model_name": "HBoxModel",
      "state": {
       "children": [
        "IPY_MODEL_61ee864eb6de4405a404bf2f33b50341",
        "IPY_MODEL_e1550556b7384f0db9d731ab4b1cd852"
       ],
       "layout": "IPY_MODEL_02c3b8b9a3fc4889b36fe22805afce7f"
      }
     },
     "0d00cc8dde154bf3aca9fc35019f2161": {
      "model_module": "@jupyter-widgets/controls",
      "model_module_version": "2.0.0",
      "model_name": "ToggleButtonStyleModel",
      "state": {
       "description_width": "",
       "font_family": null,
       "font_size": null,
       "font_style": null,
       "font_variant": null,
       "font_weight": null,
       "text_color": null,
       "text_decoration": null
      }
     },
     "0d597f82032543d8951af4cfef19c369": {
      "model_module": "@jupyter-widgets/controls",
      "model_module_version": "2.0.0",
      "model_name": "ToggleButtonStyleModel",
      "state": {
       "description_width": "",
       "font_family": null,
       "font_size": null,
       "font_style": null,
       "font_variant": null,
       "font_weight": null,
       "text_color": null,
       "text_decoration": null
      }
     },
     "0daa6d3cecb749c3af69c8c3765e2c07": {
      "model_module": "@jupyter-widgets/controls",
      "model_module_version": "2.0.0",
      "model_name": "ToggleButtonStyleModel",
      "state": {
       "description_width": "",
       "font_family": null,
       "font_size": null,
       "font_style": null,
       "font_variant": null,
       "font_weight": null,
       "text_color": null,
       "text_decoration": null
      }
     },
     "0eaea72e0ac04445aefffeef7878f423": {
      "model_module": "@jupyter-widgets/controls",
      "model_module_version": "2.0.0",
      "model_name": "CheckboxStyleModel",
      "state": {
       "description_width": ""
      }
     },
     "0f11f8bd550946b89eb6242f4b749035": {
      "model_module": "@jupyter-widgets/base",
      "model_module_version": "2.0.0",
      "model_name": "LayoutModel",
      "state": {
       "height": "auto",
       "padding": "0px 0px 0px 4px",
       "width": "auto"
      }
     },
     "13deaf4f633743408f96dd915cbde285": {
      "model_module": "@jupyter-widgets/controls",
      "model_module_version": "2.0.0",
      "model_name": "ToggleButtonStyleModel",
      "state": {
       "description_width": "",
       "font_family": null,
       "font_size": null,
       "font_style": null,
       "font_variant": null,
       "font_weight": null,
       "text_color": null,
       "text_decoration": null
      }
     },
     "155862101b3c4a7a8712ed7d8b5cb9dd": {
      "model_module": "@jupyter-widgets/controls",
      "model_module_version": "2.0.0",
      "model_name": "ToggleButtonModel",
      "state": {
       "button_style": "primary",
       "icon": "stack-exchange",
       "layout": "IPY_MODEL_c3fe4aad607147ce860c0471975678c4",
       "style": "IPY_MODEL_0d00cc8dde154bf3aca9fc35019f2161",
       "tooltip": "Discover STAC Catalog"
      }
     },
     "166c173b04f04a3aab23a8f1edadda1d": {
      "model_module": "@jupyter-widgets/base",
      "model_module_version": "2.0.0",
      "model_name": "LayoutModel",
      "state": {
       "height": "18px",
       "padding": "0px 8px 25px 8px",
       "width": "30ex"
      }
     },
     "16e1cbe90a684704b43b6a8a108cae7a": {
      "model_module": "@jupyter-widgets/controls",
      "model_module_version": "2.0.0",
      "model_name": "ToggleButtonModel",
      "state": {
       "icon": "server",
       "layout": "IPY_MODEL_8161e13f82294c89ae322a7bd443e4b7",
       "style": "IPY_MODEL_02ab2a9c2019464a8e570558b068ede9",
       "tooltip": "Layer Manager",
       "value": true
      }
     },
     "18230eacc0274638986432835fc70194": {
      "model_module": "@jupyter-widgets/controls",
      "model_module_version": "2.0.0",
      "model_name": "ToggleButtonStyleModel",
      "state": {
       "description_width": "",
       "font_family": null,
       "font_size": null,
       "font_style": null,
       "font_variant": null,
       "font_weight": null,
       "text_color": null,
       "text_decoration": null
      }
     },
     "18d8feaf11e94c1da47b2af48d6d3720": {
      "model_module": "@jupyter-widgets/controls",
      "model_module_version": "2.0.0",
      "model_name": "ButtonModel",
      "state": {
       "icon": "gear",
       "layout": "IPY_MODEL_2ea0353b04fc4d2b85bff43a09acb927",
       "style": "IPY_MODEL_ab420259386645828312ae8814ff61f9",
       "tooltip": "OpenStreetMap"
      }
     },
     "18f98b67593741a2a47c728287290dfb": {
      "model_module": "@jupyter-widgets/controls",
      "model_module_version": "2.0.0",
      "model_name": "CheckboxStyleModel",
      "state": {
       "description_width": ""
      }
     },
     "1a44c999758449538384df9e3c1abc21": {
      "model_module": "@jupyter-widgets/controls",
      "model_module_version": "2.0.0",
      "model_name": "GridBoxModel",
      "state": {
       "children": [
        "IPY_MODEL_ee7d6583d68c41c7abe81f8a0373c8ae",
        "IPY_MODEL_609e9621b98a4b35a971ffbc0f01b316",
        "IPY_MODEL_019d1350549a40aaa1fb75066d3408c6",
        "IPY_MODEL_3bf2a3c7e2744686894f925c15155501",
        "IPY_MODEL_7ab614c8259f43af91de2ad1945af495",
        "IPY_MODEL_708d25fe2dd0409e8e3b1b9e6749c635",
        "IPY_MODEL_8e1bd0d81aaa4a3b9f61053ff9575219",
        "IPY_MODEL_ab748a9a6ff2419bb9e03f635a1dadc4",
        "IPY_MODEL_d4cfc36d730e4afdad38cd785f9401d5",
        "IPY_MODEL_686bc034acb246fe957357d14628f25e",
        "IPY_MODEL_649972fceff64ad0ba2fb1851a224458",
        "IPY_MODEL_891d8452532a4dde9cbd1c85c8d95b3f",
        "IPY_MODEL_6cb0d74069764353900c064fb413cbcc",
        "IPY_MODEL_6dc10e80a835427d90a139d96c8745ab",
        "IPY_MODEL_4784bd273fc64aa7b73bd2c7289d6386",
        "IPY_MODEL_4db11fbff67c41ffb7092f6f0599cf31",
        "IPY_MODEL_155862101b3c4a7a8712ed7d8b5cb9dd",
        "IPY_MODEL_77cef5257620498988843d80fdbfdf7c"
       ],
       "layout": "IPY_MODEL_3eb5185fd928468ba4ef971a904b25b2"
      }
     },
     "1b62309a1749472c85d7d6de13cbf469": {
      "model_module": "@jupyter-widgets/base",
      "model_module_version": "2.0.0",
      "model_name": "LayoutModel",
      "state": {
       "height": "auto",
       "padding": "0px 0px 0px 4px",
       "width": "auto"
      }
     },
     "1caa514c985441dda57985869e95ec5e": {
      "model_module": "@jupyter-widgets/controls",
      "model_module_version": "2.0.0",
      "model_name": "ToggleButtonModel",
      "state": {
       "icon": "server",
       "layout": "IPY_MODEL_69a2b0c0cda44b53adf3108d8061b692",
       "style": "IPY_MODEL_6a2cc8b0affb4d0ab7ccf3e3ea121ac0",
       "tooltip": "Layer Manager",
       "value": true
      }
     },
     "1df096223fce4cacb986139c41729a4b": {
      "model_module": "@jupyter-widgets/controls",
      "model_module_version": "2.0.0",
      "model_name": "VBoxModel",
      "state": {
       "children": [
        "IPY_MODEL_77c654cd992643589b4d017c0d626963",
        "IPY_MODEL_83c00bc751f146b6a4628a68bfd563ab"
       ],
       "layout": "IPY_MODEL_b8f9709397d443c8aa6c68d97b891e66"
      }
     },
     "1ffc378872844373a0e82216ff7f8290": {
      "model_module": "@jupyter-widgets/base",
      "model_module_version": "2.0.0",
      "model_name": "LayoutModel",
      "state": {
       "height": "auto",
       "padding": "0px 0px 0px 4px",
       "width": "auto"
      }
     },
     "21168887b2d6409cb5304014b10745cd": {
      "model_module": "@jupyter-widgets/base",
      "model_module_version": "2.0.0",
      "model_name": "LayoutModel",
      "state": {
       "height": "auto",
       "padding": "0px 0px 0px 4px",
       "width": "auto"
      }
     },
     "21d351e31b384146a67b238d3e994a82": {
      "model_module": "@jupyter-widgets/controls",
      "model_module_version": "2.0.0",
      "model_name": "FloatSliderModel",
      "state": {
       "behavior": "drag-tap",
       "layout": "IPY_MODEL_2e922d57a2dc4019bd89eb26e820d5e1",
       "max": 1,
       "readout": false,
       "step": 0.01,
       "style": "IPY_MODEL_9bc44d62b6ef47aeb253ae6441875444",
       "value": 1
      }
     },
     "21fa21ca44614d579e9e713d66219167": {
      "model_module": "@jupyter-widgets/base",
      "model_module_version": "2.0.0",
      "model_name": "LayoutModel",
      "state": {
       "height": "auto",
       "padding": "0px 0px 0px 4px",
       "width": "auto"
      }
     },
     "2575a1ad26804309933cf73743bcb631": {
      "model_module": "@jupyter-widgets/controls",
      "model_module_version": "2.0.0",
      "model_name": "ToggleButtonStyleModel",
      "state": {
       "description_width": "",
       "font_family": null,
       "font_size": null,
       "font_style": null,
       "font_variant": null,
       "font_weight": null,
       "text_color": null,
       "text_decoration": null
      }
     },
     "2a34de759edb4aeab15a31138ac74cd9": {
      "model_module": "@jupyter-widgets/base",
      "model_module_version": "2.0.0",
      "model_name": "LayoutModel",
      "state": {
       "height": "auto",
       "padding": "0px 0px 0px 4px",
       "width": "auto"
      }
     },
     "2acf623033684be78393e137758a8ff4": {
      "model_module": "@jupyter-widgets/controls",
      "model_module_version": "2.0.0",
      "model_name": "ToggleButtonModel",
      "state": {
       "icon": "wrench",
       "layout": "IPY_MODEL_3e9963970056470cb77ab144b793e542",
       "style": "IPY_MODEL_c0942e1a5e064f0185533110911dd715",
       "tooltip": "Toolbar"
      }
     },
     "2ca762d608c44462950ab3115d87f233": {
      "model_module": "@jupyter-widgets/base",
      "model_module_version": "2.0.0",
      "model_name": "LayoutModel",
      "state": {
       "height": "28px",
       "padding": "0px 0px 0px 4px",
       "width": "28px"
      }
     },
     "2d6587b480b6449f85a201183d067253": {
      "model_module": "@jupyter-widgets/controls",
      "model_module_version": "2.0.0",
      "model_name": "ButtonModel",
      "state": {
       "icon": "gear",
       "layout": "IPY_MODEL_e3e2ba58e5f941a9961d1774e5458791",
       "style": "IPY_MODEL_3321c0e983de42d984177df2eccf5186",
       "tooltip": "OpenStreetMap.Mapnik"
      }
     },
     "2d8c8c6f86864b73b4b145b31595cd71": {
      "model_module": "@jupyter-widgets/controls",
      "model_module_version": "2.0.0",
      "model_name": "CheckboxStyleModel",
      "state": {
       "description_width": ""
      }
     },
     "2e922d57a2dc4019bd89eb26e820d5e1": {
      "model_module": "@jupyter-widgets/base",
      "model_module_version": "2.0.0",
      "model_name": "LayoutModel",
      "state": {
       "width": "80px"
      }
     },
     "2ea0353b04fc4d2b85bff43a09acb927": {
      "model_module": "@jupyter-widgets/base",
      "model_module_version": "2.0.0",
      "model_name": "LayoutModel",
      "state": {
       "height": "25px",
       "padding": "0px 0px 0px 0px",
       "width": "25px"
      }
     },
     "2eb286383b354138a4ec6ccebb780081": {
      "model_module": "@jupyter-widgets/controls",
      "model_module_version": "2.0.0",
      "model_name": "CheckboxModel",
      "state": {
       "description": "OpenStreetMap.Mapnik",
       "disabled": false,
       "indent": false,
       "layout": "IPY_MODEL_d3d062b48de2428387edb9cdce48a13e",
       "style": "IPY_MODEL_9679ec961698471d8447d2e06bd6740d",
       "value": true
      }
     },
     "2ef6b6bb91af49b5a182094c9fa9ce2c": {
      "model_module": "@jupyter-widgets/base",
      "model_module_version": "2.0.0",
      "model_name": "LayoutModel",
      "state": {
       "height": "18px",
       "width": "25ex"
      }
     },
     "3321c0e983de42d984177df2eccf5186": {
      "model_module": "@jupyter-widgets/controls",
      "model_module_version": "2.0.0",
      "model_name": "ButtonStyleModel",
      "state": {
       "font_family": null,
       "font_size": null,
       "font_style": null,
       "font_variant": null,
       "font_weight": null,
       "text_color": null,
       "text_decoration": null
      }
     },
     "33d3d4cf0abd41d7991d543f29c0740b": {
      "model_module": "@jupyter-widgets/base",
      "model_module_version": "2.0.0",
      "model_name": "LayoutModel",
      "state": {
       "height": "18px",
       "width": "25ex"
      }
     },
     "346ce42d80e84f309dbe302cc1bd0ebc": {
      "model_module": "@jupyter-widgets/controls",
      "model_module_version": "2.0.0",
      "model_name": "VBoxModel",
      "state": {
       "children": [
        "IPY_MODEL_0cd587c65c844e06b6021808cb98d438",
        "IPY_MODEL_fe6a7a30d16940348814edea83c779b6"
       ],
       "layout": "IPY_MODEL_5757ba0c55e74f0a827b7ddb00dd456c"
      }
     },
     "34a63c9f0918461184756568bb4eabac": {
      "model_module": "@jupyter-widgets/base",
      "model_module_version": "2.0.0",
      "model_name": "LayoutModel",
      "state": {
       "height": "auto",
       "padding": "0px 0px 0px 4px",
       "width": "auto"
      }
     },
     "36eb8ab73c164ab198f6fdde733c01a1": {
      "model_module": "@jupyter-widgets/base",
      "model_module_version": "2.0.0",
      "model_name": "LayoutModel",
      "state": {
       "width": "80px"
      }
     },
     "3b85b48508be455288f6e290a278ddee": {
      "model_module": "@jupyter-widgets/controls",
      "model_module_version": "2.0.0",
      "model_name": "SliderStyleModel",
      "state": {
       "description_width": ""
      }
     },
     "3bc1e4a6f235496caf42587217c76db3": {
      "model_module": "@jupyter-widgets/base",
      "model_module_version": "2.0.0",
      "model_name": "LayoutModel",
      "state": {
       "height": "28px",
       "padding": "0px 0px 0px 4px",
       "width": "28px"
      }
     },
     "3bf2a3c7e2744686894f925c15155501": {
      "model_module": "@jupyter-widgets/controls",
      "model_module_version": "2.0.0",
      "model_name": "ToggleButtonModel",
      "state": {
       "button_style": "primary",
       "icon": "folder-open",
       "layout": "IPY_MODEL_9127b52eb38e45f08b2294a6dd13d282",
       "style": "IPY_MODEL_7dc0f9ce57a14c3589ca51707f0e9dee",
       "tooltip": "Open local vector/raster data"
      }
     },
     "3c2d97ac1a97476dba9d6097677088be": {
      "model_module": "jupyter-leaflet",
      "model_module_version": "^0.19",
      "model_name": "LeafletScaleControlModel",
      "state": {
       "_model_module_version": "^0.19",
       "_view_module_version": "^0.19",
       "imperial": true,
       "max_width": 100,
       "metric": true,
       "options": [
        "imperial",
        "max_width",
        "metric",
        "position",
        "update_when_idle"
       ],
       "position": "bottomleft",
       "update_when_idle": false
      }
     },
     "3cd3955c46b740e580e639c2d50daee1": {
      "model_module": "@jupyter-widgets/controls",
      "model_module_version": "2.0.0",
      "model_name": "HBoxModel",
      "state": {
       "children": [
        "IPY_MODEL_2eb286383b354138a4ec6ccebb780081",
        "IPY_MODEL_2d6587b480b6449f85a201183d067253",
        "IPY_MODEL_21d351e31b384146a67b238d3e994a82"
       ],
       "layout": "IPY_MODEL_928de32732334948a6b191e6ec45806b"
      }
     },
     "3e9963970056470cb77ab144b793e542": {
      "model_module": "@jupyter-widgets/base",
      "model_module_version": "2.0.0",
      "model_name": "LayoutModel",
      "state": {
       "height": "28px",
       "padding": "0px 0px 0px 4px",
       "width": "28px"
      }
     },
     "3ead0253182e46faa00f6d10e22a540b": {
      "model_module": "@jupyter-widgets/base",
      "model_module_version": "2.0.0",
      "model_name": "LayoutModel",
      "state": {
       "height": "28px",
       "padding": "0px 0px 0px 4px",
       "width": "28px"
      }
     },
     "3eb5185fd928468ba4ef971a904b25b2": {
      "model_module": "@jupyter-widgets/base",
      "model_module_version": "2.0.0",
      "model_name": "LayoutModel",
      "state": {
       "grid_gap": "1px 1px",
       "grid_template_columns": "32px 32px 32px ",
       "grid_template_rows": "32px 32px 32px 32px 32px 32px ",
       "padding": "5px",
       "width": "109px"
      }
     },
     "40337cfb5e5041829e97e10a73c797d9": {
      "model_module": "@jupyter-widgets/controls",
      "model_module_version": "2.0.0",
      "model_name": "ToggleButtonStyleModel",
      "state": {
       "description_width": "",
       "font_family": null,
       "font_size": null,
       "font_style": null,
       "font_variant": null,
       "font_weight": null,
       "text_color": null,
       "text_decoration": null
      }
     },
     "40a19fd866dc42948a0dec99c8da1733": {
      "model_module": "@jupyter-widgets/controls",
      "model_module_version": "2.0.0",
      "model_name": "ToggleButtonStyleModel",
      "state": {
       "description_width": "",
       "font_family": null,
       "font_size": null,
       "font_style": null,
       "font_variant": null,
       "font_weight": null,
       "text_color": null,
       "text_decoration": null
      }
     },
     "448389bf516a42cfbdb8ee7b9aedbfd4": {
      "model_module": "@jupyter-widgets/controls",
      "model_module_version": "2.0.0",
      "model_name": "CheckboxModel",
      "state": {
       "description": "OpenStreetMap",
       "disabled": false,
       "indent": false,
       "layout": "IPY_MODEL_2ef6b6bb91af49b5a182094c9fa9ce2c",
       "style": "IPY_MODEL_2d8c8c6f86864b73b4b145b31595cd71",
       "value": true
      }
     },
     "4784bd273fc64aa7b73bd2c7289d6386": {
      "model_module": "@jupyter-widgets/controls",
      "model_module_version": "2.0.0",
      "model_name": "ToggleButtonModel",
      "state": {
       "button_style": "primary",
       "icon": "table",
       "layout": "IPY_MODEL_34a63c9f0918461184756568bb4eabac",
       "style": "IPY_MODEL_755c20bb14e64ac8b662d55bc2bcc952",
       "tooltip": "Open attribute table"
      }
     },
     "478968642cf84f959b860c6e784e81a8": {
      "model_module": "@jupyter-widgets/controls",
      "model_module_version": "2.0.0",
      "model_name": "ToggleButtonStyleModel",
      "state": {
       "description_width": "",
       "font_family": null,
       "font_size": null,
       "font_style": null,
       "font_variant": null,
       "font_weight": null,
       "text_color": null,
       "text_decoration": null
      }
     },
     "488e8ee63fdf431092608821357e040c": {
      "model_module": "@jupyter-widgets/controls",
      "model_module_version": "2.0.0",
      "model_name": "VBoxModel",
      "state": {
       "children": [
        "IPY_MODEL_0ca421d8ef6142e49ead6e158b96f06f",
        "IPY_MODEL_9c977728afde486281f693ac84589742"
       ],
       "layout": "IPY_MODEL_934b179eae8f4e61ad81688b492ef5d9"
      }
     },
     "48a99931cb1141e78a34b3327cf0d946": {
      "model_module": "@jupyter-widgets/controls",
      "model_module_version": "2.0.0",
      "model_name": "DirectionalLinkModel",
      "state": {
       "source": [
        "IPY_MODEL_21d351e31b384146a67b238d3e994a82",
        "value"
       ],
       "target": [
        "IPY_MODEL_d126c3e8549147479d478539904e7cbf",
        "opacity"
       ]
      }
     },
     "4a5d5be59dda40d9ad6e1df5df516e77": {
      "model_module": "@jupyter-widgets/controls",
      "model_module_version": "2.0.0",
      "model_name": "ToggleButtonStyleModel",
      "state": {
       "description_width": "",
       "font_family": null,
       "font_size": null,
       "font_style": null,
       "font_variant": null,
       "font_weight": null,
       "text_color": null,
       "text_decoration": null
      }
     },
     "4b018c1958644a0aa052386daaf9f8d6": {
      "model_module": "@jupyter-widgets/controls",
      "model_module_version": "2.0.0",
      "model_name": "ToggleButtonStyleModel",
      "state": {
       "description_width": "",
       "font_family": null,
       "font_size": null,
       "font_style": null,
       "font_variant": null,
       "font_weight": null,
       "text_color": null,
       "text_decoration": null
      }
     },
     "4b8b13068a2e4c4cbdfdf5fdf5435100": {
      "model_module": "@jupyter-widgets/controls",
      "model_module_version": "2.0.0",
      "model_name": "ToggleButtonStyleModel",
      "state": {
       "description_width": "",
       "font_family": null,
       "font_size": null,
       "font_style": null,
       "font_variant": null,
       "font_weight": null,
       "text_color": null,
       "text_decoration": null
      }
     },
     "4c8df5e6d48e45cf8243a2fa46ce6ef6": {
      "model_module": "@jupyter-widgets/controls",
      "model_module_version": "2.0.0",
      "model_name": "ButtonStyleModel",
      "state": {
       "font_family": null,
       "font_size": null,
       "font_style": null,
       "font_variant": null,
       "font_weight": null,
       "text_color": null,
       "text_decoration": null
      }
     },
     "4db11fbff67c41ffb7092f6f0599cf31": {
      "model_module": "@jupyter-widgets/controls",
      "model_module_version": "2.0.0",
      "model_name": "ToggleButtonModel",
      "state": {
       "button_style": "primary",
       "icon": "pencil-square-o",
       "layout": "IPY_MODEL_1b62309a1749472c85d7d6de13cbf469",
       "style": "IPY_MODEL_4a5d5be59dda40d9ad6e1df5df516e77",
       "tooltip": "Create vector data"
      }
     },
     "4dcb0780203548338d171ee782228d72": {
      "model_module": "@jupyter-widgets/controls",
      "model_module_version": "2.0.0",
      "model_name": "CheckboxStyleModel",
      "state": {
       "description_width": ""
      }
     },
     "4fa254e61a3348329c5a416fc706d1c6": {
      "model_module": "@jupyter-widgets/controls",
      "model_module_version": "2.0.0",
      "model_name": "CheckboxStyleModel",
      "state": {
       "description_width": ""
      }
     },
     "5189b8b2aaec4e0bb6903f3c197b27ff": {
      "model_module": "@jupyter-widgets/base",
      "model_module_version": "2.0.0",
      "model_name": "LayoutModel",
      "state": {
       "height": "auto",
       "padding": "0px 0px 0px 4px",
       "width": "auto"
      }
     },
     "535c9772796d4ff5b6cea31f7e91327c": {
      "model_module": "@jupyter-widgets/base",
      "model_module_version": "2.0.0",
      "model_name": "LayoutModel",
      "state": {}
     },
     "57460c2b66164d29bd065f3217c18420": {
      "model_module": "@jupyter-widgets/controls",
      "model_module_version": "2.0.0",
      "model_name": "ToggleButtonStyleModel",
      "state": {
       "description_width": "",
       "font_family": null,
       "font_size": null,
       "font_style": null,
       "font_variant": null,
       "font_weight": null,
       "text_color": null,
       "text_decoration": null
      }
     },
     "5757ba0c55e74f0a827b7ddb00dd456c": {
      "model_module": "@jupyter-widgets/base",
      "model_module_version": "2.0.0",
      "model_name": "LayoutModel",
      "state": {}
     },
     "57fa682e819f4e4b9611a2ba47f5d4ba": {
      "model_module": "@jupyter-widgets/controls",
      "model_module_version": "2.0.0",
      "model_name": "CheckboxModel",
      "state": {
       "description": "All layers on/off",
       "disabled": false,
       "indent": false,
       "layout": "IPY_MODEL_166c173b04f04a3aab23a8f1edadda1d",
       "style": "IPY_MODEL_18f98b67593741a2a47c728287290dfb",
       "value": false
      }
     },
     "58de77d96b754e5ea75bc460a687f2fb": {
      "model_module": "@jupyter-widgets/controls",
      "model_module_version": "2.0.0",
      "model_name": "CheckboxStyleModel",
      "state": {
       "description_width": ""
      }
     },
     "5cbef7cce1634262bb8eb929c2595b65": {
      "model_module": "@jupyter-widgets/base",
      "model_module_version": "2.0.0",
      "model_name": "LayoutModel",
      "state": {}
     },
     "5d0cc3b91f0f4b5dad08079930d0c60e": {
      "model_module": "jupyter-leaflet",
      "model_module_version": "^0.19",
      "model_name": "LeafletMapStyleModel",
      "state": {
       "_model_module_version": "^0.19"
      }
     },
     "5f04b066f4784d35b18fb29253462761": {
      "model_module": "@jupyter-widgets/controls",
      "model_module_version": "2.0.0",
      "model_name": "ButtonModel",
      "state": {
       "icon": "gear",
       "layout": "IPY_MODEL_92c3a421895c430b9bbefb5325337ce1",
       "style": "IPY_MODEL_a2bb40dd19b04079ab8129ed44339859",
       "tooltip": "OpenStreetMap.Mapnik"
      }
     },
     "5f63bcbbb7f2445e8cb640275f715ac7": {
      "model_module": "@jupyter-widgets/base",
      "model_module_version": "2.0.0",
      "model_name": "LayoutModel",
      "state": {
       "height": "18px",
       "width": "25ex"
      }
     },
     "609e9621b98a4b35a971ffbc0f01b316": {
      "model_module": "@jupyter-widgets/controls",
      "model_module_version": "2.0.0",
      "model_name": "ToggleButtonModel",
      "state": {
       "button_style": "primary",
       "icon": "globe",
       "layout": "IPY_MODEL_2a34de759edb4aeab15a31138ac74cd9",
       "style": "IPY_MODEL_ff62b37da9a84d828d63ffc1cc431261",
       "tooltip": "Split-panel map"
      }
     },
     "61ee864eb6de4405a404bf2f33b50341": {
      "model_module": "@jupyter-widgets/controls",
      "model_module_version": "2.0.0",
      "model_name": "ToggleButtonModel",
      "state": {
       "button_style": "primary",
       "icon": "times",
       "layout": "IPY_MODEL_af5507aeebbf46ea9e29926e99cdaf84",
       "style": "IPY_MODEL_0d597f82032543d8951af4cfef19c369",
       "tooltip": "Close the tool"
      }
     },
     "649972fceff64ad0ba2fb1851a224458": {
      "model_module": "@jupyter-widgets/controls",
      "model_module_version": "2.0.0",
      "model_name": "ToggleButtonModel",
      "state": {
       "button_style": "primary",
       "icon": "search",
       "layout": "IPY_MODEL_d2c8144df3614d34a674a74742bcdef3",
       "style": "IPY_MODEL_8d1732fe69e544d0bf036b3bdd3e87d9",
       "tooltip": "Search XYZ tile services"
      }
     },
     "686bc034acb246fe957357d14628f25e": {
      "model_module": "@jupyter-widgets/controls",
      "model_module_version": "2.0.0",
      "model_name": "ToggleButtonModel",
      "state": {
       "button_style": "primary",
       "icon": "info",
       "layout": "IPY_MODEL_ab1ac84f443948b7bf9b6d93b30a0911",
       "style": "IPY_MODEL_478968642cf84f959b860c6e784e81a8",
       "tooltip": "Get COG/STAC pixel value"
      }
     },
     "69a2b0c0cda44b53adf3108d8061b692": {
      "model_module": "@jupyter-widgets/base",
      "model_module_version": "2.0.0",
      "model_name": "LayoutModel",
      "state": {
       "height": "28px",
       "padding": "0px 0px 0px 4px",
       "width": "28px"
      }
     },
     "6a2cc8b0affb4d0ab7ccf3e3ea121ac0": {
      "model_module": "@jupyter-widgets/controls",
      "model_module_version": "2.0.0",
      "model_name": "ToggleButtonStyleModel",
      "state": {
       "description_width": "",
       "font_family": null,
       "font_size": null,
       "font_style": null,
       "font_variant": null,
       "font_weight": null,
       "text_color": null,
       "text_decoration": null
      }
     },
     "6c58245eb8fc44a897f27147f219cf00": {
      "model_module": "@jupyter-widgets/controls",
      "model_module_version": "2.0.0",
      "model_name": "VBoxModel",
      "state": {
       "children": [
        "IPY_MODEL_717ed1f078204ba9ae33e076c3e20250",
        "IPY_MODEL_3cd3955c46b740e580e639c2d50daee1"
       ],
       "layout": "IPY_MODEL_5cbef7cce1634262bb8eb929c2595b65"
      }
     },
     "6cb0d74069764353900c064fb413cbcc": {
      "model_module": "@jupyter-widgets/controls",
      "model_module_version": "2.0.0",
      "model_name": "ToggleButtonModel",
      "state": {
       "button_style": "primary",
       "icon": "picture-o",
       "layout": "IPY_MODEL_83eb81b4ae274132ae2e36271a4e0439",
       "style": "IPY_MODEL_7c2504a3fc1a4d0e951565620fc5b7a1",
       "tooltip": "Open COG/STAC dataset"
      }
     },
     "6dc10e80a835427d90a139d96c8745ab": {
      "model_module": "@jupyter-widgets/controls",
      "model_module_version": "2.0.0",
      "model_name": "ToggleButtonModel",
      "state": {
       "button_style": "primary",
       "icon": "search-plus",
       "layout": "IPY_MODEL_d169d4f2c1e04af9b248a87e8e8cd331",
       "style": "IPY_MODEL_57460c2b66164d29bd065f3217c18420",
       "tooltip": "Search features in GeoJSON layer"
      }
     },
     "708d25fe2dd0409e8e3b1b9e6749c635": {
      "model_module": "@jupyter-widgets/controls",
      "model_module_version": "2.0.0",
      "model_name": "ToggleButtonModel",
      "state": {
       "button_style": "primary",
       "icon": "fast-forward",
       "layout": "IPY_MODEL_5189b8b2aaec4e0bb6903f3c197b27ff",
       "style": "IPY_MODEL_0daa6d3cecb749c3af69c8c3765e2c07",
       "tooltip": "Activate the time slider"
      }
     },
     "717ed1f078204ba9ae33e076c3e20250": {
      "model_module": "@jupyter-widgets/controls",
      "model_module_version": "2.0.0",
      "model_name": "CheckboxModel",
      "state": {
       "description": "All layers on/off",
       "disabled": false,
       "indent": false,
       "layout": "IPY_MODEL_c403b55f75aa4e8b9405a1885f132858",
       "style": "IPY_MODEL_0eaea72e0ac04445aefffeef7878f423",
       "value": false
      }
     },
     "71e886a66d3844ceab72b22b679e3861": {
      "model_module": "jupyter-leaflet",
      "model_module_version": "^0.19",
      "model_name": "LeafletMapModel",
      "state": {
       "_model_module_version": "^0.19",
       "_view_module_version": "^0.19",
       "bottom": 6701397,
       "center": [
        34.015512668149285,
        71.57332122029995
       ],
       "controls": [
        "IPY_MODEL_aba375155a6f48b595ba6d21a72887d2",
        "IPY_MODEL_db7c8c003b294576bc72dad126432e2f",
        "IPY_MODEL_bdd2c80cb8fd4c369e8235e92e6e550c",
        "IPY_MODEL_d3a9f040d668473ea48be298f66302fe",
        "IPY_MODEL_3c2d97ac1a97476dba9d6097677088be",
        "IPY_MODEL_93bcfba4d4404b0cabd904e7730197f8"
       ],
       "default_style": "IPY_MODEL_a67de40505df497486b02fdc4a25c820",
       "dragging_style": "IPY_MODEL_d23ccc2b6b5540b882e8bd5bcb5b3382",
       "east": 71.57953321637844,
       "fullscreen": false,
       "interpolation": "bilinear",
       "layers": [
        "IPY_MODEL_d126c3e8549147479d478539904e7cbf"
       ],
       "layout": "IPY_MODEL_a3da74afb6194f2a8e0b02fb9a34355e",
       "left": 11723877.027639877,
       "max_zoom": 24,
       "modisdate": "2025-04-07",
       "north": 34.02084829058292,
       "options": [
        "bounce_at_zoom_limits",
        "box_zoom",
        "center",
        "close_popup_on_click",
        "double_click_zoom",
        "dragging",
        "fullscreen",
        "inertia",
        "inertia_deceleration",
        "inertia_max_speed",
        "interpolation",
        "keyboard",
        "keyboard_pan_offset",
        "keyboard_zoom_offset",
        "max_zoom",
        "min_zoom",
        "prefer_canvas",
        "scroll_wheel_zoom",
        "tap",
        "tap_tolerance",
        "touch_zoom",
        "world_copy_jump",
        "zoom",
        "zoom_animation_threshold",
        "zoom_delta",
        "zoom_snap"
       ],
       "prefer_canvas": false,
       "right": 11724456.027639877,
       "scroll_wheel_zoom": true,
       "south": 34.01017671035206,
       "style": "IPY_MODEL_a67de40505df497486b02fdc4a25c820",
       "top": 6700797,
       "west": 71.56710922422145,
       "window_url": "http://localhost:8888/lab/workspaces/auto-e/tree/Leafmap.ipynb",
       "zoom": 16
      }
     },
     "73259fd77d9d4615bdf7834f8067cda4": {
      "model_module": "@jupyter-widgets/base",
      "model_module_version": "2.0.0",
      "model_name": "LayoutModel",
      "state": {}
     },
     "743ad571420c42eea44a678d3bd013b7": {
      "model_module": "@jupyter-widgets/controls",
      "model_module_version": "2.0.0",
      "model_name": "ToggleButtonModel",
      "state": {
       "button_style": "primary",
       "icon": "times",
       "layout": "IPY_MODEL_83652c04662b4679aedc547def46e511",
       "style": "IPY_MODEL_13deaf4f633743408f96dd915cbde285",
       "tooltip": "Close the tool"
      }
     },
     "755c20bb14e64ac8b662d55bc2bcc952": {
      "model_module": "@jupyter-widgets/controls",
      "model_module_version": "2.0.0",
      "model_name": "ToggleButtonStyleModel",
      "state": {
       "description_width": "",
       "font_family": null,
       "font_size": null,
       "font_style": null,
       "font_variant": null,
       "font_weight": null,
       "text_color": null,
       "text_decoration": null
      }
     },
     "75d5ad638a144444864fee981123f2d9": {
      "model_module": "@jupyter-widgets/controls",
      "model_module_version": "2.0.0",
      "model_name": "LinkModel",
      "state": {
       "source": [
        "IPY_MODEL_d6f6b17b2f9d4a329daed5e3134ebfcb",
        "value"
       ],
       "target": [
        "IPY_MODEL_d126c3e8549147479d478539904e7cbf",
        "visible"
       ]
      }
     },
     "77371c1f69924ed4a0c168b9db60ce2f": {
      "model_module": "@jupyter-widgets/base",
      "model_module_version": "2.0.0",
      "model_name": "LayoutModel",
      "state": {
       "padding": "0px 8px 0px 8px"
      }
     },
     "77c654cd992643589b4d017c0d626963": {
      "model_module": "@jupyter-widgets/controls",
      "model_module_version": "2.0.0",
      "model_name": "CheckboxModel",
      "state": {
       "description": "All layers on/off",
       "disabled": false,
       "indent": false,
       "layout": "IPY_MODEL_da515ff4aeb6480caed2fae4312472e0",
       "style": "IPY_MODEL_ddafc93111fc40af8774b84dc4b3ec8c",
       "value": false
      }
     },
     "77cef5257620498988843d80fdbfdf7c": {
      "model_module": "@jupyter-widgets/controls",
      "model_module_version": "2.0.0",
      "model_name": "ToggleButtonModel",
      "state": {
       "button_style": "primary",
       "icon": "plane",
       "layout": "IPY_MODEL_fa45874f55ba43098655409f6cf95b7f",
       "style": "IPY_MODEL_c4991fbdb7fb4cc68426f3e0871ce6ab",
       "tooltip": "Search OpenAerialMap"
      }
     },
     "79a26743507e4b97a3e34822576aea9b": {
      "model_module": "@jupyter-widgets/controls",
      "model_module_version": "2.0.0",
      "model_name": "FloatSliderModel",
      "state": {
       "behavior": "drag-tap",
       "layout": "IPY_MODEL_9f82e31c0a564af1af7d650288421796",
       "max": 1,
       "readout": false,
       "step": 0.01,
       "style": "IPY_MODEL_3b85b48508be455288f6e290a278ddee",
       "value": 1
      }
     },
     "7ab614c8259f43af91de2ad1945af495": {
      "model_module": "@jupyter-widgets/controls",
      "model_module_version": "2.0.0",
      "model_name": "ToggleButtonModel",
      "state": {
       "button_style": "primary",
       "icon": "gears",
       "layout": "IPY_MODEL_c53e1767905440298ba4fb0516304b55",
       "style": "IPY_MODEL_a6868978cf5340adaf16d3b88d5201f7",
       "tooltip": "WhiteboxTools for local geoprocessing"
      }
     },
     "7b3e488c3ee8476e877af6ea78edb34f": {
      "model_module": "@jupyter-widgets/controls",
      "model_module_version": "2.0.0",
      "model_name": "HBoxModel",
      "state": {
       "children": [
        "IPY_MODEL_d6f6b17b2f9d4a329daed5e3134ebfcb",
        "IPY_MODEL_5f04b066f4784d35b18fb29253462761",
        "IPY_MODEL_79a26743507e4b97a3e34822576aea9b"
       ],
       "layout": "IPY_MODEL_e277e369cfa24625bd340dd06087b043"
      }
     },
     "7c2504a3fc1a4d0e951565620fc5b7a1": {
      "model_module": "@jupyter-widgets/controls",
      "model_module_version": "2.0.0",
      "model_name": "ToggleButtonStyleModel",
      "state": {
       "description_width": "",
       "font_family": null,
       "font_size": null,
       "font_style": null,
       "font_variant": null,
       "font_weight": null,
       "text_color": null,
       "text_decoration": null
      }
     },
     "7dc0f9ce57a14c3589ca51707f0e9dee": {
      "model_module": "@jupyter-widgets/controls",
      "model_module_version": "2.0.0",
      "model_name": "ToggleButtonStyleModel",
      "state": {
       "description_width": "",
       "font_family": null,
       "font_size": null,
       "font_style": null,
       "font_variant": null,
       "font_weight": null,
       "text_color": null,
       "text_decoration": null
      }
     },
     "80c04419de9849098b6925b5e2127a24": {
      "model_module": "@jupyter-widgets/controls",
      "model_module_version": "2.0.0",
      "model_name": "VBoxModel",
      "state": {
       "children": [
        "IPY_MODEL_1a44c999758449538384df9e3c1abc21"
       ],
       "layout": "IPY_MODEL_ed422945e9194ebe957c170ac3dfbeca"
      }
     },
     "8160313fd1da4c16b8367fd5bf898812": {
      "model_module": "@jupyter-widgets/controls",
      "model_module_version": "2.0.0",
      "model_name": "ToggleButtonModel",
      "state": {
       "icon": "server",
       "layout": "IPY_MODEL_2ca762d608c44462950ab3115d87f233",
       "style": "IPY_MODEL_18230eacc0274638986432835fc70194",
       "tooltip": "Layer Manager",
       "value": true
      }
     },
     "8161e13f82294c89ae322a7bd443e4b7": {
      "model_module": "@jupyter-widgets/base",
      "model_module_version": "2.0.0",
      "model_name": "LayoutModel",
      "state": {
       "height": "28px",
       "padding": "0px 0px 0px 4px",
       "width": "28px"
      }
     },
     "83652c04662b4679aedc547def46e511": {
      "model_module": "@jupyter-widgets/base",
      "model_module_version": "2.0.0",
      "model_name": "LayoutModel",
      "state": {
       "height": "28px",
       "padding": "0px 0px 0px 4px",
       "width": "28px"
      }
     },
     "83c00bc751f146b6a4628a68bfd563ab": {
      "model_module": "@jupyter-widgets/controls",
      "model_module_version": "2.0.0",
      "model_name": "HBoxModel",
      "state": {
       "children": [
        "IPY_MODEL_448389bf516a42cfbdb8ee7b9aedbfd4",
        "IPY_MODEL_18d8feaf11e94c1da47b2af48d6d3720",
        "IPY_MODEL_a2a6a5e99160499586d8af47651a161f"
       ],
       "layout": "IPY_MODEL_c8fb68a2ae0b468882251679c8f5befc"
      }
     },
     "83eb81b4ae274132ae2e36271a4e0439": {
      "model_module": "@jupyter-widgets/base",
      "model_module_version": "2.0.0",
      "model_name": "LayoutModel",
      "state": {
       "height": "auto",
       "padding": "0px 0px 0px 4px",
       "width": "auto"
      }
     },
     "85e30d47f0bb445d8bbf8ba7a9d77972": {
      "model_module": "@jupyter-widgets/controls",
      "model_module_version": "2.0.0",
      "model_name": "DirectionalLinkModel",
      "state": {
       "source": [
        "IPY_MODEL_a2a6a5e99160499586d8af47651a161f",
        "value"
       ],
       "target": [
        "IPY_MODEL_d126c3e8549147479d478539904e7cbf",
        "opacity"
       ]
      }
     },
     "87824df4976345a4ab62e279150c58c5": {
      "model_module": "@jupyter-widgets/controls",
      "model_module_version": "2.0.0",
      "model_name": "ButtonModel",
      "state": {
       "icon": "gear",
       "layout": "IPY_MODEL_bb6617aaa7eb4789b2bf467db337819a",
       "style": "IPY_MODEL_4c8df5e6d48e45cf8243a2fa46ce6ef6",
       "tooltip": "OpenStreetMap.Mapnik"
      }
     },
     "891d8452532a4dde9cbd1c85c8d95b3f": {
      "model_module": "@jupyter-widgets/controls",
      "model_module_version": "2.0.0",
      "model_name": "ToggleButtonModel",
      "state": {
       "button_style": "primary",
       "icon": "download",
       "layout": "IPY_MODEL_0f11f8bd550946b89eb6242f4b749035",
       "style": "IPY_MODEL_bec49e78840e4f63a94748918331d90f",
       "tooltip": "Download OSM data"
      }
     },
     "8942a117edf142748c760d3241051ed0": {
      "model_module": "@jupyter-widgets/controls",
      "model_module_version": "2.0.0",
      "model_name": "ToggleButtonModel",
      "state": {
       "button_style": "primary",
       "icon": "times",
       "layout": "IPY_MODEL_3ead0253182e46faa00f6d10e22a540b",
       "style": "IPY_MODEL_fd7dcb40afff4043a7080749604893a6",
       "tooltip": "Close the tool"
      }
     },
     "8b15cc1dab374107abe1264509c4b631": {
      "model_module": "@jupyter-widgets/base",
      "model_module_version": "2.0.0",
      "model_name": "LayoutModel",
      "state": {}
     },
     "8d1732fe69e544d0bf036b3bdd3e87d9": {
      "model_module": "@jupyter-widgets/controls",
      "model_module_version": "2.0.0",
      "model_name": "ToggleButtonStyleModel",
      "state": {
       "description_width": "",
       "font_family": null,
       "font_size": null,
       "font_style": null,
       "font_variant": null,
       "font_weight": null,
       "text_color": null,
       "text_decoration": null
      }
     },
     "8e1bd0d81aaa4a3b9f61053ff9575219": {
      "model_module": "@jupyter-widgets/controls",
      "model_module_version": "2.0.0",
      "model_name": "ToggleButtonModel",
      "state": {
       "button_style": "primary",
       "icon": "eraser",
       "layout": "IPY_MODEL_a91e2873a876408d899aa23796263202",
       "style": "IPY_MODEL_d2c702df5eb84f27a65b18d7f2517601",
       "tooltip": "Remove all drawn features"
      }
     },
     "91210b08a69e402498afaae3af3ac6a6": {
      "model_module": "@jupyter-widgets/base",
      "model_module_version": "2.0.0",
      "model_name": "LayoutModel",
      "state": {}
     },
     "9127b52eb38e45f08b2294a6dd13d282": {
      "model_module": "@jupyter-widgets/base",
      "model_module_version": "2.0.0",
      "model_name": "LayoutModel",
      "state": {
       "height": "auto",
       "padding": "0px 0px 0px 4px",
       "width": "auto"
      }
     },
     "928de32732334948a6b191e6ec45806b": {
      "model_module": "@jupyter-widgets/base",
      "model_module_version": "2.0.0",
      "model_name": "LayoutModel",
      "state": {
       "padding": "0px 8px 0px 8px"
      }
     },
     "92c3a421895c430b9bbefb5325337ce1": {
      "model_module": "@jupyter-widgets/base",
      "model_module_version": "2.0.0",
      "model_name": "LayoutModel",
      "state": {
       "height": "25px",
       "padding": "0px 0px 0px 0px",
       "width": "25px"
      }
     },
     "934b179eae8f4e61ad81688b492ef5d9": {
      "model_module": "@jupyter-widgets/base",
      "model_module_version": "2.0.0",
      "model_name": "LayoutModel",
      "state": {}
     },
     "93bcfba4d4404b0cabd904e7730197f8": {
      "model_module": "jupyter-leaflet",
      "model_module_version": "^0.19",
      "model_name": "LeafletWidgetControlModel",
      "state": {
       "_model_module_version": "^0.19",
       "_view_module_version": "^0.19",
       "options": [
        "position",
        "transparent_bg"
       ],
       "position": "topright",
       "widget": "IPY_MODEL_d8728b999fe44f19ac6b97457dfb985a"
      }
     },
     "93d7926792fd472a92cdf943f6fb6d5a": {
      "model_module": "@jupyter-widgets/controls",
      "model_module_version": "2.0.0",
      "model_name": "HBoxModel",
      "state": {
       "children": [
        "IPY_MODEL_cf3b008ce0b447f68b87a62ea6d0c5cc",
        "IPY_MODEL_16e1cbe90a684704b43b6a8a108cae7a"
       ],
       "layout": "IPY_MODEL_056a0b694d334a2c8aec3783c0dd9700"
      }
     },
     "9679ec961698471d8447d2e06bd6740d": {
      "model_module": "@jupyter-widgets/controls",
      "model_module_version": "2.0.0",
      "model_name": "CheckboxStyleModel",
      "state": {
       "description_width": ""
      }
     },
     "999be574545247049fe6912a05588394": {
      "model_module": "@jupyter-widgets/controls",
      "model_module_version": "2.0.0",
      "model_name": "VBoxModel",
      "state": {
       "children": [
        "IPY_MODEL_57fa682e819f4e4b9611a2ba47f5d4ba",
        "IPY_MODEL_b35384761f7f40eba6c028521b446ace"
       ],
       "layout": "IPY_MODEL_e2543b0c29514fb4ba1263cc76b8f235"
      }
     },
     "99a820e396c94d91964efdb1d5cf18e0": {
      "model_module": "@jupyter-widgets/base",
      "model_module_version": "2.0.0",
      "model_name": "LayoutModel",
      "state": {}
     },
     "9a7ebc573f634edaae5f784dc68e97ff": {
      "model_module": "@jupyter-widgets/base",
      "model_module_version": "2.0.0",
      "model_name": "LayoutModel",
      "state": {
       "width": "500px"
      }
     },
     "9ba4bb9e4e0b4cabadf34561df08bb52": {
      "model_module": "@jupyter-widgets/base",
      "model_module_version": "2.0.0",
      "model_name": "LayoutModel",
      "state": {
       "height": "18px",
       "padding": "0px 8px 25px 8px",
       "width": "30ex"
      }
     },
     "9bc44d62b6ef47aeb253ae6441875444": {
      "model_module": "@jupyter-widgets/controls",
      "model_module_version": "2.0.0",
      "model_name": "SliderStyleModel",
      "state": {
       "description_width": ""
      }
     },
     "9c977728afde486281f693ac84589742": {
      "model_module": "@jupyter-widgets/controls",
      "model_module_version": "2.0.0",
      "model_name": "VBoxModel",
      "state": {
       "children": [
        "IPY_MODEL_beba189a2ab5480a911abf122149bc9e",
        "IPY_MODEL_7b3e488c3ee8476e877af6ea78edb34f"
       ],
       "layout": "IPY_MODEL_91210b08a69e402498afaae3af3ac6a6"
      }
     },
     "9f82e31c0a564af1af7d650288421796": {
      "model_module": "@jupyter-widgets/base",
      "model_module_version": "2.0.0",
      "model_name": "LayoutModel",
      "state": {
       "width": "80px"
      }
     },
     "a2a6a5e99160499586d8af47651a161f": {
      "model_module": "@jupyter-widgets/controls",
      "model_module_version": "2.0.0",
      "model_name": "FloatSliderModel",
      "state": {
       "behavior": "drag-tap",
       "layout": "IPY_MODEL_36eb8ab73c164ab198f6fdde733c01a1",
       "max": 1,
       "readout": false,
       "step": 0.01,
       "style": "IPY_MODEL_e23ddf30ac5a49ff84e7f96ad5c015e7",
       "value": 1
      }
     },
     "a2bb40dd19b04079ab8129ed44339859": {
      "model_module": "@jupyter-widgets/controls",
      "model_module_version": "2.0.0",
      "model_name": "ButtonStyleModel",
      "state": {
       "font_family": null,
       "font_size": null,
       "font_style": null,
       "font_variant": null,
       "font_weight": null,
       "text_color": null,
       "text_decoration": null
      }
     },
     "a39a521f327545d892bfe4f944a22391": {
      "model_module": "@jupyter-widgets/base",
      "model_module_version": "2.0.0",
      "model_name": "LayoutModel",
      "state": {}
     },
     "a3da74afb6194f2a8e0b02fb9a34355e": {
      "model_module": "@jupyter-widgets/base",
      "model_module_version": "2.0.0",
      "model_name": "LayoutModel",
      "state": {
       "height": "600px"
      }
     },
     "a67de40505df497486b02fdc4a25c820": {
      "model_module": "jupyter-leaflet",
      "model_module_version": "^0.19",
      "model_name": "LeafletMapStyleModel",
      "state": {
       "_model_module_version": "^0.19"
      }
     },
     "a6868978cf5340adaf16d3b88d5201f7": {
      "model_module": "@jupyter-widgets/controls",
      "model_module_version": "2.0.0",
      "model_name": "ToggleButtonStyleModel",
      "state": {
       "description_width": "",
       "font_family": null,
       "font_size": null,
       "font_style": null,
       "font_variant": null,
       "font_weight": null,
       "text_color": null,
       "text_decoration": null
      }
     },
     "a83c1d6efefe41d8a99035067d173a37": {
      "model_module": "@jupyter-widgets/controls",
      "model_module_version": "2.0.0",
      "model_name": "ToggleButtonStyleModel",
      "state": {
       "description_width": "",
       "font_family": null,
       "font_size": null,
       "font_style": null,
       "font_variant": null,
       "font_weight": null,
       "text_color": null,
       "text_decoration": null
      }
     },
     "a91e2873a876408d899aa23796263202": {
      "model_module": "@jupyter-widgets/base",
      "model_module_version": "2.0.0",
      "model_name": "LayoutModel",
      "state": {
       "height": "auto",
       "padding": "0px 0px 0px 4px",
       "width": "auto"
      }
     },
     "ab1ac84f443948b7bf9b6d93b30a0911": {
      "model_module": "@jupyter-widgets/base",
      "model_module_version": "2.0.0",
      "model_name": "LayoutModel",
      "state": {
       "height": "auto",
       "padding": "0px 0px 0px 4px",
       "width": "auto"
      }
     },
     "ab420259386645828312ae8814ff61f9": {
      "model_module": "@jupyter-widgets/controls",
      "model_module_version": "2.0.0",
      "model_name": "ButtonStyleModel",
      "state": {
       "font_family": null,
       "font_size": null,
       "font_style": null,
       "font_variant": null,
       "font_weight": null,
       "text_color": null,
       "text_decoration": null
      }
     },
     "ab748a9a6ff2419bb9e03f635a1dadc4": {
      "model_module": "@jupyter-widgets/controls",
      "model_module_version": "2.0.0",
      "model_name": "ToggleButtonModel",
      "state": {
       "button_style": "primary",
       "icon": "camera",
       "layout": "IPY_MODEL_21168887b2d6409cb5304014b10745cd",
       "style": "IPY_MODEL_4b018c1958644a0aa052386daaf9f8d6",
       "tooltip": "Save map as HTML or image"
      }
     },
     "aba375155a6f48b595ba6d21a72887d2": {
      "model_module": "jupyter-leaflet",
      "model_module_version": "^0.19",
      "model_name": "LeafletZoomControlModel",
      "state": {
       "_model_module_version": "^0.19",
       "_view_module_version": "^0.19",
       "options": [
        "position",
        "zoom_in_text",
        "zoom_in_title",
        "zoom_out_text",
        "zoom_out_title"
       ]
      }
     },
     "aceed100e3a545e8aa04e9e11e5a2186": {
      "model_module": "@jupyter-widgets/base",
      "model_module_version": "2.0.0",
      "model_name": "LayoutModel",
      "state": {}
     },
     "af5507aeebbf46ea9e29926e99cdaf84": {
      "model_module": "@jupyter-widgets/base",
      "model_module_version": "2.0.0",
      "model_name": "LayoutModel",
      "state": {
       "height": "28px",
       "padding": "0px 0px 0px 4px",
       "width": "28px"
      }
     },
     "b257140852b64788a34fc74ad6fe617b": {
      "model_module": "@jupyter-widgets/controls",
      "model_module_version": "2.0.0",
      "model_name": "SliderStyleModel",
      "state": {
       "description_width": ""
      }
     },
     "b35384761f7f40eba6c028521b446ace": {
      "model_module": "@jupyter-widgets/controls",
      "model_module_version": "2.0.0",
      "model_name": "HBoxModel",
      "state": {
       "children": [
        "IPY_MODEL_0212a81219f246e6a71229e88090ce54",
        "IPY_MODEL_87824df4976345a4ab62e279150c58c5",
        "IPY_MODEL_c06be49577df421285e9f810f54e5ce9"
       ],
       "layout": "IPY_MODEL_77371c1f69924ed4a0c168b9db60ce2f"
      }
     },
     "b8f9709397d443c8aa6c68d97b891e66": {
      "model_module": "@jupyter-widgets/base",
      "model_module_version": "2.0.0",
      "model_name": "LayoutModel",
      "state": {}
     },
     "bb6617aaa7eb4789b2bf467db337819a": {
      "model_module": "@jupyter-widgets/base",
      "model_module_version": "2.0.0",
      "model_name": "LayoutModel",
      "state": {
       "height": "25px",
       "padding": "0px 0px 0px 0px",
       "width": "25px"
      }
     },
     "bdd2c80cb8fd4c369e8235e92e6e550c": {
      "model_module": "jupyter-leaflet",
      "model_module_version": "^0.19",
      "model_name": "LeafletFullScreenControlModel",
      "state": {
       "_model_module_version": "^0.19",
       "_view_module_version": "^0.19",
       "options": [
        "position"
       ]
      }
     },
     "beba189a2ab5480a911abf122149bc9e": {
      "model_module": "@jupyter-widgets/controls",
      "model_module_version": "2.0.0",
      "model_name": "CheckboxModel",
      "state": {
       "description": "All layers on/off",
       "disabled": false,
       "indent": false,
       "layout": "IPY_MODEL_9ba4bb9e4e0b4cabadf34561df08bb52",
       "style": "IPY_MODEL_4dcb0780203548338d171ee782228d72",
       "value": false
      }
     },
     "bec49e78840e4f63a94748918331d90f": {
      "model_module": "@jupyter-widgets/controls",
      "model_module_version": "2.0.0",
      "model_name": "ToggleButtonStyleModel",
      "state": {
       "description_width": "",
       "font_family": null,
       "font_size": null,
       "font_style": null,
       "font_variant": null,
       "font_weight": null,
       "text_color": null,
       "text_decoration": null
      }
     },
     "bf477d9de5c74e69bcc4a521a0931818": {
      "model_module": "@jupyter-widgets/base",
      "model_module_version": "2.0.0",
      "model_name": "LayoutModel",
      "state": {}
     },
     "c06be49577df421285e9f810f54e5ce9": {
      "model_module": "@jupyter-widgets/controls",
      "model_module_version": "2.0.0",
      "model_name": "FloatSliderModel",
      "state": {
       "behavior": "drag-tap",
       "layout": "IPY_MODEL_cd63d2efba414897acdcea6399421a07",
       "max": 1,
       "readout": false,
       "step": 0.01,
       "style": "IPY_MODEL_b257140852b64788a34fc74ad6fe617b",
       "value": 1
      }
     },
     "c0942e1a5e064f0185533110911dd715": {
      "model_module": "@jupyter-widgets/controls",
      "model_module_version": "2.0.0",
      "model_name": "ToggleButtonStyleModel",
      "state": {
       "description_width": "",
       "font_family": null,
       "font_size": null,
       "font_style": null,
       "font_variant": null,
       "font_weight": null,
       "text_color": null,
       "text_decoration": null
      }
     },
     "c24fc63653d341579136572b0a1b3bee": {
      "model_module": "ipyevents",
      "model_module_version": "2.0.2",
      "model_name": "EventModel",
      "state": {
       "_supported_key_events": [
        "keydown",
        "keyup"
       ],
       "_supported_mouse_events": [
        "click",
        "auxclick",
        "dblclick",
        "mouseenter",
        "mouseleave",
        "mousedown",
        "mouseup",
        "mousemove",
        "wheel",
        "contextmenu",
        "dragstart",
        "drag",
        "dragend",
        "dragenter",
        "dragover",
        "dragleave",
        "drop"
       ],
       "_supported_touch_events": [
        "touchstart",
        "touchend",
        "touchmove",
        "touchcancel"
       ],
       "_view_module": "@jupyter-widgets/controls",
       "source": "IPY_MODEL_d8728b999fe44f19ac6b97457dfb985a",
       "throttle_or_debounce": "",
       "watched_events": [
        "mouseenter",
        "mouseleave"
       ],
       "xy_coordinate_system": ""
      }
     },
     "c3fe4aad607147ce860c0471975678c4": {
      "model_module": "@jupyter-widgets/base",
      "model_module_version": "2.0.0",
      "model_name": "LayoutModel",
      "state": {
       "height": "auto",
       "padding": "0px 0px 0px 4px",
       "width": "auto"
      }
     },
     "c403b55f75aa4e8b9405a1885f132858": {
      "model_module": "@jupyter-widgets/base",
      "model_module_version": "2.0.0",
      "model_name": "LayoutModel",
      "state": {
       "height": "18px",
       "padding": "0px 8px 25px 8px",
       "width": "30ex"
      }
     },
     "c4991fbdb7fb4cc68426f3e0871ce6ab": {
      "model_module": "@jupyter-widgets/controls",
      "model_module_version": "2.0.0",
      "model_name": "ToggleButtonStyleModel",
      "state": {
       "description_width": "",
       "font_family": null,
       "font_size": null,
       "font_style": null,
       "font_variant": null,
       "font_weight": null,
       "text_color": null,
       "text_decoration": null
      }
     },
     "c53e1767905440298ba4fb0516304b55": {
      "model_module": "@jupyter-widgets/base",
      "model_module_version": "2.0.0",
      "model_name": "LayoutModel",
      "state": {
       "height": "auto",
       "padding": "0px 0px 0px 4px",
       "width": "auto"
      }
     },
     "c8fb68a2ae0b468882251679c8f5befc": {
      "model_module": "@jupyter-widgets/base",
      "model_module_version": "2.0.0",
      "model_name": "LayoutModel",
      "state": {
       "padding": "0px 8px 0px 8px"
      }
     },
     "c943ca728e7746b69aff32ab489f5956": {
      "model_module": "@jupyter-widgets/controls",
      "model_module_version": "2.0.0",
      "model_name": "ToggleButtonStyleModel",
      "state": {
       "description_width": "",
       "font_family": null,
       "font_size": null,
       "font_style": null,
       "font_variant": null,
       "font_weight": null,
       "text_color": null,
       "text_decoration": null
      }
     },
     "cd63d2efba414897acdcea6399421a07": {
      "model_module": "@jupyter-widgets/base",
      "model_module_version": "2.0.0",
      "model_name": "LayoutModel",
      "state": {
       "width": "80px"
      }
     },
     "cf3b008ce0b447f68b87a62ea6d0c5cc": {
      "model_module": "@jupyter-widgets/controls",
      "model_module_version": "2.0.0",
      "model_name": "ToggleButtonModel",
      "state": {
       "button_style": "primary",
       "icon": "times",
       "layout": "IPY_MODEL_f8755d06da574cfeb3a9bc58f4a4b614",
       "style": "IPY_MODEL_40337cfb5e5041829e97e10a73c797d9",
       "tooltip": "Close the tool"
      }
     },
     "d126c3e8549147479d478539904e7cbf": {
      "model_module": "jupyter-leaflet",
      "model_module_version": "^0.19",
      "model_name": "LeafletTileLayerModel",
      "state": {
       "_model_module_version": "^0.19",
       "_view_module_version": "^0.19",
       "attribution": "&copy; <a href=\"https://www.openstreetmap.org/copyright\">OpenStreetMap</a> contributors",
       "base": true,
       "max_zoom": 19,
       "min_zoom": 1,
       "name": "OpenStreetMap",
       "options": [
        "attribution",
        "bounds",
        "detect_retina",
        "max_native_zoom",
        "max_zoom",
        "min_native_zoom",
        "min_zoom",
        "no_wrap",
        "tile_size",
        "tms",
        "zoom_offset"
       ],
       "url": "https://tile.openstreetmap.org/{z}/{x}/{y}.png"
      }
     },
     "d169d4f2c1e04af9b248a87e8e8cd331": {
      "model_module": "@jupyter-widgets/base",
      "model_module_version": "2.0.0",
      "model_name": "LayoutModel",
      "state": {
       "height": "auto",
       "padding": "0px 0px 0px 4px",
       "width": "auto"
      }
     },
     "d23ccc2b6b5540b882e8bd5bcb5b3382": {
      "model_module": "jupyter-leaflet",
      "model_module_version": "^0.19",
      "model_name": "LeafletMapStyleModel",
      "state": {
       "_model_module_version": "^0.19",
       "cursor": "move"
      }
     },
     "d2c702df5eb84f27a65b18d7f2517601": {
      "model_module": "@jupyter-widgets/controls",
      "model_module_version": "2.0.0",
      "model_name": "ToggleButtonStyleModel",
      "state": {
       "description_width": "",
       "font_family": null,
       "font_size": null,
       "font_style": null,
       "font_variant": null,
       "font_weight": null,
       "text_color": null,
       "text_decoration": null
      }
     },
     "d2c8144df3614d34a674a74742bcdef3": {
      "model_module": "@jupyter-widgets/base",
      "model_module_version": "2.0.0",
      "model_name": "LayoutModel",
      "state": {
       "height": "auto",
       "padding": "0px 0px 0px 4px",
       "width": "auto"
      }
     },
     "d3a9f040d668473ea48be298f66302fe": {
      "model_module": "jupyter-leaflet",
      "model_module_version": "^0.19",
      "model_name": "LeafletDrawControlModel",
      "state": {
       "_model_module_version": "^0.19",
       "_view_module_version": "^0.19",
       "circle": {
        "repeatMode": false,
        "shapeOptions": {
         "clickable": true,
         "color": "#3388ff",
         "fill": true,
         "fillColor": null,
         "fillOpacity": 0.2,
         "opacity": 0.5,
         "stroke": true,
         "weight": 4
        }
       },
       "marker": {
        "repeatMode": false,
        "shapeOptions": {
         "color": "#3388ff"
        }
       },
       "options": [
        "position"
       ],
       "polygon": {
        "repeatMode": false
       },
       "polyline": {
        "repeatMode": false
       },
       "rectangle": {
        "repeatMode": false,
        "shapeOptions": {
         "clickable": true,
         "color": "#3388ff",
         "fill": true,
         "fillColor": null,
         "fillOpacity": 0.2,
         "opacity": 0.5,
         "stroke": true,
         "weight": 4
        }
       }
      }
     },
     "d3d062b48de2428387edb9cdce48a13e": {
      "model_module": "@jupyter-widgets/base",
      "model_module_version": "2.0.0",
      "model_name": "LayoutModel",
      "state": {
       "height": "18px",
       "width": "25ex"
      }
     },
     "d4cfc36d730e4afdad38cd785f9401d5": {
      "model_module": "@jupyter-widgets/controls",
      "model_module_version": "2.0.0",
      "model_name": "ToggleButtonModel",
      "state": {
       "button_style": "primary",
       "icon": "filter",
       "layout": "IPY_MODEL_dc9f691e0109427c9bbf6a7f3b3ade94",
       "style": "IPY_MODEL_4b8b13068a2e4c4cbdfdf5fdf5435100",
       "tooltip": "Get US Census data"
      }
     },
     "d6e750062c874d15b3f80d38e48dd33b": {
      "model_module": "@jupyter-widgets/controls",
      "model_module_version": "2.0.0",
      "model_name": "HBoxModel",
      "state": {
       "children": [
        "IPY_MODEL_743ad571420c42eea44a678d3bd013b7",
        "IPY_MODEL_8160313fd1da4c16b8367fd5bf898812"
       ],
       "layout": "IPY_MODEL_bf477d9de5c74e69bcc4a521a0931818"
      }
     },
     "d6f6b17b2f9d4a329daed5e3134ebfcb": {
      "model_module": "@jupyter-widgets/controls",
      "model_module_version": "2.0.0",
      "model_name": "CheckboxModel",
      "state": {
       "description": "OpenStreetMap.Mapnik",
       "disabled": false,
       "indent": false,
       "layout": "IPY_MODEL_33d3d4cf0abd41d7991d543f29c0740b",
       "style": "IPY_MODEL_4fa254e61a3348329c5a416fc706d1c6",
       "value": true
      }
     },
     "d8728b999fe44f19ac6b97457dfb985a": {
      "model_module": "@jupyter-widgets/controls",
      "model_module_version": "2.0.0",
      "model_name": "VBoxModel",
      "state": {
       "_view_count": 1,
       "children": [
        "IPY_MODEL_2acf623033684be78393e137758a8ff4"
       ],
       "layout": "IPY_MODEL_8b15cc1dab374107abe1264509c4b631"
      }
     },
     "da515ff4aeb6480caed2fae4312472e0": {
      "model_module": "@jupyter-widgets/base",
      "model_module_version": "2.0.0",
      "model_name": "LayoutModel",
      "state": {
       "height": "18px",
       "padding": "0px 8px 25px 8px",
       "width": "30ex"
      }
     },
     "db7c8c003b294576bc72dad126432e2f": {
      "model_module": "jupyter-leaflet",
      "model_module_version": "^0.19",
      "model_name": "LeafletAttributionControlModel",
      "state": {
       "_model_module_version": "^0.19",
       "_view_module_version": "^0.19",
       "options": [
        "position",
        "prefix"
       ],
       "position": "bottomright",
       "prefix": "ipyleaflet"
      }
     },
     "dc9f691e0109427c9bbf6a7f3b3ade94": {
      "model_module": "@jupyter-widgets/base",
      "model_module_version": "2.0.0",
      "model_name": "LayoutModel",
      "state": {
       "height": "auto",
       "padding": "0px 0px 0px 4px",
       "width": "auto"
      }
     },
     "ddafc93111fc40af8774b84dc4b3ec8c": {
      "model_module": "@jupyter-widgets/controls",
      "model_module_version": "2.0.0",
      "model_name": "CheckboxStyleModel",
      "state": {
       "description_width": ""
      }
     },
     "e016ed8474834d7c8225436139368b28": {
      "model_module": "@jupyter-widgets/controls",
      "model_module_version": "2.0.0",
      "model_name": "LinkModel",
      "state": {
       "source": [
        "IPY_MODEL_0212a81219f246e6a71229e88090ce54",
        "value"
       ],
       "target": [
        "IPY_MODEL_d126c3e8549147479d478539904e7cbf",
        "visible"
       ]
      }
     },
     "e0c92c5de7fa49ccbc5bcd75ef25e627": {
      "model_module": "@jupyter-widgets/base",
      "model_module_version": "2.0.0",
      "model_name": "LayoutModel",
      "state": {
       "height": "28px",
       "width": "72px"
      }
     },
     "e1550556b7384f0db9d731ab4b1cd852": {
      "model_module": "@jupyter-widgets/controls",
      "model_module_version": "2.0.0",
      "model_name": "ToggleButtonModel",
      "state": {
       "icon": "server",
       "layout": "IPY_MODEL_3bc1e4a6f235496caf42587217c76db3",
       "style": "IPY_MODEL_c943ca728e7746b69aff32ab489f5956",
       "tooltip": "Layer Manager",
       "value": true
      }
     },
     "e1cc196f617847beaa7174b6716279ea": {
      "model_module": "@jupyter-widgets/controls",
      "model_module_version": "2.0.0",
      "model_name": "VBoxModel",
      "state": {
       "children": [
        "IPY_MODEL_d6e750062c874d15b3f80d38e48dd33b",
        "IPY_MODEL_999be574545247049fe6912a05588394"
       ],
       "layout": "IPY_MODEL_99a820e396c94d91964efdb1d5cf18e0"
      }
     },
     "e23ddf30ac5a49ff84e7f96ad5c015e7": {
      "model_module": "@jupyter-widgets/controls",
      "model_module_version": "2.0.0",
      "model_name": "SliderStyleModel",
      "state": {
       "description_width": ""
      }
     },
     "e2543b0c29514fb4ba1263cc76b8f235": {
      "model_module": "@jupyter-widgets/base",
      "model_module_version": "2.0.0",
      "model_name": "LayoutModel",
      "state": {}
     },
     "e277e369cfa24625bd340dd06087b043": {
      "model_module": "@jupyter-widgets/base",
      "model_module_version": "2.0.0",
      "model_name": "LayoutModel",
      "state": {
       "padding": "0px 8px 0px 8px"
      }
     },
     "e3e2ba58e5f941a9961d1774e5458791": {
      "model_module": "@jupyter-widgets/base",
      "model_module_version": "2.0.0",
      "model_name": "LayoutModel",
      "state": {
       "height": "25px",
       "padding": "0px 0px 0px 0px",
       "width": "25px"
      }
     },
     "e6e7a4ad5d864bf79091a9cd55f4feff": {
      "model_module": "@jupyter-widgets/controls",
      "model_module_version": "2.0.0",
      "model_name": "LinkModel",
      "state": {
       "source": [
        "IPY_MODEL_2eb286383b354138a4ec6ccebb780081",
        "value"
       ],
       "target": [
        "IPY_MODEL_d126c3e8549147479d478539904e7cbf",
        "visible"
       ]
      }
     },
     "ed422945e9194ebe957c170ac3dfbeca": {
      "model_module": "@jupyter-widgets/base",
      "model_module_version": "2.0.0",
      "model_name": "LayoutModel",
      "state": {}
     },
     "ee44aff594b8419a9d4b7db0c796aa5d": {
      "model_module": "@jupyter-widgets/controls",
      "model_module_version": "2.0.0",
      "model_name": "VBoxModel",
      "state": {
       "children": [
        "IPY_MODEL_93d7926792fd472a92cdf943f6fb6d5a",
        "IPY_MODEL_6c58245eb8fc44a897f27147f219cf00"
       ],
       "layout": "IPY_MODEL_73259fd77d9d4615bdf7834f8067cda4"
      }
     },
     "ee7d6583d68c41c7abe81f8a0373c8ae": {
      "model_module": "@jupyter-widgets/controls",
      "model_module_version": "2.0.0",
      "model_name": "ToggleButtonModel",
      "state": {
       "button_style": "primary",
       "icon": "map",
       "layout": "IPY_MODEL_21fa21ca44614d579e9e713d66219167",
       "style": "IPY_MODEL_a83c1d6efefe41d8a99035067d173a37",
       "tooltip": "Change basemap"
      }
     },
     "ef4a4511832547e392aac64720460595": {
      "model_module": "@jupyter-widgets/controls",
      "model_module_version": "2.0.0",
      "model_name": "DirectionalLinkModel",
      "state": {
       "source": [
        "IPY_MODEL_79a26743507e4b97a3e34822576aea9b",
        "value"
       ],
       "target": [
        "IPY_MODEL_d126c3e8549147479d478539904e7cbf",
        "opacity"
       ]
      }
     },
     "f326420280b54bf8841d72802ea699c4": {
      "model_module": "@jupyter-widgets/controls",
      "model_module_version": "2.0.0",
      "model_name": "DirectionalLinkModel",
      "state": {
       "source": [
        "IPY_MODEL_c06be49577df421285e9f810f54e5ce9",
        "value"
       ],
       "target": [
        "IPY_MODEL_d126c3e8549147479d478539904e7cbf",
        "opacity"
       ]
      }
     },
     "f8755d06da574cfeb3a9bc58f4a4b614": {
      "model_module": "@jupyter-widgets/base",
      "model_module_version": "2.0.0",
      "model_name": "LayoutModel",
      "state": {
       "height": "28px",
       "padding": "0px 0px 0px 4px",
       "width": "28px"
      }
     },
     "fa45874f55ba43098655409f6cf95b7f": {
      "model_module": "@jupyter-widgets/base",
      "model_module_version": "2.0.0",
      "model_name": "LayoutModel",
      "state": {
       "height": "auto",
       "padding": "0px 0px 0px 4px",
       "width": "auto"
      }
     },
     "fd55008d3c3a4ea09c90a9019ac4f8e7": {
      "model_module": "@jupyter-widgets/controls",
      "model_module_version": "2.0.0",
      "model_name": "LinkModel",
      "state": {
       "source": [
        "IPY_MODEL_448389bf516a42cfbdb8ee7b9aedbfd4",
        "value"
       ],
       "target": [
        "IPY_MODEL_d126c3e8549147479d478539904e7cbf",
        "visible"
       ]
      }
     },
     "fd7dcb40afff4043a7080749604893a6": {
      "model_module": "@jupyter-widgets/controls",
      "model_module_version": "2.0.0",
      "model_name": "ToggleButtonStyleModel",
      "state": {
       "description_width": "",
       "font_family": null,
       "font_size": null,
       "font_style": null,
       "font_variant": null,
       "font_weight": null,
       "text_color": null,
       "text_decoration": null
      }
     },
     "fe6a7a30d16940348814edea83c779b6": {
      "model_module": "@jupyter-widgets/controls",
      "model_module_version": "2.0.0",
      "model_name": "VBoxModel",
      "state": {
       "children": [
        "IPY_MODEL_77c654cd992643589b4d017c0d626963",
        "IPY_MODEL_83c00bc751f146b6a4628a68bfd563ab"
       ],
       "layout": "IPY_MODEL_aceed100e3a545e8aa04e9e11e5a2186"
      }
     },
     "ff62b37da9a84d828d63ffc1cc431261": {
      "model_module": "@jupyter-widgets/controls",
      "model_module_version": "2.0.0",
      "model_name": "ToggleButtonStyleModel",
      "state": {
       "description_width": "",
       "font_family": null,
       "font_size": null,
       "font_style": null,
       "font_variant": null,
       "font_weight": null,
       "text_color": null,
       "text_decoration": null
      }
     }
    },
    "version_major": 2,
    "version_minor": 0
   }
  }
 },
 "nbformat": 4,
 "nbformat_minor": 4
}
