{
 "cells": [
  {
   "cell_type": "code",
   "execution_count": 1,
   "id": "ae14c2ab",
   "metadata": {},
   "outputs": [
    {
     "name": "stdout",
     "output_type": "stream",
     "text": [
      "6\n"
     ]
    }
   ],
   "source": [
    "message = \"Hello my dear\"\n",
    "print(message.index(\"my\"))"
   ]
  },
  {
   "cell_type": "code",
   "execution_count": null,
   "id": "9e4be03b",
   "metadata": {},
   "outputs": [],
   "source": []
  },
  {
   "cell_type": "code",
   "execution_count": 2,
   "id": "2b1707e7",
   "metadata": {},
   "outputs": [
    {
     "data": {
      "text/plain": [
       "17"
      ]
     },
     "execution_count": 2,
     "metadata": {},
     "output_type": "execute_result"
    }
   ],
   "source": [
    "\n",
    "animals = \"lions tigers and bears\"\n",
    "animals.index(\"bears\")"
   ]
  },
  {
   "cell_type": "code",
   "execution_count": 23,
   "id": "e0cb2698",
   "metadata": {},
   "outputs": [
    {
     "name": "stdout",
     "output_type": "stream",
     "text": [
      "Shhh, don't be so LOUD!\n"
     ]
    }
   ],
   "source": [
    "def change_sent(sentence,word):\n",
    "    wordlist = sentence.split()\n",
    "    newlist = []\n",
    "    wupper=\"\"\n",
    "    for x in wordlist:\n",
    "        if x.strip(\"!\") in word:\n",
    "            wupper=x.upper()\n",
    "            newlist.append(wupper)\n",
    "        else:\n",
    "            newlist.append(x)\n",
    "            \n",
    "    \n",
    "    \n",
    "    \n",
    "    return \" \".join(newlist)\n",
    "\n",
    "print(change_sent(\"Shhh, don't be so loud!\", \"loud\"))"
   ]
  },
  {
   "cell_type": "code",
   "execution_count": 26,
   "id": "d34d3120",
   "metadata": {},
   "outputs": [
    {
     "data": {
      "text/plain": [
       "[3, 4, 5, 6, 7]"
      ]
     },
     "execution_count": 26,
     "metadata": {},
     "output_type": "execute_result"
    }
   ],
   "source": [
    "def myfun(start,end):\n",
    "    return [x for x in range(start+2,end+3)]\n",
    "\n",
    "myfun(1,5)"
   ]
  },
  {
   "cell_type": "code",
   "execution_count": 33,
   "id": "ab7af46a",
   "metadata": {},
   "outputs": [
    {
     "name": "stdout",
     "output_type": "stream",
     "text": [
      "['Kenya', 'Egyp']['Korea', 'Pakistan']\n"
     ]
    }
   ],
   "source": [
    "def countries (count_dict):\n",
    "    result =\"\"\n",
    "    for value in count_dict.values():\n",
    "        result += str(value)\n",
    "    \n",
    "    return result\n",
    "\n",
    "print(countries({\"Africs\":[\"Kenya\",\"Egyp\"],\"Asia\":[\"Korea\",\"Pakistan\"]}))"
   ]
  },
  {
   "cell_type": "code",
   "execution_count": 35,
   "id": "45256697",
   "metadata": {},
   "outputs": [
    {
     "name": "stdout",
     "output_type": "stream",
     "text": [
      "pop\n",
      "t\n",
      "us\n"
     ]
    }
   ],
   "source": [
    "text = \"Hippopotamus\"\n",
    "print(text[3:6])\n",
    "print(text[-5])\n",
    "print(text[10:])"
   ]
  },
  {
   "cell_type": "code",
   "execution_count": 38,
   "id": "79f71b37",
   "metadata": {},
   "outputs": [
    {
     "ename": "AttributeError",
     "evalue": "'tuple' object has no attribute 'name'",
     "output_type": "error",
     "traceback": [
      "\u001b[1;31m---------------------------------------------------------------------------\u001b[0m",
      "\u001b[1;31mAttributeError\u001b[0m                            Traceback (most recent call last)",
      "Cell \u001b[1;32mIn[38], line 63\u001b[0m\n\u001b[0;32m     60\u001b[0m \t\u001b[38;5;28;01melse\u001b[39;00m:\n\u001b[0;32m     61\u001b[0m \t\t\u001b[38;5;28;01mreturn\u001b[39;00m \u001b[38;5;124m\"\u001b[39m\u001b[38;5;124m\"\u001b[39m\n\u001b[1;32m---> 63\u001b[0m \u001b[38;5;28mprint\u001b[39m(\u001b[43mmax_elevation_city\u001b[49m\u001b[43m(\u001b[49m\u001b[38;5;241;43m100000\u001b[39;49m\u001b[43m)\u001b[49m) \u001b[38;5;66;03m# Should print \"Cusco, Peru\"\u001b[39;00m\n\u001b[0;32m     64\u001b[0m \u001b[38;5;28mprint\u001b[39m(max_elevation_city(\u001b[38;5;241m1000000\u001b[39m)) \u001b[38;5;66;03m# Should print \"Sofia, Bulgaria\"\u001b[39;00m\n\u001b[0;32m     65\u001b[0m \u001b[38;5;28mprint\u001b[39m(max_elevation_city(\u001b[38;5;241m10000000\u001b[39m))\n",
      "Cell \u001b[1;32mIn[38], line 58\u001b[0m, in \u001b[0;36mmax_elevation_city\u001b[1;34m(min_population)\u001b[0m\n\u001b[0;32m     55\u001b[0m \treturn_city \u001b[38;5;241m=\u001b[39m city3\u001b[38;5;241m.\u001b[39mname,city3\u001b[38;5;241m.\u001b[39mcountry\n\u001b[0;32m     57\u001b[0m \u001b[38;5;66;03m#Format the return string\u001b[39;00m\n\u001b[1;32m---> 58\u001b[0m \u001b[38;5;28;01mif\u001b[39;00m \u001b[43mreturn_city\u001b[49m\u001b[38;5;241;43m.\u001b[39;49m\u001b[43mname\u001b[49m:\n\u001b[0;32m     59\u001b[0m \t\u001b[38;5;28;01mreturn\u001b[39;00m return_city\u001b[38;5;241m.\u001b[39mname\n\u001b[0;32m     60\u001b[0m \u001b[38;5;28;01melse\u001b[39;00m:\n",
      "\u001b[1;31mAttributeError\u001b[0m: 'tuple' object has no attribute 'name'"
     ]
    }
   ],
   "source": [
    "# define a basic city class\n",
    "class City:\n",
    "\tname = \"\"\n",
    "\tcountry = \"\"\n",
    "\televation = 0 \n",
    "\tpopulation = 0\n",
    "\n",
    "# create a new instance of the City class and\n",
    "# define each attribute\n",
    "city1 = City()\n",
    "city1.name = \"Cusco\"\n",
    "city1.country = \"Peru\"\n",
    "city1.elevation = 3399\n",
    "city1.population = 358052\n",
    "\n",
    "# create a new instance of the City class and\n",
    "# define each attribute\n",
    "city2 = City()\n",
    "city2.name = \"Sofia\"\n",
    "city2.country = \"Bulgaria\"\n",
    "city2.elevation = 2290\n",
    "city2.population = 1241675\n",
    "\n",
    "# create a new instance of the City class and\n",
    "# define each attribute\n",
    "city3 = City()\n",
    "city3.name = \"Seoul\"\n",
    "city3.country = \"South Korea\"\n",
    "city3.elevation = 38\n",
    "city3.population = 9733509\n",
    "\n",
    "def max_elevation_city(min_population):\n",
    "\t# Initialize the variable that will hold \n",
    "# the information of the city with \n",
    "# the highest elevation \n",
    "\treturn_city = City()\n",
    "\n",
    "\t# Evaluate the 1st instance to meet the requirements:\n",
    "\t# does city #1 have at least min_population and\n",
    "\t# is its elevation the highest evaluated so far?\n",
    "\tif city1.population >= min_population and city1.elevation ==3399:\n",
    "\t\t#return_city.name = city1.name\n",
    "\t\t#return_city.country = city1.country\n",
    "\t\treturn_city = city1.name,city1.country\n",
    "\t# Evaluate the 2nd instance to meet the requirements:\n",
    "\t# does city #2 have at least min_population and\n",
    "\t# is its elevation the highest evaluated so far?\n",
    "\tif city2.population>=min_population and city2.elevation ==2290:\n",
    "\t\treturn_city = city2.name,city2.country\n",
    "\t# Evaluate the 3rd instance to meet the requirements:\n",
    "\t# does city #3 have at least min_population and\n",
    "\t# is its elevation the highest evaluated so far?\n",
    "\tif city3.population >= min_population and city3.elevation ==38:\n",
    "\n",
    "\t\treturn_city = city3.name,city3.country\n",
    "\n",
    "\t#Format the return string\n",
    "\tif return_city.name:\n",
    "\t\treturn return_city.name\n",
    "\telse:\n",
    "\t\treturn \"\"\n",
    "\n",
    "print(max_elevation_city(100000)) # Should print \"Cusco, Peru\"\n",
    "print(max_elevation_city(1000000)) # Should print \"Sofia, Bulgaria\"\n",
    "print(max_elevation_city(10000000)) # Should print \"\""
   ]
  }
 ],
 "metadata": {
  "kernelspec": {
   "display_name": "Python 3 (ipykernel)",
   "language": "python",
   "name": "python3"
  },
  "language_info": {
   "codemirror_mode": {
    "name": "ipython",
    "version": 3
   },
   "file_extension": ".py",
   "mimetype": "text/x-python",
   "name": "python",
   "nbconvert_exporter": "python",
   "pygments_lexer": "ipython3",
   "version": "3.13.1"
  }
 },
 "nbformat": 4,
 "nbformat_minor": 5
}
