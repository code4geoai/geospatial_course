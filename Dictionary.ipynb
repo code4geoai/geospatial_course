{
 "cells": [
  {
   "cell_type": "code",
   "execution_count": 1,
   "id": "bc41835a-89bd-4224-af14-84f5483fb1a2",
   "metadata": {},
   "outputs": [],
   "source": [
    "import leafmap\n",
    "from samgeo import SamGeo2, regularize"
   ]
  },
  {
   "cell_type": "code",
   "execution_count": 2,
   "id": "5d59a3df-9706-4f1a-ae64-c489959813d5",
   "metadata": {},
   "outputs": [
    {
     "name": "stdout",
     "output_type": "stream",
     "text": [
      "4.11.0\n"
     ]
    }
   ],
   "source": [
    "import cv2\n",
    "print(cv2.__version__)"
   ]
  },
  {
   "cell_type": "code",
   "execution_count": 6,
   "id": "bbfa3b0a-a242-4dab-8a82-f71f9d1e9186",
   "metadata": {},
   "outputs": [],
   "source": [
    "m = leafmap.Map()\n"
   ]
  },
  {
   "cell_type": "code",
   "execution_count": 17,
   "id": "a0e0d1db-8e83-49a7-9e6b-ab76eb89d736",
   "metadata": {},
   "outputs": [],
   "source": [
    "sdc_points = [\n",
    "    [31.545658,\t70.759933],\n",
    "    [31.729882,\t70.330082],\n",
    "    [31.820667,\t70.907939]\n",
    "            ]\n"
   ]
  },
  {
   "cell_type": "code",
   "execution_count": 45,
   "id": "7da8f9eb-9421-4ac5-89eb-38e50fa2c100",
   "metadata": {},
   "outputs": [
    {
     "name": "stdout",
     "output_type": "stream",
     "text": [
      "[31.698735666666664, 70.66598466666666]\n"
     ]
    }
   ],
   "source": [
    "# Average of Longtitude and Latitute\n",
    "avg_lat=sum([x[0] for x in sdc_points]) / len(sdc_points)\n",
    "avg_lon = sum ([x[1] for x in sdc_points]) / len(sdc_points)\n",
    "\n",
    "avg_dic = {\n",
    "    \"centroid_location\": [avg_lat,avg_lon]\n",
    "}\n",
    "print (avg_dic[\"centroid_location\"])\n"
   ]
  },
  {
   "cell_type": "code",
   "execution_count": 21,
   "id": "118e0f16-7e4f-4988-8e34-aa647f03f833",
   "metadata": {},
   "outputs": [],
   "source": [
    "points = [\n",
    "    [35.6895, 139.6917],  # Tokyo\n",
    "    [34.0522, -118.2437],  # Los Angeles\n",
    "    [51.5074, -0.1278],  # London\n",
    "    [48.8566, 2.3522],  # Paris\n",
    "]"
   ]
  },
  {
   "cell_type": "code",
   "execution_count": 24,
   "id": "35502034-7e2c-4cea-b229-37d590083960",
   "metadata": {},
   "outputs": [
    {
     "data": {
      "text/plain": [
       "[35.6895, 34.0522, 51.5074, 48.8566]"
      ]
     },
     "execution_count": 24,
     "metadata": {},
     "output_type": "execute_result"
    }
   ],
   "source": [
    "#centroid_lat = sum([point[0] for point in points]) / len(points)\n",
    "#centroid_lon = sum([point[1] for point in points]) / len(points)\n",
    "#centroid = [centroid_lat, centroid_lon]\n",
    "#print(\"Centroid of the points is at:\", centroid)\n",
    "[x[0] for x in points]"
   ]
  },
  {
   "cell_type": "code",
   "execution_count": 50,
   "id": "8c7b3ff9-8f45-4975-bda2-e217b006fda0",
   "metadata": {},
   "outputs": [],
   "source": [
    "#nested dictionary\n",
    "\n",
    "person  = {\n",
    "    \"Name\": \"Hayat\",\n",
    "    \"Age\" : 45,\n",
    "    \"subject\": \"Computer Sc\",\n",
    "    \"Address\" : {\n",
    "        \"Street\" : \"Revenue Academy Phase-III Hayatabad Peshawar\",\n",
    "        \"City\": \"Peshawar\",\n",
    "        \"Province\": \"KP\",\n",
    "        \"Country\":\"Pakistan\"\n",
    "}}\n",
    "        "
   ]
  },
  {
   "cell_type": "code",
   "execution_count": 62,
   "id": "a508026e-fe90-484f-9c6a-f130d6a74f66",
   "metadata": {},
   "outputs": [
    {
     "name": "stdout",
     "output_type": "stream",
     "text": [
      "Hayat 45 Revenue Academy Phase-III Hayatabad Peshawar\n"
     ]
    }
   ],
   "source": [
    "print(person[\"Name\"],person[\"Age\"],person[\"Address\"][\"Street\"])\n"
   ]
  },
  {
   "cell_type": "code",
   "execution_count": 5,
   "id": "7f8d363b-f528-4956-9df4-e1f9d48b0d03",
   "metadata": {},
   "outputs": [],
   "source": [
    "# creating a data dictionary from dataset\n",
    "\n",
    "dataset ={\n",
    "    \"column\" : [\"Name\",\"Age\",\"City\"],\n",
    "    \"data\" : [\n",
    "        [\"Hayat\",45,\"Peshawar\"],\n",
    "        [\"Ayan\",14,\"Lahore\"],\n",
    "        [\"Shah\",43,\"Islamabad\"]\n",
    "            ]\n",
    "}\n"
   ]
  },
  {
   "cell_type": "code",
   "execution_count": 6,
   "id": "1cd313ec-cfd5-47c3-ad27-ae8826cf3b39",
   "metadata": {},
   "outputs": [
    {
     "name": "stdout",
     "output_type": "stream",
     "text": [
      "{'column': ['Name', 'Age', 'City'], 'data': [['Hayat', 45, 'Peshawar'], ['Ayan', 14, 'Lahore'], ['Shah', 43, 'Islamabad']]}\n",
      "First Row: ['Hayat', 45, 'Peshawar']\n"
     ]
    }
   ],
   "source": [
    "print(dataset)\n",
    "print(\"First Row:\", dataset[\"data\"][0])"
   ]
  },
  {
   "cell_type": "code",
   "execution_count": 21,
   "id": "53c55a26-9d8f-4e7e-9d8f-c323f47af44d",
   "metadata": {},
   "outputs": [
    {
     "name": "stdout",
     "output_type": "stream",
     "text": [
      "['District', 'Phase ', 'Tehsil / SDC', 'Full Address', 'Y', 'X', 'Focal Person Name', 'Focal Person Cnt No']\n",
      "   District Phase  Tehsil / SDC                         Full Address  \\\n",
      "49  Shangla     II      Shahpur                Tehsil office Shahpur   \n",
      "50     Swat     II      Bahrain  sdc bahrain, near AC office bahrain   \n",
      "\n",
      "            Y          X Focal Person Name Focal Person Cnt No  \n",
      "49  34.950385  72.749026       Mohsin Khan          3459429596  \n",
      "50  35.206260  72.546340            Rizwan          3469427559  \n"
     ]
    }
   ],
   "source": [
    "import pandas as pd\n",
    "data = pd.read_csv(\"C:\\\\SDC_Points.csv\")\n",
    "#create a data dictionary for the header\n",
    "data_dic = {\n",
    "    \"Header\": list(data.columns),\n",
    "    \"Num_Rows\":len(data)\n",
    "}\n",
    "print(data_dic[\"Header\"])\n",
    "print(data.tail(2))\n",
    "\n",
    "\n"
   ]
  },
  {
   "cell_type": "code",
   "execution_count": 35,
   "id": "2bc73f5e-61dc-4336-8ddc-f8893b8f9f73",
   "metadata": {},
   "outputs": [
    {
     "name": "stdout",
     "output_type": "stream",
     "text": [
      "Header:['District', 'Phase ', 'Tehsil-SDC', 'Full Address', 'Y', 'X', 'Focal Person Name', 'Focal Person Cnt No']\n",
      "filedata:   District Phase    Tehsil-SDC  \\\n",
      "46  Shangla     II       Alpuri   \n",
      "47     Swat     II  Khawzakhela   \n",
      "48     Swat     II        Matta   \n",
      "49  Shangla     II      Shahpur   \n",
      "50     Swat     II      Bahrain   \n",
      "\n",
      "                                         Full Address          Y          X  \\\n",
      "46          Deputy Commissioner Office Alpuri Shangla  34.919632  72.633529   \n",
      "47   sdc khwazakhella near tehsil office khwazakhella  34.939234  72.465600   \n",
      "48  SDC Matta opposite wakeel shopping mall sambat...  34.946650  72.434960   \n",
      "49                              Tehsil office Shahpur  34.950385  72.749026   \n",
      "50                sdc bahrain, near AC office bahrain  35.206260  72.546340   \n",
      "\n",
      "   Focal Person Name Focal Person Cnt No  \n",
      "46        Akram khan          3408815201  \n",
      "47       Shafi Ullah          3469410663  \n",
      "48            Javed           3139691944  \n",
      "49       Mohsin Khan          3459429596  \n",
      "50            Rizwan          3469427559  \n",
      "Num_Rows:51\n"
     ]
    }
   ],
   "source": [
    "import pandas as pd\n",
    "\n",
    "# Read the CSV file\n",
    "data = pd.read_csv(\"C:\\\\SDC_Points.csv\")\n",
    "\n",
    "# Create a data dictionary for the header\n",
    "fiverows = data.tail()\n",
    "data_dic = {\n",
    "    \"Header\": list(data.columns),\n",
    "    \"filedata\": fiverows,\n",
    "    \"Num_Rows\": len(data)\n",
    "}\n",
    "\n",
    "for key,value in data_dic.items():\n",
    "    print(f\"{key}:{value}\")\n",
    "\n",
    "# Print the header\n",
    "#print(\"Header:\", data_dic[\"Header\"])\n",
    "#print(\"Number of rows:\", data_dic[\"Num_Rows\"])\n",
    "\n",
    "# Print the first few rows of the file\n",
    "#print(\"\\nFirst 5 rows of the file:\")\n",
    "#print(data.head())\n",
    "\n",
    "# Print the last few rows of the file\n",
    "#print(\"\\nLast 5 rows of the file:\")\n",
    "#print(data.tail())"
   ]
  },
  {
   "cell_type": "code",
   "execution_count": 26,
   "id": "6d0afe69-49ce-4a15-b5a1-c026a939a161",
   "metadata": {},
   "outputs": [
    {
     "name": "stdout",
     "output_type": "stream",
     "text": [
      "columns:['Name', 'Age', 'City']\n",
      "data:[['Alice', 30, 'New York'], ['Bob', 25, 'Los Angeles'], ['Charlie', 35, 'Chicago']]\n",
      "description:A sample dataset of people\n"
     ]
    }
   ],
   "source": [
    "dataset = {\n",
    "    \"columns\": [\"Name\", \"Age\", \"City\"],\n",
    "    \"data\": [\n",
    "        [\"Alice\", 30, \"New York\"],\n",
    "        [\"Bob\", 25, \"Los Angeles\"],\n",
    "        [\"Charlie\", 35, \"Chicago\"]\n",
    "    ],\n",
    "    \"description\": \"A sample dataset of people\"\n",
    "}\n",
    "\n",
    "for key, value in dataset.items():\n",
    "    print(f\"{key}:{value}\")"
   ]
  },
  {
   "cell_type": "code",
   "execution_count": null,
   "id": "c7af43f0-ecfb-4041-97c8-fe1752978f89",
   "metadata": {},
   "outputs": [],
   "source": []
  },
  {
   "cell_type": "code",
   "execution_count": 97,
   "id": "9c02f923-cf97-4a0e-ba32-a99bab9dbf16",
   "metadata": {},
   "outputs": [
    {
     "name": "stdout",
     "output_type": "stream",
     "text": [
      "Upgrades grades : {'Math': 90, 'Science': 87, 'History': 78, 'English': 92, 'Geography': 82}\n",
      "Average grades : 85.8\n",
      "Subject with Highest Grade English\n"
     ]
    }
   ],
   "source": [
    "grades = {\n",
    "    \"Math\": 90,\n",
    "    \"Science\": 85,\n",
    "    \"History\": 78,\n",
    "    \"English\": 92,\n",
    "    \"Art\": 88\n",
    "}\n",
    "grades[\"Science\"]=87\n",
    "grades[\"Geography\"] = 82\n",
    "del grades[\"Art\"]\n",
    "\n",
    "total_marks= sum(grades.values())\n",
    "maxgrade = max (grades.values())\n",
    "maxgradesub= [subject for subject,marks in grades.items() if marks == maxgrade]\n",
    "\n",
    "subjects = len(grades)\n",
    "\n",
    "print(\"Upgrades grades :\",grades)\n",
    "print(\"Average grades :\",total/subjects)\n",
    "print(\"Subject with Highest Grade\",maxgradesub[0])\n"
   ]
  },
  {
   "cell_type": "code",
   "execution_count": 122,
   "id": "29f929d6-4d1e-49c5-a878-1b690a1a695f",
   "metadata": {},
   "outputs": [
    {
     "name": "stdout",
     "output_type": "stream",
     "text": [
      "Updated students {'Alice': {'Math': 90, 'Science': 85, 'History': 78}, 'Bob': {'Math': 90, 'Science': 92, 'History': 81}, 'Diana': {'Math': 95, 'Science': 87, 'History': 91}}\n",
      "Average Grades:\n",
      "Alice : 84.33\n",
      "Bob : 87.67\n",
      "Diana : 91.0\n",
      "Student with highest aveage grade : 91.0\n",
      "Studnet with Highest Average Grade : Diana with 91.0\n"
     ]
    }
   ],
   "source": [
    "students = {\n",
    "    \"Alice\": {\n",
    "        \"Math\": 90,\n",
    "        \"Science\": 85,\n",
    "        \"History\": 78\n",
    "    },\n",
    "    \"Bob\": {\n",
    "        \"Math\": 88,\n",
    "        \"Science\": 92,\n",
    "        \"History\": 81\n",
    "    },\n",
    "    \"Charlie\": {\n",
    "        \"Math\": 76,\n",
    "        \"Science\": 89,\n",
    "        \"History\": 94\n",
    "    }\n",
    "}\n",
    "\n",
    "#1 Add a new student, \"Diana\", with the following grades:\n",
    "students[\"Diana\"] = {\n",
    "    \"Math\":95,\n",
    "    \"Science\":87,\n",
    "    \"History\":91\n",
    "}\n",
    "# Update Bob's Math grade to 90.\n",
    "students[\"Bob\"][\"Math\"]=90\n",
    "#Remove Charlie from the dictionary.\n",
    "del students[\"Charlie\"]\n",
    "\n",
    "#4 Calculate and print the average grade for each student.\n",
    "Alice_average = sum( students[\"Alice\"].values()) / len(students[\"Alice\"])\n",
    "Bob_average = sum( students[\"Bob\"].values()) / len(students[\"Bob\"])\n",
    "Diana_average = sum( students[\"Diana\"].values()) / len(students[\"Diana\"])\n",
    "\n",
    "print(\"Updated students\",students)\n",
    "print(\"Average Grades:\")\n",
    "print(\"Alice :\",round (Alice_average,2))\n",
    "print(\"Bob :\",round (Bob_average,2))\n",
    "print(\"Diana :\",round (Diana_average,2))\n",
    "\n",
    "#5 Student with highest average grade\n",
    "print(\"Student with highest aveage grade :\", max(Alice_average,Bob_average,Diana_average))\n",
    "\n",
    "# Implementing the point 5 in a new way\n",
    "\n",
    "stu_avg = {\n",
    "    \"Alice\" : Alice_average,\n",
    "    \"Bob\":Bob_average,\n",
    "    \"Diana\":Diana_average\n",
    "}\n",
    "#high_avg_stu = max (stu_avg, key = lambda x :stu_avg[x])\n",
    "high_avg_stu1 = max(stu_avg, key=lambda x : stu_avg[x])\n",
    "print(\"Studnet with Highest Average Grade :\",high_avg_stu1,\"with\",stu_avg[high_avg_stu1])    "
   ]
  },
  {
   "cell_type": "code",
   "execution_count": 147,
   "id": "e539ea5b-7289-4b22-9f71-c48c91b0ef2b",
   "metadata": {},
   "outputs": [
    {
     "name": "stdout",
     "output_type": "stream",
     "text": [
      "Updated Cities: {'New York': {'latitude': 40.7128, 'longitude': -74.006}, 'Los Angeles': {'latitude': 34.0522, 'longitude': -118.2437}, 'Chicago': {'latitude': 41.9, 'longitude': -87.6298}, 'Houston': {'latitude': 29.7604, 'longitude': -95.3698}, 'Miami': {'latitude': 25.7617, 'longitude': -80.1918}}\n",
      "Distance Between New York and Los Angeles 3935.75 Km\n",
      "Northmost City: Chicago ( 41.9 )\n",
      "Updated Cities:\n",
      "{'Chicago': {'latitude': 41.9, 'longitude': -87.6298},\n",
      " 'Houston': {'latitude': 29.7604, 'longitude': -95.3698},\n",
      " 'Los Angeles': {'latitude': 34.0522, 'longitude': -118.2437},\n",
      " 'Miami': {'latitude': 25.7617, 'longitude': -80.1918},\n",
      " 'New York': {'latitude': 40.7128, 'longitude': -74.006}}\n"
     ]
    }
   ],
   "source": [
    "# last assignment on data dictionaries in geospatial domain\n",
    "cities = {\n",
    "    \"New York\": {\"latitude\": 40.7128, \"longitude\": -74.0060},\n",
    "    \"Los Angeles\": {\"latitude\": 34.0522, \"longitude\": -118.2437},\n",
    "    \"Chicago\": {\"latitude\": 41.8781, \"longitude\": -87.6298},\n",
    "    \"Houston\": {\"latitude\": 29.7604, \"longitude\": -95.3698},\n",
    "    \"Phoenix\": {\"latitude\": 33.4484, \"longitude\": -112.0740}\n",
    "}\n",
    "\n",
    "#1 Add a new city, \"Miami\", with the following coordinates:\n",
    "#Latitude: 25.7617\n",
    "#Longitude: -80.1918\n",
    "cities[\"Miami\"] ={\"latitude\": 25.7617, \"longitude\": -80.1918 }\n",
    "\n",
    "#2 Update Chicago's latitude to 41.9000.\n",
    "cities[\"Chicago\"][\"latitude\"] = 41.9000\n",
    "\n",
    "#3 Remove Phoenix from the dictionary.\n",
    "del cities[\"Phoenix\"]\n",
    "\n",
    "print(\"Updated Cities:\",cities)\n",
    "\n",
    "#4 Calculate and print the distance (in kilometers) between two cities using the Haversine formula\n",
    "# a = sin²(Δlat/2) + cos(lat1) * cos(lat2) * sin²(Δlon/2)\n",
    "# c = 2 * atan2(√a, √(1−a))\n",
    "# distance = R * c\n",
    "\n",
    "import math\n",
    "\n",
    "def haversine(lat1, lon1, lat2, lon2):\n",
    "    R = 6371  # Earth's radius in km\n",
    "    lat1, lon1, lat2, lon2 = map(math.radians, [lat1, lon1, lat2, lon2])  # Convert to radians\n",
    "    dlat = lat2 - lat1\n",
    "    dlon = lon2 - lon1\n",
    "    a = math.sin(dlat / 2) ** 2 + math.cos(lat1) * math.cos(lat2) * math.sin(dlon / 2) ** 2\n",
    "    c = 2 * math.atan2(math.sqrt(a), math.sqrt(1 - a))\n",
    "    distance = R * c\n",
    "    return distance\n",
    "    \n",
    "lat1=cities[\"New York\"][\"latitude\"]\n",
    "lon1=cities[\"New York\"][\"longitude\"]\n",
    "lat2=cities[\"Los Angeles\"][\"latitude\"]\n",
    "lon2=cities[\"Los Angeles\"][\"longitude\"]\n",
    "\n",
    "cities_distance=haversine(lat1,lon1,lat2,lon2)\n",
    "print(\"Distance Between New York and Los Angeles\",round(cities_distance,2),\"Km\")\n",
    "\n",
    "#For Task 5, use max() with a custom key to find the city with the highest latitude.\n",
    "northmostcity =max(cities, key = lambda x : cities[x][\"latitude\"]) \n",
    "print(\"Northmost City:\", northmostcity,\"(\",cities[northmostcity][\"latitude\"],\")\")\n",
    "\n",
    "from pprint import pprint\n",
    "print(\"Updated Cities:\")\n",
    "pprint(cities)\n",
    "\n"
   ]
  },
  {
   "cell_type": "code",
   "execution_count": null,
   "id": "2f3c3c15-fd12-4161-bbdc-324939369205",
   "metadata": {},
   "outputs": [],
   "source": []
  }
 ],
 "metadata": {
  "kernelspec": {
   "display_name": "Python 3 (ipykernel)",
   "language": "python",
   "name": "python3"
  },
  "language_info": {
   "codemirror_mode": {
    "name": "ipython",
    "version": 3
   },
   "file_extension": ".py",
   "mimetype": "text/x-python",
   "name": "python",
   "nbconvert_exporter": "python",
   "pygments_lexer": "ipython3",
   "version": "3.13.1"
  }
 },
 "nbformat": 4,
 "nbformat_minor": 5
}
