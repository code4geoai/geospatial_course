{
 "cells": [
  {
   "cell_type": "code",
   "execution_count": 7,
   "id": "4350a5f4",
   "metadata": {},
   "outputs": [
    {
     "name": "stdout",
     "output_type": "stream",
     "text": [
      "['Apple', 'Banana', 'grapes', 'guava']\n",
      "['Banana', 'grapes', 'guava']\n",
      "['Banana', 'guava']\n",
      "['Banana', 'Melon']\n"
     ]
    }
   ],
   "source": [
    "mylist =[\"Apple\",\"Banana\",\"grapes\",\"guava\"]\n",
    "print(mylist)\n",
    "mylist.remove(\"Apple\")\n",
    "print(mylist)\n",
    "mylist.pop(1)\n",
    "print(mylist)\n",
    "mylist[1]=\"Melon\"\n",
    "print(mylist)"
   ]
  },
  {
   "cell_type": "code",
   "execution_count": 17,
   "id": "36c17063",
   "metadata": {},
   "outputs": [
    {
     "name": "stdout",
     "output_type": "stream",
     "text": [
      "1--Ali\n",
      "2--Khan\n",
      "3--Jan\n",
      "4--Gohar\n",
      "5--Gul\n"
     ]
    }
   ],
   "source": [
    "newlist = ['Ali','Khan','Jan','Gohar','Gul']\n",
    "for index, name in enumerate(newlist):\n",
    "    print(\"{}--{}\".format(index+1,name))"
   ]
  },
  {
   "cell_type": "code",
   "execution_count": 21,
   "id": "72bc9678",
   "metadata": {},
   "outputs": [
    {
     "name": "stdout",
     "output_type": "stream",
     "text": [
      "[3]\n"
     ]
    }
   ],
   "source": [
    "odd =[x for x in range(0,6) if x % 3 == 0]\n",
    "print(odd)"
   ]
  },
  {
   "cell_type": "code",
   "execution_count": 23,
   "id": "8b2352c9",
   "metadata": {},
   "outputs": [
    {
     "name": "stdout",
     "output_type": "stream",
     "text": [
      "[10, 20, 30, 40, 50, 60, 70, 80, 90, 100]\n"
     ]
    }
   ],
   "source": [
    "my_list = [ x for x in range(1,101) if x % 10==0 ]\n",
    "print(my_list)"
   ]
  },
  {
   "cell_type": "code",
   "execution_count": 37,
   "id": "c498d91c",
   "metadata": {},
   "outputs": [
    {
     "data": {
      "text/plain": [
       "['elloHay', 'owhay', 'reaay', 'ouyay']"
      ]
     },
     "execution_count": 37,
     "metadata": {},
     "output_type": "execute_result"
    }
   ],
   "source": [
    "def pit_latin(text):\n",
    "    say=\"\"\n",
    "    wordlist = []\n",
    "    words = text.split()\n",
    "    for word in words:\n",
    "        say = word[1:]+word[:1]+\"ay\"\n",
    "        wordlist.append(say)\n",
    "    return wordlist\n",
    "    \n",
    "    \n",
    "    \n",
    "    \n",
    "    \n",
    "pit_latin(\"Hello how are you\")\n"
   ]
  },
  {
   "cell_type": "code",
   "execution_count": 42,
   "id": "706ca106",
   "metadata": {},
   "outputs": [
    {
     "name": "stdout",
     "output_type": "stream",
     "text": [
      "['Rose', 'chambaly']\n",
      "Rose,chambaly\n"
     ]
    }
   ],
   "source": [
    "testlist= ['Rose','chambaly']\n",
    "print(testlist)\n",
    "flowerstr = ','.join(testlist)\n",
    "print(flowerstr)"
   ]
  },
  {
   "cell_type": "code",
   "execution_count": 41,
   "id": "5b834e48",
   "metadata": {},
   "outputs": [
    {
     "name": "stdout",
     "output_type": "stream",
     "text": [
      "apple, banana, cherry\n"
     ]
    }
   ],
   "source": [
    "my_list = [\"apple\", \"banana\", \"cherry\"]\n",
    "\n",
    "# Using join() to concatenate the list elements into a string\n",
    "result_string = ', '.join(my_list)\n",
    "\n",
    "# Printing the result string\n",
    "print(result_string)\n"
   ]
  },
  {
   "cell_type": "code",
   "execution_count": 14,
   "id": "e9347d45",
   "metadata": {},
   "outputs": [
    {
     "name": "stdout",
     "output_type": "stream",
     "text": [
      "ali.khan@gmail.com\n",
      "hayat.khan@gmail.com\n",
      "None\n"
     ]
    }
   ],
   "source": [
    "def email_list(domains):\n",
    "    email = []\n",
    "    for k,v in domains.items():\n",
    "        for user in v:\n",
    "            print(\"{}@{}\".format(user,k))\n",
    "\n",
    "\n",
    "print(email_list({\"gmail.com\":[\"ali.khan\",\"hayat.khan\"]}))"
   ]
  }
 ],
 "metadata": {
  "kernelspec": {
   "display_name": "Python 3 (ipykernel)",
   "language": "python",
   "name": "python3"
  },
  "language_info": {
   "codemirror_mode": {
    "name": "ipython",
    "version": 3
   },
   "file_extension": ".py",
   "mimetype": "text/x-python",
   "name": "python",
   "nbconvert_exporter": "python",
   "pygments_lexer": "ipython3",
   "version": "3.13.1"
  }
 },
 "nbformat": 4,
 "nbformat_minor": 5
}
