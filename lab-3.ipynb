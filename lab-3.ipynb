{
 "cells": [
  {
   "cell_type": "markdown",
   "id": "a0dbb284-f8f6-442e-bfae-846a4165a8bd",
   "metadata": {},
   "source": [
    "### Exercise 1: Calculating Distances with Functions\n",
    "Define a function calculate_distance that takes two geographic coordinates (latitude and longitude) and returns the distance between them using the Haversine formula.\n",
    "\n",
    "Use this function to calculate the distance between multiple pairs of coordinates."
   ]
  },
  {
   "cell_type": "code",
   "execution_count": 16,
   "id": "fe2b7a43-c667-4450-aea4-e54c6e69966b",
   "metadata": {},
   "outputs": [
    {
     "name": "stdout",
     "output_type": "stream",
     "text": [
      "Distance between two Random Coordinates (37.0595,83.4850) and (52.8779,148.6162) is = 5216.94 Km\n",
      "Distance between two Random Coordinates (-36.6634,-175.0688) and (26.6490,-0.2430) is = 18799.15 Km\n",
      "Distance between two Random Coordinates (-77.8092,-46.6573) and (19.7586,68.1373) is = 12725.41 Km\n",
      "Distance between two Random Coordinates (77.8906,-87.6587) and (76.5141,-86.1979) is = 157.22 Km\n",
      "Distance between two Random Coordinates (27.0981,-58.4874) and (-35.6696,116.3837) is = 18945.28 Km\n"
     ]
    }
   ],
   "source": [
    "import math\n",
    "import random\n",
    "\n",
    "def calculate_distance(lat1,lon1,lat2,lon2):\n",
    "     R = 6371  # Earth's radius in km\n",
    "     lat1, lon1, lat2, lon2 = map(math.radians, [lat1, lon1, lat2, lon2])  # Convert to radians\n",
    "     dlat = lat2 - lat1\n",
    "     dlon = lon2 - lon1\n",
    "     a = math.sin(dlat / 2) ** 2 + math.cos(lat1) * math.cos(lat2) * math.sin(dlon / 2) ** 2\n",
    "     c = 2 * math.atan2(math.sqrt(a), math.sqrt(1 - a))\n",
    "     distance = R * c\n",
    "     return distance\n",
    "\n",
    "def generatecoordinates():\n",
    "    lat1 = random.uniform(-90,90)\n",
    "    lon1 = random.uniform(-180,180)\n",
    "    lat2 = random.uniform(-90,90)\n",
    "    lon2 = random.uniform(-180,180)\n",
    "\n",
    "    return (lat1,lon1,lat2,lon2)\n",
    "\n",
    "\n",
    "counter =0\n",
    "while(counter < 5):\n",
    "    lat1,lon1,lat2,lon2 = generatecoordinates()\n",
    "    distance =calculate_distance(lat1,lon1,lat2,lon2)\n",
    "    print(f\"Distance between two Random Coordinates ({lat1:.4f},{lon1:.4f}) and ({lat2:.4f},{lon2:.4f}) is = {distance:.2f} Km\")\n",
    "    counter +=1\n",
    "    "
   ]
  },
  {
   "cell_type": "markdown",
   "id": "c6502494-3c42-4288-a80f-10ba69dca277",
   "metadata": {},
   "source": [
    "### Exercise 2: Batch Distance Calculation\n",
    "\n",
    "Create a function batch_distance_calculation that accepts a list of coordinate pairs and returns a list of distances between consecutive pairs.\n",
    "\n",
    "Test the function with a list of coordinates representing several cities."
   ]
  },
  {
   "cell_type": "code",
   "execution_count": 45,
   "id": "8a4a52b8-ca0b-4ef4-8d4a-5d576a76b322",
   "metadata": {},
   "outputs": [
    {
     "name": "stdout",
     "output_type": "stream",
     "text": [
      "Distance between Consecutive pair of Coordinates (37.0595, 83.485) and (52.8779, 148.6162) is = 5216.935 Km\n",
      "Distance between Consecutive pair of Coordinates (52.8779, 148.6162) and (-36.6634, -175.0688) is = 10556.269 Km\n",
      "Distance between Consecutive pair of Coordinates (-36.6634, -175.0688) and (26.649, -0.243) is = 18799.156 Km\n"
     ]
    }
   ],
   "source": [
    "import math\n",
    "import random\n",
    "\n",
    "def calculate_distance(lat1,lon1,lat2,lon2):\n",
    "     R = 6371  # Earth's radius in km\n",
    "     lat1, lon1, lat2, lon2 = map(math.radians, [lat1, lon1, lat2, lon2])  # Convert to radians\n",
    "     dlat = lat2 - lat1\n",
    "     dlon = lon2 - lon1\n",
    "     a = math.sin(dlat / 2) ** 2 + math.cos(lat1) * math.cos(lat2) * math.sin(dlon / 2) ** 2\n",
    "     c = 2 * math.atan2(math.sqrt(a), math.sqrt(1 - a))\n",
    "     distance = R * c\n",
    "     return distance\n",
    "\n",
    "def batch_distace_calculation(coordinate_pairs):\n",
    "    distances_list=[]\n",
    "    for i in range(len (coordinate_pairs)-1):\n",
    "        lat1,lon1 = coordinate_pairs[i]\n",
    "        lat2,lon2 = coordinate_pairs[i+1]\n",
    "        distances_list.append(round(calculate_distance(lat1,lon1,lat2,lon2),3))\n",
    "    return (distances_list)\n",
    "\n",
    "\n",
    "coordinate_pairs_list = [\n",
    "                        (37.0595,83.4850),(52.8779,148.6162),(-36.6634,-175.0688),(26.6490,-0.2430)\n",
    "                        ]\n",
    "distances_list=batch_distace_calculation(coordinate_pairs_list)\n",
    "for x in range (len(coordinate_pairs_list)-1):\n",
    "    print(f\"Distance between Consecutive pair of Coordinates {coordinate_pairs_list[x]} and {coordinate_pairs_list[x+1]} is = {distances_list[x]} Km\")"
   ]
  },
  {
   "cell_type": "markdown",
   "id": "f0a7faa3-1125-4abb-9a91-57d0c7de9095",
   "metadata": {},
   "source": [
    "### Exercise 3: Creating and Using a Point Class\n",
    "\n",
    "Define a Point class to represent a geographic point with attributes latitude, longitude, and name.\n",
    "Add a method distance_to that calculates the distance from one point to another.\n",
    "Instantiate several Point objects and calculate the distance between them."
   ]
  },
  {
   "cell_type": "code",
   "execution_count": 53,
   "id": "54cb8f92-ce4a-4209-bce0-96260bf81c0d",
   "metadata": {},
   "outputs": [
    {
     "name": "stdout",
     "output_type": "stream",
     "text": [
      "Distance from Tokyo to Los Angeles : 8815.47 km\n",
      "Distance from Los Angeles to China Desert : 11794.01 km\n",
      "Distance from Tokyo to China Desert : 4958.89 km\n"
     ]
    }
   ],
   "source": [
    "class Point:\n",
    "    def __init__(self,lat,lon,name=None):\n",
    "        self.lat = lat\n",
    "        self.lon = lon\n",
    "        self.name = name\n",
    "    def distance_to (self, otherpoint):\n",
    "       return calculate_distance(self.lat,self.lon,otherpoint.lat,otherpoint.lon)\n",
    "\n",
    "point1 = Point(35.6895, 139.6917, \"Tokyo\")\n",
    "point2 = Point(34.0522, -118.2437, \"Los Angeles\")\n",
    "point3 = Point (37.0595, 83.485, \"China Desert\")\n",
    "\n",
    "print(f\"Distance from {point1.name} to {point2.name} : {point1.distance_to(point2):.2f} km\")\n",
    "print(f\"Distance from {point2.name} to {point3.name} : {point2.distance_to(point3):.2f} km\")\n",
    "print(f\"Distance from {point1.name} to {point3.name} : {point1.distance_to(point3):.2f} km\")\n",
    "        "
   ]
  },
  {
   "cell_type": "markdown",
   "id": "bd6306f0-4b94-4c6a-8ac3-e4b5fd41e259",
   "metadata": {},
   "source": [
    "### Exercise 4: Reading and Writing Files\n",
    "\n",
    "Write a function read_coordinates that reads a file containing a list of coordinates (latitude, longitude) and returns them as a list of tuples.\n",
    "\n",
    "Write another function write_coordinates that takes a list of coordinates and writes them to a new file.\n",
    "\n",
    "Ensure that both functions handle exceptions, such as missing files or improperly formatted data.\n",
    "\n",
    "\n",
    "# Reading File with Pandas\n",
    "def readcoordinates_panda(filepath):\n",
    "    try:\n",
    "        # Read the CSV file\n",
    "        data = pd.read_csv(filepath)\n",
    "        pandacoordinate_list =[]\n",
    "        pandacoordinate_list = list(zip(data[\"X\"],data[\"Y\"] ))\n",
    "    except (ValueError, IndexError):\n",
    "        print(\"Error occured in File\")\n",
    "    return pandacoordinate_list\n",
    "\n",
    "# Reading coordinates from same file normal python with open file method \n",
    "\n",
    "# This method cannot be used accurately because the data in my file has , in columns other than coordinates and can not be accurately split.\n",
    "# However i have restricted the process to only four rows \n",
    "\n",
    "def readcoordinates_normal (filepath):\n",
    "    shortcoordinates_list = []\n",
    "    with open(filepath, \"r\", encoding=\"utf-8\") as readfile:\n",
    "        rows = readfile.readlines()\n",
    "        for row in rows[1:5]:\n",
    "            try:\n",
    "                values = row.strip().split(\",\")\n",
    "                lat = float(values[5].strip())\n",
    "                lon = float(values[6].strip())\n",
    "                shortcoordinates_list.append((lat,lon))\n",
    "            except (ValueError,IndexError):\n",
    "                print(f\"Skipping Invalid Rows:{row.strip()}\")\n",
    "        return shortcoordinates_list\n",
    "        "
   ]
  },
  {
   "cell_type": "code",
   "execution_count": 184,
   "id": "27f8098e-92d6-49cd-80c0-6683f34dd77b",
   "metadata": {},
   "outputs": [
    {
     "data": {
      "text/plain": [
       "[('Y', 'X'),\n",
       " ('31.545658', '70.759933'),\n",
       " ('31.729882', '70.330082'),\n",
       " ('31.820667', '70.907939'),\n",
       " ('31.924123', '70.465173'),\n",
       " ('32.104342', '70.978873'),\n",
       " ('32.142328', '70.242447'),\n",
       " ('32.208539', '70.385888'),\n",
       " ('32.876603', '70.658931'),\n",
       " ('32.98895', '70.613648'),\n",
       " ('33.00393', '70.657638'),\n",
       " ('33.01878', '71.083262'),\n",
       " ('33.023724', '70.758053'),\n",
       " ('33.115108', '71.104764'),\n",
       " ('33.271566', '71.181591'),\n",
       " ('33.802414', '72.912487'),\n",
       " ('33.920666', '71.553499'),\n",
       " ('33.986569', '72.173737'),\n",
       " ('34.002406', '72.940824'),\n",
       " ('34.005007', '71.781536'),\n",
       " ('34.007854', '72.647889'),\n",
       " ('34.013717', '71.560336'),\n",
       " ('34.01917', '71.567389'),\n",
       " ('34.024297', '71.978513'),\n",
       " ('34.032193', '72.371009'),\n",
       " ('34.067911', '72.611512'),\n",
       " ('34.124826', '72.473629'),\n",
       " ('34.16277', '71.79349'),\n",
       " ('34.193328', '72.498041'),\n",
       " ('34.19543', '72.03683'),\n",
       " ('34.214243', '72.31662'),\n",
       " ('34.2963', '71.92278'),\n",
       " ('34.301547', '71.643609'),\n",
       " ('34.34301', '72.26694'),\n",
       " ('34.35742', '72.07674'),\n",
       " ('34.40373', '72.56644'),\n",
       " ('34.442986', '72.412916'),\n",
       " ('34.474562', '72.539565'),\n",
       " ('34.505544', '72.465031'),\n",
       " ('34.665108', '72.185849'),\n",
       " ('34.679399', '73.025665'),\n",
       " ('34.75781', '72.25761'),\n",
       " ('34.75825', '72.35995'),\n",
       " ('34.78407', '72.767046'),\n",
       " ('34.834895', '73.062591'),\n",
       " ('34.83938', '72.44412'),\n",
       " ('34.917146', '72.872807'),\n",
       " ('34.919632', '72.633529'),\n",
       " ('34.939234', '72.4656'),\n",
       " ('34.94665', '72.43496'),\n",
       " ('34.950385', '72.749026'),\n",
       " ('35.20626', '72.54634')]"
      ]
     },
     "execution_count": 184,
     "metadata": {},
     "output_type": "execute_result"
    }
   ],
   "source": [
    "import csv\n",
    "\n",
    "#Reading same file with CSV \n",
    "def readcoordinates_csv(filepath):\n",
    "    coordinate_list = []\n",
    "    try:\n",
    "        with open(filepath, \"r\") as readfile:\n",
    "            rowreader=csv.reader(readfile)\n",
    "            for row in rowreader:\n",
    "                lat = float(row[4])\n",
    "                lon = float(row[5])\n",
    "                csvcoordinate_list.append((lat,lon))\n",
    "    except (ValueError, IndexError):\n",
    "        print(f\"Skipping invalid Rows {row}\")\n",
    "    except FileNotFoundError:\n",
    "        print(f\"The file {filepath} was not found\")\n",
    "    return coordinate_list\n",
    "\n",
    "\n",
    "#Writing coordinates to file with normal method \n",
    "def write_coordinates(filepath,coordinate_list):\n",
    "    try:\n",
    "        with open(filepath, \"w\") as writefile:\n",
    "            for row in coordinate_list:\n",
    "                writefile.write(f\"{row[0]},{row[1]}\\n\")\n",
    "    except FileNotFoundError:\n",
    "        print(f\"Error: The file {filepath} was not found.\")\n",
    "        \n",
    "\n",
    "readfilename = \"C:\\\\SDC_Points.csv\"\n",
    "writefilename = \"D:\\\\SDC_Points_write.txt\"\n",
    "coordinate_list=[]\n",
    "coordinate_list=readcoordinates_csv(readfilename)\n",
    "write_coordinates(writefilename,coordinate_list)\n",
    "\n",
    "\n",
    "coordinate_list"
   ]
  },
  {
   "cell_type": "code",
   "execution_count": null,
   "id": "53537e77-8bb1-41a9-acaa-cd6ea27d851a",
   "metadata": {},
   "outputs": [],
   "source": []
  }
 ],
 "metadata": {
  "kernelspec": {
   "display_name": "Python 3 (ipykernel)",
   "language": "python",
   "name": "python3"
  },
  "language_info": {
   "codemirror_mode": {
    "name": "ipython",
    "version": 3
   },
   "file_extension": ".py",
   "mimetype": "text/x-python",
   "name": "python",
   "nbconvert_exporter": "python",
   "pygments_lexer": "ipython3",
   "version": "3.13.2"
  },
  "widgets": {
   "application/vnd.jupyter.widget-state+json": {
    "state": {},
    "version_major": 2,
    "version_minor": 0
   }
  }
 },
 "nbformat": 4,
 "nbformat_minor": 5
}
