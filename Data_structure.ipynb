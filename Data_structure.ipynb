{
 "cells": [
  {
   "cell_type": "code",
   "execution_count": 1,
   "id": "22199acc-5b5f-405b-9eea-c9903a2e633c",
   "metadata": {},
   "outputs": [
    {
     "data": {
      "text/plain": [
       "(35.6895, 139.6917)"
      ]
     },
     "execution_count": 1,
     "metadata": {},
     "output_type": "execute_result"
    }
   ],
   "source": [
    "point = (35.6895,\n",
    "    139.6917,)\n",
    "point"
   ]
  },
  {
   "cell_type": "code",
   "execution_count": 2,
   "id": "23eb3b5e-2831-43ec-9980-f5518dd95ffa",
   "metadata": {
    "jp-MarkdownHeadingCollapsed": true
   },
   "outputs": [
    {
     "name": "stdout",
     "output_type": "stream",
     "text": [
      "latitude 35.6895\n",
      "longtitude 139.6917\n"
     ]
    }
   ],
   "source": [
    "latitude =point[0]\n",
    "longtitude =point[1]\n",
    "print(\"latitude\",latitude)\n",
    "print(\"longtitude\",longtitude)\n"
   ]
  },
  {
   "cell_type": "code",
   "execution_count": 3,
   "id": "c8e895c0-bdfa-402b-a54e-64024c654129",
   "metadata": {},
   "outputs": [
    {
     "name": "stdout",
     "output_type": "stream",
     "text": [
      "35.6895 139.6917\n"
     ]
    }
   ],
   "source": [
    "latitude,longtitude = point\n",
    "print(latitude,longtitude)"
   ]
  },
  {
   "cell_type": "markdown",
   "id": "d7e2c45e-f865-4229-9824-ef2a33fabb45",
   "metadata": {},
   "source": [
    "## This section is for List"
   ]
  },
  {
   "cell_type": "code",
   "execution_count": 6,
   "id": "a29b4b3a-f68c-4602-9121-84d19593a19b",
   "metadata": {},
   "outputs": [
    {
     "name": "stdout",
     "output_type": "stream",
     "text": [
      "[(35.6895, 139.6917), (34.0522, -118.2437), (51.5074, -0.1278)]\n",
      "After appending: [(35.6895, 139.6917), (34.0522, -118.2437), (51.5074, -0.1278), (48.8566, 2.3522)]\n"
     ]
    }
   ],
   "source": [
    "path = [\n",
    "    (35.6895, 139.6917),\n",
    "    (34.0522, -118.2437),\n",
    "    (51.5074, -0.1278),\n",
    "]  # List of tuples representing a path\n",
    "\n",
    "print(path)\n",
    "path.append((48.8566, 2.3522))\n",
    "print(\"After appending:\",path)"
   ]
  },
  {
   "cell_type": "markdown",
   "id": "08152e3c-b97e-4e57-827a-34bad1d380ec",
   "metadata": {},
   "source": [
    "## Slicing List"
   ]
  },
  {
   "cell_type": "code",
   "execution_count": 14,
   "id": "e7d515c8-6224-442d-aa1b-b855d9cb2fba",
   "metadata": {},
   "outputs": [
    {
     "name": "stdout",
     "output_type": "stream",
     "text": [
      "First Two elements of list [(35.6895, 139.6917), (34.0522, -118.2437)]\n",
      "Last two elements of list [(51.5074, -0.1278), (48.8566, 2.3522)]\n",
      "Average Latitude: 43.8453\n",
      "Average Longtitude: -21.047875\n"
     ]
    }
   ],
   "source": [
    "start_two = path[:2]\n",
    "print(\"First Two elements of list\",start_two)\n",
    "last_two = path[2:]\n",
    "print(\"Last two elements of list\",last_two)\n",
    "\n",
    "## Average Latitude and longtitude\n",
    "\n",
    "avg_lat = sum([x for x in path[0]]) / len(path)\n",
    "avg_lon = sum([x for x in path[1]]) / len(path)\n",
    "print (f\"Average Latitude:\",avg_lat)\n",
    "print (f\"Average Longtitude:\",avg_lon)"
   ]
  },
  {
   "cell_type": "markdown",
   "id": "403173fc-428e-43a4-8ef9-32c4e7ce0371",
   "metadata": {},
   "source": [
    "### Strings "
   ]
  },
  {
   "cell_type": "code",
   "execution_count": 21,
   "id": "4cf4979c-305a-4ada-b000-87cccf7f3882",
   "metadata": {},
   "outputs": [
    {
     "name": "stdout",
     "output_type": "stream",
     "text": [
      "27.9881N  86.9250E\n",
      "27.9881  86.9250\n",
      " 86.9250\n"
     ]
    }
   ],
   "source": [
    "coordinate_string = \"27.9881N, 86.9250E\"\n",
    "latitude,longtitude = coordinate_string.split(\",\")\n",
    "print(latitude,longtitude)\n",
    "lat = latitude[:-1]\n",
    "lon = longtitude[:-1]\n",
    "print(lat,lon)\n"
   ]
  },
  {
   "cell_type": "code",
   "execution_count": 29,
   "id": "7fcef7c9-a8cf-4e97-8584-9f10570bdda2",
   "metadata": {},
   "outputs": [
    {
     "name": "stdout",
     "output_type": "stream",
     "text": [
      "Address: Street: 123 Everest Rd, City:  Kathmandu, Country: Nepal\n",
      "My city is San Francisco\n",
      "My city is San Diago\n"
     ]
    }
   ],
   "source": [
    "address = \"123 Everest Rd, Kathmandu, Nepal\"\n",
    "street,city,country = address.split(\",\")\n",
    "print(f\"Address: Street: {street}, City: {city}, Country:{country}\")\n",
    "newcity = \"My city is San Francisco\"\n",
    "print(newcity)\n",
    "oldcity=newcity.replace(\"San Francisco\", \"San Diago\")\n",
    "print(oldcity)"
   ]
  },
  {
   "cell_type": "markdown",
   "id": "858b8673-4823-4f49-b25f-44767a5ce9cb",
   "metadata": {},
   "source": [
    "### Loop over list"
   ]
  },
  {
   "cell_type": "code",
   "execution_count": 31,
   "id": "72f7ec2b-cb16-490b-85d5-08f96c71f802",
   "metadata": {},
   "outputs": [
    {
     "name": "stdout",
     "output_type": "stream",
     "text": [
      "[(35.6895, 139.6917), (34.0522, -118.2437), (51.5074, -0.1278)]\n",
      "Latitute: 35.6895, Longtitute : 139.6917\n",
      "Latitute: 34.0522, Longtitute : -118.2437\n",
      "Latitute: 51.5074, Longtitute : -0.1278\n"
     ]
    }
   ],
   "source": [
    "coordinates = [\n",
    "    (35.6895, 139.6917),\n",
    "    (34.0522, -118.2437),\n",
    "    (51.5074, -0.1278),\n",
    "]  # List of tuples representing coordinates\n",
    "print(coordinates)\n",
    "for lat,lon in coordinates:\n",
    "    print(f\"Latitute: {lat}, Longtitute : {lon}\")"
   ]
  },
  {
   "cell_type": "code",
   "execution_count": 33,
   "id": "231abeec-243d-4d78-a14d-fd55b4257900",
   "metadata": {},
   "outputs": [
    {
     "name": "stdout",
     "output_type": "stream",
     "text": [
      "Reshaped 1D Array into 2D Array:\n",
      "[[ 0  1  2  3]\n",
      " [ 4  5  6  7]\n",
      " [ 8  9 10 11]]\n"
     ]
    }
   ],
   "source": [
    "import numpy as np\n",
    "# Reshape a 1D array into a 2D array\n",
    "#arr_reshaped = np.arange(12)\n",
    "arr_reshaped = np.arange(12).reshape((3, 4))\n",
    "print(f\"Reshaped 1D Array into 2D Array:\\n{arr_reshaped}\")"
   ]
  },
  {
   "cell_type": "code",
   "execution_count": 37,
   "id": "201c0727-e1e9-4875-b8d2-182b1eead8f9",
   "metadata": {},
   "outputs": [
    {
     "name": "stdout",
     "output_type": "stream",
     "text": [
      "[[0.         1.         1.41421356 1.73205081]\n",
      " [2.         2.23606798 2.44948974 2.64575131]\n",
      " [2.82842712 3.         3.16227766 3.31662479]]\n"
     ]
    }
   ],
   "source": [
    "sqrt = np.sqrt(arr_reshaped)\n",
    "print(f\"{sqrt}\")"
   ]
  },
  {
   "cell_type": "code",
   "execution_count": 38,
   "id": "e98aa84e-75cf-453f-a5d4-74b494a5f11a",
   "metadata": {},
   "outputs": [
    {
     "name": "stdout",
     "output_type": "stream",
     "text": [
      "[[ 0.  1.  2.  3.]\n",
      " [ 4.  5.  6.  7.]\n",
      " [ 8.  9. 10. 11.]]\n"
     ]
    }
   ],
   "source": [
    "square = np.square(sqrt)\n",
    "print(f\"{square}\")"
   ]
  },
  {
   "cell_type": "code",
   "execution_count": 39,
   "id": "6057af13-3030-4a24-91c4-61e4045d2d35",
   "metadata": {},
   "outputs": [
    {
     "name": "stdout",
     "output_type": "stream",
     "text": [
      "5.5\n",
      "3.452052529534664\n"
     ]
    }
   ],
   "source": [
    "mean = np.mean(square)\n",
    "std = np.std(square)\n",
    "print(f\"{mean}\")\n",
    "print(f\"{std}\")"
   ]
  },
  {
   "cell_type": "code",
   "execution_count": 40,
   "id": "791ae176-8cf8-4263-8420-d502c2696074",
   "metadata": {},
   "outputs": [
    {
     "data": {
      "text/plain": [
       "array([[1, 2, 3],\n",
       "       [4, 5, 6],\n",
       "       [7, 8, 9]])"
      ]
     },
     "execution_count": 40,
     "metadata": {},
     "output_type": "execute_result"
    }
   ],
   "source": [
    "# Create a 2D array\n",
    "arr_2d = np.array([[1, 2, 3], [4, 5, 6], [7, 8, 9]])\n",
    "arr_2d"
   ]
  },
  {
   "cell_type": "code",
   "execution_count": 43,
   "id": "a7ae3f1a-fbff-4c57-a9ef-3383a67d4a06",
   "metadata": {},
   "outputs": [
    {
     "name": "stdout",
     "output_type": "stream",
     "text": [
      "[[1 2 3]\n",
      " [4 5 6]]\n",
      "[[4 5]\n",
      " [7 8]]\n"
     ]
    }
   ],
   "source": [
    "first2rows = arr_2d[:2,:]\n",
    "last2rows = arr_2d[1:,:2]\n",
    "print(f\"{first2rows}\")\n",
    "print(f\"{last2rows}\")"
   ]
  },
  {
   "cell_type": "code",
   "execution_count": 44,
   "id": "8cd4be9c-97f2-4640-b9ac-87dc14d01dc2",
   "metadata": {},
   "outputs": [
    {
     "name": "stdout",
     "output_type": "stream",
     "text": [
      "Iterating over rows:\n",
      "[1 2 3]\n",
      "[4 5 6]\n",
      "[7 8 9]\n",
      "\n",
      "Iterating over each element:\n",
      "1 2 3 4 5 6 7 8 9 "
     ]
    }
   ],
   "source": [
    "# Create a 2D array\n",
    "arr_2d = np.array([[1, 2, 3], [4, 5, 6], [7, 8, 9]])\n",
    "\n",
    "# Iterating through rows of the 2D array\n",
    "print(\"Iterating over rows:\")\n",
    "for row in arr_2d:\n",
    "    print(row)\n",
    "\n",
    "# Iterating through each element of the 2D array\n",
    "print(\"\\nIterating over each element:\")\n",
    "for row in arr_2d:\n",
    "    for element in row:\n",
    "        print(element, end=\" \")"
   ]
  },
  {
   "cell_type": "code",
   "execution_count": 48,
   "id": "94261e5e-28b5-4330-ade8-c139e158ae07",
   "metadata": {},
   "outputs": [
    {
     "name": "stdout",
     "output_type": "stream",
     "text": [
      "Array of Coordinates\n",
      "[[ 3.568950e+01  1.396917e+02]\n",
      " [ 3.405220e+01 -1.182437e+02]\n",
      " [ 5.150740e+01 -1.278000e-01]]\n",
      "Coordinates in radians:\n",
      "[[ 6.22899283e-01  2.43808010e+00]\n",
      " [ 5.94323008e-01 -2.06374188e+00]\n",
      " [ 8.98973719e-01 -2.23053078e-03]]\n"
     ]
    }
   ],
   "source": [
    "# Array of latitudes and longitudes\n",
    "coords = np.array([[35.6895, 139.6917], [34.0522, -118.2437], [51.5074, -0.1278]])\n",
    "\n",
    "print(f\"Array of Coordinates\\n{coords}\")\n",
    "\n",
    "# Convert degrees to radians\n",
    "coords_radians = np.radians(coords)\n",
    "print(f\"Coordinates in radians:\\n{coords_radians}\")"
   ]
  },
  {
   "cell_type": "code",
   "execution_count": 3,
   "id": "68299691-db52-4bc2-af41-95e51010ae7d",
   "metadata": {},
   "outputs": [
    {
     "name": "stdout",
     "output_type": "stream",
     "text": [
      "Array of Coordinates\n",
      "[[ 3.568950e+01  1.396917e+02]\n",
      " [ 3.405220e+01 -1.182437e+02]\n",
      " [ 5.150740e+01 -1.278000e-01]]\n",
      "Coordinates in radians:\n",
      "[[ 6.22899283e-01  2.43808010e+00]\n",
      " [ 5.94323008e-01 -2.06374188e+00]\n",
      " [ 8.98973719e-01 -2.23053078e-03]]\n"
     ]
    },
    {
     "data": {
      "text/plain": [
       "array([0.62289928, 0.59432301, 0.89897372])"
      ]
     },
     "execution_count": 3,
     "metadata": {},
     "output_type": "execute_result"
    }
   ],
   "source": [
    "import numpy as np\n",
    "# Array of latitudes and longitudes\n",
    "coords = np.array([[35.6895, 139.6917], [34.0522, -118.2437], [51.5074, -0.1278]])\n",
    "\n",
    "print(f\"Array of Coordinates\\n{coords}\")\n",
    "\n",
    "# Convert degrees to radians\n",
    "coords_radians = np.radians(coords)\n",
    "print(f\"Coordinates in radians:\\n{coords_radians}\")\n",
    "\n",
    "lat = coords_radians[:,0]\n",
    "lon = coords_radians[:,1]"
   ]
  }
 ],
 "metadata": {
  "kernelspec": {
   "display_name": "Python 3 (ipykernel)",
   "language": "python",
   "name": "python3"
  },
  "language_info": {
   "codemirror_mode": {
    "name": "ipython",
    "version": 3
   },
   "file_extension": ".py",
   "mimetype": "text/x-python",
   "name": "python",
   "nbconvert_exporter": "python",
   "pygments_lexer": "ipython3",
   "version": "3.13.2"
  },
  "widgets": {
   "application/vnd.jupyter.widget-state+json": {
    "state": {},
    "version_major": 2,
    "version_minor": 0
   }
  }
 },
 "nbformat": 4,
 "nbformat_minor": 5
}
