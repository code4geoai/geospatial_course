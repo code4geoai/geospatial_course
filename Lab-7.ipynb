{
 "cells": [
  {
   "cell_type": "markdown",
   "metadata": {},
   "source": [
    "# Lab 7"
   ]
  },
  {
   "cell_type": "markdown",
   "metadata": {},
   "source": [
    "# Exercise 1: Creating an Interactive Map\n",
    "Create an interactive map with search functionality that allows users to search for places and zoom to them. \n",
    "Disable the draw control on the map."
   ]
  },
  {
   "cell_type": "code",
   "execution_count": 1,
   "metadata": {},
   "outputs": [],
   "source": [
    "import leafmap"
   ]
  },
  {
   "cell_type": "code",
   "execution_count": null,
   "metadata": {},
   "outputs": [],
   "source": [
    "m = leafmap.Map(\n",
    "    draw_control = False,      \n",
    ")\n"
   ]
  },
  {
   "cell_type": "code",
   "execution_count": 15,
   "metadata": {},
   "outputs": [
    {
     "data": {
      "application/vnd.jupyter.widget-view+json": {
       "model_id": "17f8ce1f9271457caee15bd55aabe3ba",
       "version_major": 2,
       "version_minor": 0
      },
      "text/plain": [
       "Map(center=[20, 0], controls=(ZoomControl(options=['position', 'zoom_in_text', 'zoom_in_title', 'zoom_out_text…"
      ]
     },
     "execution_count": 15,
     "metadata": {},
     "output_type": "execute_result"
    }
   ],
   "source": [
    "url = \"https://nominatim.openstreetmap.org/search?format=json&q={s}\"\n",
    "m.add_search_control(url, zoom=10, position=\"topleft\")\n",
    "m"
   ]
  },
  {
   "cell_type": "markdown",
   "metadata": {},
   "source": [
    "# Exercise 2: Adding XYZ and WMS Tile Layers\n",
    "\n",
    "Add a custom XYZ tile layer (USGS Topographic basemap) using the following URL:\n",
    "URL: https://basemap.nationalmap.gov/arcgis/rest/services/USGSTopo/MapServer/tile/{z}/{y}/{x}\n",
    "\n",
    "Add two WMS layers to visualize NAIP imagery and NDVI using a USGS WMS service.\n",
    "URL: https://imagery.nationalmap.gov/arcgis/services/USGSNAIPImagery/ImageServer/WMSServer?\n",
    "\n",
    "Layer names: USGSNAIPImagery:FalseColorComposite, USGSNAIPImagery:NDVI_Color\n",
    "\n"
   ]
  },
  {
   "cell_type": "code",
   "execution_count": 18,
   "metadata": {},
   "outputs": [
    {
     "data": {
      "application/vnd.jupyter.widget-view+json": {
       "model_id": "5edea110e49f4a95ba1f9f1df2fe356f",
       "version_major": 2,
       "version_minor": 0
      },
      "text/plain": [
       "Map(center=[20, 0], controls=(ZoomControl(options=['position', 'zoom_in_text', 'zoom_in_title', 'zoom_out_text…"
      ]
     },
     "execution_count": 18,
     "metadata": {},
     "output_type": "execute_result"
    }
   ],
   "source": [
    "m2 = leafmap.Map()\n",
    "m2.add_tile_layer(\n",
    "    url = 'https://basemap.nationalmap.gov/arcgis/rest/services/USGSTopo/MapServer/tile/{z}/{y}/{x}',\n",
    "    name = 'USGS Topographic',\n",
    "    attribution = 'USGS'\n",
    ")\n",
    "m2"
   ]
  },
  {
   "cell_type": "code",
   "execution_count": null,
   "metadata": {},
   "outputs": [],
   "source": []
  },
  {
   "cell_type": "code",
   "execution_count": 35,
   "metadata": {},
   "outputs": [
    {
     "data": {
      "application/vnd.jupyter.widget-view+json": {
       "model_id": "caddbb2746d84ae1981eba9cf9bd83ed",
       "version_major": 2,
       "version_minor": 0
      },
      "text/plain": [
       "Map(center=[40, -100], controls=(ZoomControl(options=['position', 'zoom_in_text', 'zoom_in_title', 'zoom_out_t…"
      ]
     },
     "execution_count": 35,
     "metadata": {},
     "output_type": "execute_result"
    }
   ],
   "source": [
    "#Add two WMS layers to visualize NAIP imagery and NDVI using a USGS WMS service.\n",
    "#URL: https://imagery.nationalmap.gov/arcgis/services/USGSNAIPImagery/ImageServer/WMSServer?\n",
    "\n",
    "m2_1= leafmap.Map(center = (40,-100), zoom = 4)\n",
    "url = 'https://imagery.nationalmap.gov/arcgis/services/USGSNAIPImagery/ImageServer/WMSServer?'\n",
    "m2_1.add_wms_layer(\n",
    "    url = url,\n",
    "    layers = 'USGSNAIPImagery:FalseColorComposite',\n",
    "    name = 'NAIP Imagery',\n",
    "    attribution = 'USGS',\n",
    "    format = 'image/png',\n",
    "    show=True,\n",
    ")\n",
    "m2_1"
   ]
  },
  {
   "cell_type": "code",
   "execution_count": 36,
   "metadata": {},
   "outputs": [
    {
     "data": {
      "application/vnd.jupyter.widget-view+json": {
       "model_id": "caddbb2746d84ae1981eba9cf9bd83ed",
       "version_major": 2,
       "version_minor": 0
      },
      "text/plain": [
       "Map(bottom=1851.0, center=[40, -100], controls=(ZoomControl(options=['position', 'zoom_in_text', 'zoom_in_titl…"
      ]
     },
     "execution_count": 36,
     "metadata": {},
     "output_type": "execute_result"
    }
   ],
   "source": [
    "m2_1.add_wms_layer(\n",
    "    url = url,\n",
    "    layers = 'USGSNAIPImagery:NDVI_Color',\n",
    "    name = 'NAIP NVDI',\n",
    "    attribution = 'USGS',\n",
    "    format = 'image/png',\n",
    "    show=True,\n",
    ")\n",
    "m2_1"
   ]
  },
  {
   "cell_type": "code",
   "execution_count": null,
   "metadata": {},
   "outputs": [],
   "source": [
    "# To remove additional layers if executed multiple times\n",
    "# m2_1.remove(m2_1.layers[-1])"
   ]
  },
  {
   "cell_type": "markdown",
   "metadata": {},
   "source": [
    "# Exercise 3: Adding Map Legends\n",
    "Add the ESA World Cover WMS tile layer to the map.\n",
    "\n",
    "URL: https://services.terrascope.be/wms/v2?\n",
    "\n",
    "Layer name: WORLDCOVER_2021_MAP\n",
    "\n",
    "Add a legend to the map using the leafmap built-in ESA_WorldCover legend."
   ]
  },
  {
   "cell_type": "code",
   "execution_count": 42,
   "metadata": {},
   "outputs": [
    {
     "data": {
      "application/vnd.jupyter.widget-view+json": {
       "model_id": "c6e3058eca904254bbb1387c574bce16",
       "version_major": 2,
       "version_minor": 0
      },
      "text/plain": [
       "Map(center=[20, 0], controls=(ZoomControl(options=['position', 'zoom_in_text', 'zoom_in_title', 'zoom_out_text…"
      ]
     },
     "execution_count": 42,
     "metadata": {},
     "output_type": "execute_result"
    }
   ],
   "source": [
    "m3 = leafmap.Map()\n",
    "url = 'https://services.terrascope.be/wms/v2?'\n",
    "m3.add_wms_layer(\n",
    "    url = url,\n",
    "    layers = 'WORLDCOVER_2021_MAP',\n",
    "    name= 'World Cover 2021',\n",
    "    attribution = 'USGS',\n",
    "    format = 'image/png',\n",
    "    show=True,\n",
    ")\n",
    "m3.add_legend(title = 'ESA World Cover',builtin_legend='ESA_WorldCover' )\n",
    "m3"
   ]
  },
  {
   "cell_type": "markdown",
   "metadata": {},
   "source": [
    "# Exercise 4: Creating Marker Clusters\n",
    "Create a marker cluster visualization from a GeoJSON file of building centroids:\n",
    "\n",
    "URL: https://github.com/opengeos/datasets/releases/download/places/wa_building_centroids.geojson\n",
    "\n",
    "Hint: Read the GeoJSON file using GeoPandas and add “latitude” and “longitude” columns to the GeoDataFrame.\n",
    "\n",
    "Create circle markers for each building centroid using the Map.add_circle_markers_from_xy() method with the following styling:\n",
    "\n",
    "Radius: 5\n",
    "\n",
    "Outline color: “red”\n",
    "\n",
    "Fill color: “yellow”\n",
    "\n",
    "Fill opacity: 0.8"
   ]
  },
  {
   "cell_type": "code",
   "execution_count": 2,
   "metadata": {},
   "outputs": [
    {
     "data": {
      "text/html": [
       "<div>\n",
       "<style scoped>\n",
       "    .dataframe tbody tr th:only-of-type {\n",
       "        vertical-align: middle;\n",
       "    }\n",
       "\n",
       "    .dataframe tbody tr th {\n",
       "        vertical-align: top;\n",
       "    }\n",
       "\n",
       "    .dataframe thead th {\n",
       "        text-align: right;\n",
       "    }\n",
       "</style>\n",
       "<table border=\"1\" class=\"dataframe\">\n",
       "  <thead>\n",
       "    <tr style=\"text-align: right;\">\n",
       "      <th></th>\n",
       "      <th>Class</th>\n",
       "      <th>Confidence</th>\n",
       "      <th>Shape_Leng</th>\n",
       "      <th>Shape_Area</th>\n",
       "      <th>geometry</th>\n",
       "    </tr>\n",
       "  </thead>\n",
       "  <tbody>\n",
       "    <tr>\n",
       "      <th>0</th>\n",
       "      <td>1</td>\n",
       "      <td>28.905460</td>\n",
       "      <td>68.457069</td>\n",
       "      <td>292.568026</td>\n",
       "      <td>POINT (-117.60109 47.65499)</td>\n",
       "    </tr>\n",
       "    <tr>\n",
       "      <th>1</th>\n",
       "      <td>1</td>\n",
       "      <td>99.420196</td>\n",
       "      <td>97.152785</td>\n",
       "      <td>556.702899</td>\n",
       "      <td>POINT (-117.59953 47.65533)</td>\n",
       "    </tr>\n",
       "    <tr>\n",
       "      <th>2</th>\n",
       "      <td>1</td>\n",
       "      <td>95.450807</td>\n",
       "      <td>90.916993</td>\n",
       "      <td>492.940128</td>\n",
       "      <td>POINT (-117.59991 47.65514)</td>\n",
       "    </tr>\n",
       "    <tr>\n",
       "      <th>3</th>\n",
       "      <td>1</td>\n",
       "      <td>91.446453</td>\n",
       "      <td>85.645123</td>\n",
       "      <td>453.842109</td>\n",
       "      <td>POINT (-117.59953 47.65575)</td>\n",
       "    </tr>\n",
       "    <tr>\n",
       "      <th>4</th>\n",
       "      <td>1</td>\n",
       "      <td>90.172392</td>\n",
       "      <td>78.057638</td>\n",
       "      <td>380.403649</td>\n",
       "      <td>POINT (-117.59989 47.65534)</td>\n",
       "    </tr>\n",
       "  </tbody>\n",
       "</table>\n",
       "</div>"
      ],
      "text/plain": [
       "  Class  Confidence  Shape_Leng  Shape_Area                     geometry\n",
       "0     1   28.905460   68.457069  292.568026  POINT (-117.60109 47.65499)\n",
       "1     1   99.420196   97.152785  556.702899  POINT (-117.59953 47.65533)\n",
       "2     1   95.450807   90.916993  492.940128  POINT (-117.59991 47.65514)\n",
       "3     1   91.446453   85.645123  453.842109  POINT (-117.59953 47.65575)\n",
       "4     1   90.172392   78.057638  380.403649  POINT (-117.59989 47.65534)"
      ]
     },
     "execution_count": 2,
     "metadata": {},
     "output_type": "execute_result"
    }
   ],
   "source": [
    "import geopandas as gpd\n",
    "url = 'https://github.com/opengeos/datasets/releases/download/places/wa_building_centroids.geojson'\n",
    "data=gpd.read_file(url)\n",
    "data.head()\n"
   ]
  },
  {
   "cell_type": "code",
   "execution_count": 3,
   "metadata": {},
   "outputs": [
    {
     "data": {
      "text/html": [
       "<div>\n",
       "<style scoped>\n",
       "    .dataframe tbody tr th:only-of-type {\n",
       "        vertical-align: middle;\n",
       "    }\n",
       "\n",
       "    .dataframe tbody tr th {\n",
       "        vertical-align: top;\n",
       "    }\n",
       "\n",
       "    .dataframe thead th {\n",
       "        text-align: right;\n",
       "    }\n",
       "</style>\n",
       "<table border=\"1\" class=\"dataframe\">\n",
       "  <thead>\n",
       "    <tr style=\"text-align: right;\">\n",
       "      <th></th>\n",
       "      <th>Class</th>\n",
       "      <th>Confidence</th>\n",
       "      <th>Shape_Leng</th>\n",
       "      <th>Shape_Area</th>\n",
       "      <th>geometry</th>\n",
       "      <th>longitude</th>\n",
       "      <th>latitude</th>\n",
       "    </tr>\n",
       "  </thead>\n",
       "  <tbody>\n",
       "    <tr>\n",
       "      <th>0</th>\n",
       "      <td>1</td>\n",
       "      <td>28.905460</td>\n",
       "      <td>68.457069</td>\n",
       "      <td>292.568026</td>\n",
       "      <td>POINT (-117.60109 47.65499)</td>\n",
       "      <td>-117.601092</td>\n",
       "      <td>47.654993</td>\n",
       "    </tr>\n",
       "    <tr>\n",
       "      <th>1</th>\n",
       "      <td>1</td>\n",
       "      <td>99.420196</td>\n",
       "      <td>97.152785</td>\n",
       "      <td>556.702899</td>\n",
       "      <td>POINT (-117.59953 47.65533)</td>\n",
       "      <td>-117.599525</td>\n",
       "      <td>47.655326</td>\n",
       "    </tr>\n",
       "    <tr>\n",
       "      <th>2</th>\n",
       "      <td>1</td>\n",
       "      <td>95.450807</td>\n",
       "      <td>90.916993</td>\n",
       "      <td>492.940128</td>\n",
       "      <td>POINT (-117.59991 47.65514)</td>\n",
       "      <td>-117.599910</td>\n",
       "      <td>47.655143</td>\n",
       "    </tr>\n",
       "    <tr>\n",
       "      <th>3</th>\n",
       "      <td>1</td>\n",
       "      <td>91.446453</td>\n",
       "      <td>85.645123</td>\n",
       "      <td>453.842109</td>\n",
       "      <td>POINT (-117.59953 47.65575)</td>\n",
       "      <td>-117.599532</td>\n",
       "      <td>47.655747</td>\n",
       "    </tr>\n",
       "    <tr>\n",
       "      <th>4</th>\n",
       "      <td>1</td>\n",
       "      <td>90.172392</td>\n",
       "      <td>78.057638</td>\n",
       "      <td>380.403649</td>\n",
       "      <td>POINT (-117.59989 47.65534)</td>\n",
       "      <td>-117.599892</td>\n",
       "      <td>47.655336</td>\n",
       "    </tr>\n",
       "  </tbody>\n",
       "</table>\n",
       "</div>"
      ],
      "text/plain": [
       "  Class  Confidence  Shape_Leng  Shape_Area                     geometry  \\\n",
       "0     1   28.905460   68.457069  292.568026  POINT (-117.60109 47.65499)   \n",
       "1     1   99.420196   97.152785  556.702899  POINT (-117.59953 47.65533)   \n",
       "2     1   95.450807   90.916993  492.940128  POINT (-117.59991 47.65514)   \n",
       "3     1   91.446453   85.645123  453.842109  POINT (-117.59953 47.65575)   \n",
       "4     1   90.172392   78.057638  380.403649  POINT (-117.59989 47.65534)   \n",
       "\n",
       "    longitude   latitude  \n",
       "0 -117.601092  47.654993  \n",
       "1 -117.599525  47.655326  \n",
       "2 -117.599910  47.655143  \n",
       "3 -117.599532  47.655747  \n",
       "4 -117.599892  47.655336  "
      ]
     },
     "execution_count": 3,
     "metadata": {},
     "output_type": "execute_result"
    }
   ],
   "source": [
    "# Hint: Read the GeoJSON file using GeoPandas and add “latitude” and “longitude” columns to the GeoDataFrame.\n",
    "data['longitude'] = data['geometry'].x\n",
    "data['latitude'] = data['geometry'].y\n",
    "\n",
    "data.head()"
   ]
  },
  {
   "cell_type": "code",
   "execution_count": null,
   "metadata": {},
   "outputs": [
    {
     "data": {
      "application/vnd.jupyter.widget-view+json": {
       "model_id": "ebe62ea4e8214451bb604a0544170828",
       "version_major": 2,
       "version_minor": 0
      },
      "text/plain": [
       "Map(center=[47.653782020434534, -117.59851365801971], controls=(ZoomControl(options=['position', 'zoom_in_text…"
      ]
     },
     "execution_count": 34,
     "metadata": {},
     "output_type": "execute_result"
    }
   ],
   "source": [
    "# Create circle markers for each building centroid using the Map.add_circle_markers_from_xy() method with the following styling:\n",
    "# Radius: 5\n",
    "#Outline color: “red”\n",
    "#Fill color: “yellow”\n",
    "#Fill opacity: 0.8\n",
    "m4 = leafmap.Map(center = (47.653782020434534, -117.59851365801971),zoom=17)\n",
    "m4.add_circle_markers_from_xy(\n",
    "    data=data,\n",
    "    x= 'longitude',\n",
    "    y='latitude',\n",
    "    radius = 5,\n",
    "    fill_color = 'yellow',\n",
    "    color = 'red',\n",
    "    opacity = 0.8\n",
    ")\n",
    "m4\n"
   ]
  },
  {
   "cell_type": "markdown",
   "metadata": {},
   "source": [
    "# Exercise 5: Visualizing Vector Data\n",
    "Visualize the building polygons GeoJSON file and style it with:\n",
    "\n",
    "Outline color: “red”\n",
    "No fill color\n",
    "URL: 'https://github.com/opengeos/datasets/releases/download/places/wa_overture_buildings.geojson'\n",
    "\n",
    "Visualize the road polylines GeoJSON file and style it with:\n",
    "Line color: “red”\n",
    "Line width: 2\n",
    "URL: 'https://github.com/opengeos/datasets/releases/download/places/las_vegas_roads.geojson'\n",
    "\n",
    "Create a choropleth map of county areas in the US:\n",
    "URL: 'https://github.com/opengeos/datasets/releases/download/us/us_counties.geojson'\n",
    "Column: CENSUSAREA"
   ]
  }
 ],
 "metadata": {
  "kernelspec": {
   "display_name": "base",
   "language": "python",
   "name": "python3"
  },
  "language_info": {
   "codemirror_mode": {
    "name": "ipython",
    "version": 3
   },
   "file_extension": ".py",
   "mimetype": "text/x-python",
   "name": "python",
   "nbconvert_exporter": "python",
   "pygments_lexer": "ipython3",
   "version": "3.13.2"
  }
 },
 "nbformat": 4,
 "nbformat_minor": 2
}
