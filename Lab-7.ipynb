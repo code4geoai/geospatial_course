{
 "cells": [
  {
   "cell_type": "markdown",
   "metadata": {},
   "source": [
    "# Lab 7"
   ]
  },
  {
   "cell_type": "markdown",
   "metadata": {},
   "source": [
    "# Exercise 1: Creating an Interactive Map\n",
    "Create an interactive map with search functionality that allows users to search for places and zoom to them. \n",
    "Disable the draw control on the map."
   ]
  },
  {
   "cell_type": "code",
   "execution_count": 10,
   "metadata": {},
   "outputs": [],
   "source": [
    "import leafmap"
   ]
  },
  {
   "cell_type": "code",
   "execution_count": null,
   "metadata": {},
   "outputs": [],
   "source": [
    "m = leafmap.Map(\n",
    "    draw_control = False,      \n",
    ")\n"
   ]
  },
  {
   "cell_type": "code",
   "execution_count": 15,
   "metadata": {},
   "outputs": [
    {
     "data": {
      "application/vnd.jupyter.widget-view+json": {
       "model_id": "17f8ce1f9271457caee15bd55aabe3ba",
       "version_major": 2,
       "version_minor": 0
      },
      "text/plain": [
       "Map(center=[20, 0], controls=(ZoomControl(options=['position', 'zoom_in_text', 'zoom_in_title', 'zoom_out_text…"
      ]
     },
     "execution_count": 15,
     "metadata": {},
     "output_type": "execute_result"
    }
   ],
   "source": [
    "url = \"https://nominatim.openstreetmap.org/search?format=json&q={s}\"\n",
    "m.add_search_control(url, zoom=10, position=\"topleft\")\n",
    "m"
   ]
  },
  {
   "cell_type": "markdown",
   "metadata": {},
   "source": [
    "# Exercise 2: Adding XYZ and WMS Tile Layers\n",
    "\n",
    "Add a custom XYZ tile layer (USGS Topographic basemap) using the following URL:\n",
    "URL: https://basemap.nationalmap.gov/arcgis/rest/services/USGSTopo/MapServer/tile/{z}/{y}/{x}\n",
    "\n",
    "Add two WMS layers to visualize NAIP imagery and NDVI using a USGS WMS service.\n",
    "URL: https://imagery.nationalmap.gov/arcgis/services/USGSNAIPImagery/ImageServer/WMSServer?\n",
    "\n",
    "Layer names: USGSNAIPImagery:FalseColorComposite, USGSNAIPImagery:NDVI_Color\n",
    "\n"
   ]
  },
  {
   "cell_type": "code",
   "execution_count": 18,
   "metadata": {},
   "outputs": [
    {
     "data": {
      "application/vnd.jupyter.widget-view+json": {
       "model_id": "5edea110e49f4a95ba1f9f1df2fe356f",
       "version_major": 2,
       "version_minor": 0
      },
      "text/plain": [
       "Map(center=[20, 0], controls=(ZoomControl(options=['position', 'zoom_in_text', 'zoom_in_title', 'zoom_out_text…"
      ]
     },
     "execution_count": 18,
     "metadata": {},
     "output_type": "execute_result"
    }
   ],
   "source": [
    "m2 = leafmap.Map()\n",
    "m2.add_tile_layer(\n",
    "    url = 'https://basemap.nationalmap.gov/arcgis/rest/services/USGSTopo/MapServer/tile/{z}/{y}/{x}',\n",
    "    name = 'USGS Topographic',\n",
    "    attribution = 'USGS'\n",
    ")\n",
    "m2"
   ]
  },
  {
   "cell_type": "code",
   "execution_count": null,
   "metadata": {},
   "outputs": [],
   "source": []
  },
  {
   "cell_type": "code",
   "execution_count": 35,
   "metadata": {},
   "outputs": [
    {
     "data": {
      "application/vnd.jupyter.widget-view+json": {
       "model_id": "caddbb2746d84ae1981eba9cf9bd83ed",
       "version_major": 2,
       "version_minor": 0
      },
      "text/plain": [
       "Map(center=[40, -100], controls=(ZoomControl(options=['position', 'zoom_in_text', 'zoom_in_title', 'zoom_out_t…"
      ]
     },
     "execution_count": 35,
     "metadata": {},
     "output_type": "execute_result"
    }
   ],
   "source": [
    "#Add two WMS layers to visualize NAIP imagery and NDVI using a USGS WMS service.\n",
    "#URL: https://imagery.nationalmap.gov/arcgis/services/USGSNAIPImagery/ImageServer/WMSServer?\n",
    "\n",
    "m2_1= leafmap.Map(center = (40,-100), zoom = 4)\n",
    "url = 'https://imagery.nationalmap.gov/arcgis/services/USGSNAIPImagery/ImageServer/WMSServer?'\n",
    "m2_1.add_wms_layer(\n",
    "    url = url,\n",
    "    layers = 'USGSNAIPImagery:FalseColorComposite',\n",
    "    name = 'NAIP Imagery',\n",
    "    attribution = 'USGS',\n",
    "    format = 'image/png',\n",
    "    show=True,\n",
    ")\n",
    "m2_1"
   ]
  },
  {
   "cell_type": "code",
   "execution_count": 36,
   "metadata": {},
   "outputs": [
    {
     "data": {
      "application/vnd.jupyter.widget-view+json": {
       "model_id": "caddbb2746d84ae1981eba9cf9bd83ed",
       "version_major": 2,
       "version_minor": 0
      },
      "text/plain": [
       "Map(bottom=1851.0, center=[40, -100], controls=(ZoomControl(options=['position', 'zoom_in_text', 'zoom_in_titl…"
      ]
     },
     "execution_count": 36,
     "metadata": {},
     "output_type": "execute_result"
    }
   ],
   "source": [
    "m2_1.add_wms_layer(\n",
    "    url = url,\n",
    "    layers = 'USGSNAIPImagery:NDVI_Color',\n",
    "    name = 'NAIP NVDI',\n",
    "    attribution = 'USGS',\n",
    "    format = 'image/png',\n",
    "    show=True,\n",
    ")\n",
    "m2_1"
   ]
  },
  {
   "cell_type": "code",
   "execution_count": 34,
   "metadata": {},
   "outputs": [],
   "source": [
    "m2_1.remove(m2_1.layers[-1])"
   ]
  }
 ],
 "metadata": {
  "kernelspec": {
   "display_name": "base",
   "language": "python",
   "name": "python3"
  },
  "language_info": {
   "codemirror_mode": {
    "name": "ipython",
    "version": 3
   },
   "file_extension": ".py",
   "mimetype": "text/x-python",
   "name": "python",
   "nbconvert_exporter": "python",
   "pygments_lexer": "ipython3",
   "version": "3.13.2"
  }
 },
 "nbformat": 4,
 "nbformat_minor": 2
}
