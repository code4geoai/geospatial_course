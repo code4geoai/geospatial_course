{
 "cells": [
  {
   "cell_type": "markdown",
   "id": "c03b4d27",
   "metadata": {},
   "source": [
    "# Pabbi Mauzas Test"
   ]
  },
  {
   "cell_type": "code",
   "execution_count": 40,
   "id": "54a38fdb",
   "metadata": {},
   "outputs": [],
   "source": [
    "import leafmap\n"
   ]
  },
  {
   "cell_type": "code",
   "execution_count": 22,
   "id": "50fa153c",
   "metadata": {},
   "outputs": [],
   "source": [
    "url = 'https://github.com/code4geoai/gee/releases/download/0.1/pabbigeojson.geojson'\n",
    "m = leafmap.Map(center =[34.02043923806691, 71.78552186887966],zoom=12)\n"
   ]
  },
  {
   "cell_type": "code",
   "execution_count": 23,
   "id": "573d25f1",
   "metadata": {},
   "outputs": [
    {
     "data": {
      "application/vnd.jupyter.widget-view+json": {
       "model_id": "1b2c5e2029364e908cd745ba577e7fd8",
       "version_major": 2,
       "version_minor": 0
      },
      "text/plain": [
       "Map(center=[34.02043923806691, 71.78552186887966], controls=(ZoomControl(options=['position', 'zoom_in_text', …"
      ]
     },
     "execution_count": 23,
     "metadata": {},
     "output_type": "execute_result"
    }
   ],
   "source": [
    "m.add_basemap('Google Hybrid')\n",
    "m.add_geojson(url, layer_name='pabbigeojson', style={'color': 'red', 'weight': 2, 'opacity': 0.5})\n",
    "m"
   ]
  },
  {
   "cell_type": "code",
   "execution_count": 42,
   "id": "6b77ade1",
   "metadata": {},
   "outputs": [],
   "source": [
    "import geopandas as gpd"
   ]
  },
  {
   "cell_type": "code",
   "execution_count": 43,
   "id": "382970f0",
   "metadata": {},
   "outputs": [],
   "source": [
    "url = 'https://github.com/code4geoai/gee/releases/download/0.1/pabbigeojson.geojson'\n",
    "gdf = gpd.read_file(url)"
   ]
  },
  {
   "cell_type": "code",
   "execution_count": 44,
   "id": "a3a58ef2",
   "metadata": {},
   "outputs": [],
   "source": [
    "# Save the GeoDataFrame to a Parquet file\n",
    "gdf.to_parquet('pabbi.parquet', index=False)\n"
   ]
  },
  {
   "cell_type": "code",
   "execution_count": 45,
   "id": "202e0c0c",
   "metadata": {},
   "outputs": [],
   "source": [
    "gdf1 = gpd.read_parquet('pabbi.parquet')"
   ]
  },
  {
   "cell_type": "code",
   "execution_count": 46,
   "id": "d91caf60",
   "metadata": {},
   "outputs": [
    {
     "data": {
      "application/vnd.jupyter.widget-view+json": {
       "model_id": "3e04c4de316149ca9f58635b9556b19c",
       "version_major": 2,
       "version_minor": 0
      },
      "text/plain": [
       "Map(center=[34.02043923806691, 71.78552186887966], controls=(ZoomControl(options=['position', 'zoom_in_text', …"
      ]
     },
     "execution_count": 46,
     "metadata": {},
     "output_type": "execute_result"
    }
   ],
   "source": [
    "m = leafmap.Map(center =[34.02043923806691, 71.78552186887966],zoom=12)\n",
    "m.add_basemap('Google Hybrid')\n",
    "m.add_gdf(gdf1, layer_name='pabbigeojson')\n",
    "m"
   ]
  }
 ],
 "metadata": {
  "kernelspec": {
   "display_name": "base",
   "language": "python",
   "name": "python3"
  },
  "language_info": {
   "codemirror_mode": {
    "name": "ipython",
    "version": 3
   },
   "file_extension": ".py",
   "mimetype": "text/x-python",
   "name": "python",
   "nbconvert_exporter": "python",
   "pygments_lexer": "ipython3",
   "version": "3.13.2"
  }
 },
 "nbformat": 4,
 "nbformat_minor": 5
}
