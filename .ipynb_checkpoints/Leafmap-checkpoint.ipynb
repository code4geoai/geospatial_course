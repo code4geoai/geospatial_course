{
 "cells": [
  {
   "cell_type": "markdown",
   "metadata": {},
   "source": [
    "# Leafmap\n",
    "is built on the top of seveal well know libraries like folium, ipyleaflet etc. Leafmap extends their functionalities with a unified API.\n",
    "The default plotting backend for leafmap is ipyleaflet."
   ]
  },
  {
   "cell_type": "code",
   "execution_count": 1,
   "metadata": {},
   "outputs": [],
   "source": [
    "import leafmap"
   ]
  },
  {
   "cell_type": "code",
   "execution_count": 2,
   "metadata": {},
   "outputs": [
    {
     "data": {
      "application/vnd.jupyter.widget-view+json": {
       "model_id": "b56ca81ebadb420693ad6b74856457f1",
       "version_major": 2,
       "version_minor": 0
      },
      "text/plain": [
       "Map(center=[20, 0], controls=(ZoomControl(options=['position', 'zoom_in_text', 'zoom_in_title', 'zoom_out_text…"
      ]
     },
     "execution_count": 2,
     "metadata": {},
     "output_type": "execute_result"
    }
   ],
   "source": [
    "m = leafmap.Map()\n",
    "m"
   ]
  },
  {
   "cell_type": "code",
   "execution_count": 26,
   "metadata": {},
   "outputs": [
    {
     "data": {
      "application/vnd.jupyter.widget-view+json": {
       "model_id": "9b11a35755a34809bbecda8e4dc0a1eb",
       "version_major": 2,
       "version_minor": 0
      },
      "text/plain": [
       "Map(center=[28, 68], controls=(ZoomControl(options=['position', 'zoom_in_text', 'zoom_in_title', 'zoom_out_tex…"
      ]
     },
     "execution_count": 26,
     "metadata": {},
     "output_type": "execute_result"
    }
   ],
   "source": [
    "# Customizing the Map\n",
    "m=leafmap.Map(center = (28,68), zoom = 5, height = \"600px\")\n",
    "m"
   ]
  },
  {
   "cell_type": "code",
   "execution_count": 27,
   "metadata": {},
   "outputs": [
    {
     "data": {
      "application/vnd.jupyter.widget-view+json": {
       "model_id": "c9fa46671a5641c689f46523f20c3ad1",
       "version_major": 2,
       "version_minor": 0
      },
      "text/plain": [
       "Map(center=[20, 0], controls=(AttributionControl(options=['position', 'prefix'], position='bottomright'), Full…"
      ]
     },
     "execution_count": 27,
     "metadata": {},
     "output_type": "execute_result"
    }
   ],
   "source": [
    "# Adding or Removing Controls\n",
    "# By default the map contains controls like zoom, fullscreen etc and can be toggled\n",
    "\n",
    "m = leafmap.Map(\n",
    "zoom_control=False,\n",
    "#draw_control = False,\n",
    ")\n",
    "m\n"
   ]
  },
  {
   "cell_type": "markdown",
   "metadata": {},
   "source": [
    "# Working with Layers\n",
    "m.layers\n",
    "# m.add(item) where item is layer or control instance\n",
    "# m.remove((item))\n",
    "# m.remove(m.layers[-1]) to remove the last layer\n",
    "# m.clear_controls()\n",
    "# m.clear_layers ()\n",
    "\n",
    "# more details are on https://ipyleaflet.readthedocs.io/en/latest/map_and_basemaps/map.html#map\n"
   ]
  },
  {
   "cell_type": "markdown",
   "metadata": {},
   "source": [
    "# Changing Basemaps"
   ]
  },
  {
   "cell_type": "code",
   "execution_count": 28,
   "metadata": {},
   "outputs": [
    {
     "data": {
      "application/vnd.jupyter.widget-view+json": {
       "model_id": "5254f61b7c634849a32b0fd2062837a7",
       "version_major": 2,
       "version_minor": 0
      },
      "text/plain": [
       "Map(center=[20, 0], controls=(ZoomControl(options=['position', 'zoom_in_text', 'zoom_in_title', 'zoom_out_text…"
      ]
     },
     "execution_count": 28,
     "metadata": {},
     "output_type": "execute_result"
    }
   ],
   "source": [
    "m = leafmap.Map()\n",
    "m.add_basemap_gui()\n",
    "m"
   ]
  },
  {
   "cell_type": "code",
   "execution_count": 29,
   "metadata": {},
   "outputs": [
    {
     "data": {
      "application/vnd.jupyter.widget-view+json": {
       "model_id": "2e4ef0cf5713436fac3b24691b1321ae",
       "version_major": 2,
       "version_minor": 0
      },
      "text/plain": [
       "Map(center=[20, 0], controls=(ZoomControl(options=['position', 'zoom_in_text', 'zoom_in_title', 'zoom_out_text…"
      ]
     },
     "execution_count": 29,
     "metadata": {},
     "output_type": "execute_result"
    }
   ],
   "source": [
    "# Adding an XYZ tile Layer\n",
    "m = leafmap.Map()\n",
    "m.add_tile_layer(\n",
    "    url=\"https://mt1.google.com/vt/lyrs=y&x={x}&y={y}&z={z}\",\n",
    "    name=\"Google Satellite\",\n",
    "    attribution=\"Google\",\n",
    "\n",
    ")\n",
    "m"
   ]
  },
  {
   "cell_type": "code",
   "execution_count": 31,
   "metadata": {},
   "outputs": [
    {
     "data": {
      "application/vnd.jupyter.widget-view+json": {
       "model_id": "62415d581f234fcbab41256157903504",
       "version_major": 2,
       "version_minor": 0
      },
      "text/plain": [
       "Map(center=[40, -100], controls=(ZoomControl(options=['position', 'zoom_in_text', 'zoom_in_title', 'zoom_out_t…"
      ]
     },
     "execution_count": 31,
     "metadata": {},
     "output_type": "execute_result"
    }
   ],
   "source": [
    "m = leafmap.Map(center = (40,-100),zoom =4)\n",
    "url = \"https://imagery.nationalmap.gov/arcgis/services/USGSNAIPImagery/ImageServer/WMSServer?\"\n",
    "m.add_wms_layer(\n",
    "    url=url,\n",
    "    layers=\"USGSNAIPImagery:FalseColorComposite\",\n",
    "    name=\"NAIP\",\n",
    "    attribution=\"USGS\",\n",
    "    format=\"image/png\",\n",
    "    shown=True,\n",
    ")\n",
    "m"
   ]
  },
  {
   "cell_type": "code",
   "execution_count": 45,
   "metadata": {},
   "outputs": [
    {
     "data": {
      "application/vnd.jupyter.widget-view+json": {
       "model_id": "90d5e359a1fe4dd086579af53c21dc2c",
       "version_major": 2,
       "version_minor": 0
      },
      "text/plain": [
       "Map(center=[20, 0], controls=(ZoomControl(options=['position', 'zoom_in_text', 'zoom_in_title', 'zoom_out_text…"
      ]
     },
     "execution_count": 45,
     "metadata": {},
     "output_type": "execute_result"
    }
   ],
   "source": [
    "# Adding a Marker\n",
    "\n",
    "m = leafmap.Map()\n",
    "location = [[40,-100],[40,0],[34,71.5],[40,100]]\n",
    "m.add_markers(location)\n",
    "m"
   ]
  },
  {
   "cell_type": "code",
   "execution_count": 59,
   "metadata": {},
   "outputs": [
    {
     "data": {
      "application/vnd.jupyter.widget-view+json": {
       "model_id": "cd7aefd54cf44a8fb1543e47b8b2bf0e",
       "version_major": 2,
       "version_minor": 0
      },
      "text/plain": [
       "Map(center=[34, 71], controls=(ZoomControl(options=['position', 'zoom_in_text', 'zoom_in_title', 'zoom_out_tex…"
      ]
     },
     "execution_count": 59,
     "metadata": {},
     "output_type": "execute_result"
    }
   ],
   "source": [
    "m = leafmap.Map(center = (34,71),zoom = 3)\n",
    "url = 'c:\\SDC_Points.csv'\n",
    "m.add_marker_cluster(url,x='X',y='Y',layer_name='SDC')\n",
    "\n",
    "m"
   ]
  },
  {
   "cell_type": "markdown",
   "metadata": {},
   "source": [
    "# Customizing Markers\n",
    "\n"
   ]
  },
  {
   "cell_type": "code",
   "execution_count": 77,
   "metadata": {},
   "outputs": [
    {
     "name": "stdout",
     "output_type": "stream",
     "text": [
      "The provided color (lightred) is invalid. Using the default black color.\n",
      "'#lightred' is not in web format. Need 3 or 6 hex digit.\n"
     ]
    },
    {
     "data": {
      "application/vnd.jupyter.widget-view+json": {
       "model_id": "7bfe015d4d5e4d88a015eeadac5ce6ae",
       "version_major": 2,
       "version_minor": 0
      },
      "text/plain": [
       "Map(center=[34, 71], controls=(ZoomControl(options=['position', 'zoom_in_text', 'zoom_in_title', 'zoom_out_tex…"
      ]
     },
     "execution_count": 77,
     "metadata": {},
     "output_type": "execute_result"
    }
   ],
   "source": [
    "import pandas as pd\n",
    "m = leafmap.Map(center = (34,71), zoom = 4)\n",
    "sdc = 'c:\\SDC_Points.csv'\n",
    "districts = 'C:\\kpdistricts.geojson'\n",
    "\n",
    "m.add_geojson(districts,layer_name=\"KP Districts\")\n",
    "\n",
    "m.add_points_from_xy(\n",
    "    sdc,\n",
    "    x='X',\n",
    "    y='Y',\n",
    "    color_column='Division',\n",
    "    icon_names=['building', 'map', 'leaf', 'globe', 'star', 'heart', 'flag'],  # Ensure the number of icons matches unique values\n",
    "    spin=True,\n",
    "    add_legend=True,\n",
    ")\n",
    "\n",
    "m"
   ]
  }
 ],
 "metadata": {
  "kernelspec": {
   "display_name": "base",
   "language": "python",
   "name": "python3"
  },
  "language_info": {
   "codemirror_mode": {
    "name": "ipython",
    "version": 3
   },
   "file_extension": ".py",
   "mimetype": "text/x-python",
   "name": "python",
   "nbconvert_exporter": "python",
   "pygments_lexer": "ipython3",
   "version": "3.13.2"
  }
 },
 "nbformat": 4,
 "nbformat_minor": 2
}
